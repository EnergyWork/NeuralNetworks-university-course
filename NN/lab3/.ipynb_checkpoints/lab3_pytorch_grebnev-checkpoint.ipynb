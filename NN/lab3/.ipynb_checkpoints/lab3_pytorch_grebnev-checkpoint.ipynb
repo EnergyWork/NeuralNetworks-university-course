{
 "cells": [
  {
   "cell_type": "markdown",
   "metadata": {},
   "source": [
    "# Лабораторная работа 3. Свёрточные сети"
   ]
  },
  {
   "cell_type": "markdown",
   "metadata": {},
   "source": [
    "#### Задание 1.\n",
    "Построить свёрточную сеть LeNet-5 и обучить её распознаванию MNIST."
   ]
  },
  {
   "cell_type": "code",
   "execution_count": 26,
   "metadata": {},
   "outputs": [],
   "source": [
    "import torch\n",
    "import torch.nn as nn\n",
    "import torch.nn.functional as F\n",
    "import torchvision\n",
    "import torchvision.transforms as transforms\n",
    "import matplotlib.pyplot as plt\n",
    "from time import time"
   ]
  },
  {
   "cell_type": "code",
   "execution_count": 27,
   "metadata": {},
   "outputs": [],
   "source": [
    "import numpy as np\n",
    "from collections import OrderedDict"
   ]
  },
  {
   "cell_type": "code",
   "execution_count": 28,
   "metadata": {},
   "outputs": [
    {
     "data": {
      "text/plain": [
       "device(type='cuda')"
      ]
     },
     "execution_count": 28,
     "metadata": {},
     "output_type": "execute_result"
    }
   ],
   "source": [
    "device = torch.device('cuda' if torch.cuda.is_available() else 'cpu')\n",
    "device"
   ]
  },
  {
   "cell_type": "code",
   "execution_count": 29,
   "metadata": {},
   "outputs": [],
   "source": [
    "transforms = transforms.Compose([transforms.Resize((32, 32)),\n",
    "                                 transforms.ToTensor()])"
   ]
  },
  {
   "cell_type": "code",
   "execution_count": 30,
   "metadata": {},
   "outputs": [
    {
     "data": {
      "text/plain": [
       "Dataset MNIST\n",
       "    Number of datapoints: 60000\n",
       "    Root location: data\n",
       "    Split: Train\n",
       "    StandardTransform\n",
       "Transform: Compose(\n",
       "               Resize(size=(32, 32), interpolation=bilinear)\n",
       "               ToTensor()\n",
       "           )"
      ]
     },
     "execution_count": 30,
     "metadata": {},
     "output_type": "execute_result"
    }
   ],
   "source": [
    "train_dataset = torchvision.datasets.MNIST(root='data', \n",
    "                                           train=True, \n",
    "                                           transform=transforms,  \n",
    "                                           download=True)\n",
    "train_dataset"
   ]
  },
  {
   "cell_type": "code",
   "execution_count": 31,
   "metadata": {},
   "outputs": [
    {
     "data": {
      "text/plain": [
       "Dataset MNIST\n",
       "    Number of datapoints: 10000\n",
       "    Root location: data\n",
       "    Split: Test\n",
       "    StandardTransform\n",
       "Transform: Compose(\n",
       "               Resize(size=(32, 32), interpolation=bilinear)\n",
       "               ToTensor()\n",
       "           )"
      ]
     },
     "execution_count": 31,
     "metadata": {},
     "output_type": "execute_result"
    }
   ],
   "source": [
    "test_dataset = torchvision.datasets.MNIST(root='data', \n",
    "                                          train=False, \n",
    "                                          transform=transforms)\n",
    "test_dataset"
   ]
  },
  {
   "cell_type": "code",
   "execution_count": 32,
   "metadata": {},
   "outputs": [],
   "source": [
    "batch_size = 100\n",
    "num_classes = 10\n",
    "num_epochs = 10\n",
    "learning_rate = 0.001"
   ]
  },
  {
   "cell_type": "code",
   "execution_count": 33,
   "metadata": {},
   "outputs": [],
   "source": [
    "train_loader = torch.utils.data.DataLoader(dataset=train_dataset, \n",
    "                                           batch_size=batch_size, \n",
    "                                           shuffle=True)"
   ]
  },
  {
   "cell_type": "code",
   "execution_count": 34,
   "metadata": {},
   "outputs": [],
   "source": [
    "test_loader = torch.utils.data.DataLoader(dataset=test_dataset, \n",
    "                                          batch_size=batch_size, \n",
    "                                          shuffle=False)"
   ]
  },
  {
   "cell_type": "markdown",
   "metadata": {},
   "source": [
    "## LeNet-5"
   ]
  },
  {
   "cell_type": "code",
   "execution_count": 10,
   "metadata": {},
   "outputs": [],
   "source": [
    "class LeNet5(nn.Module):\n",
    "\n",
    "    def __init__(self, n_classes):\n",
    "        super(LeNet5, self).__init__()\n",
    "        \n",
    "        self.feature_extractor = nn.Sequential(OrderedDict([\n",
    "            ('conv1', nn.Conv2d(in_channels=1, out_channels=6, kernel_size=5, stride=1)),\n",
    "            ('tanh1', nn.Tanh()),\n",
    "            ('aver_pool1', nn.AvgPool2d(kernel_size=2)),\n",
    "            ('conv2', nn.Conv2d(in_channels=6, out_channels=16, kernel_size=5, stride=1)),\n",
    "            ('tanh2', nn.Tanh()),\n",
    "            ('aver_pool2', nn.AvgPool2d(kernel_size=2)),\n",
    "            ('conv3', nn.Conv2d(in_channels=16, out_channels=120, kernel_size=5, stride=1)),\n",
    "            ('tanh3', nn.Tanh()),\n",
    "        ]))\n",
    "\n",
    "        self.classifier = nn.Sequential(OrderedDict([\n",
    "            ('linear', nn.Linear(in_features=120, out_features=84)),\n",
    "            ('tanh_linear', nn.Tanh()),\n",
    "            ('output', nn.Linear(in_features=84, out_features=n_classes)),\n",
    "        ]))\n",
    "\n",
    "\n",
    "    def forward(self, x):\n",
    "        x = self.feature_extractor(x)\n",
    "        x = torch.flatten(x, 1)\n",
    "        logits = self.classifier(x)\n",
    "        probs = F.softmax(logits, dim=1)\n",
    "        return logits, probs"
   ]
  },
  {
   "cell_type": "code",
   "execution_count": 11,
   "metadata": {},
   "outputs": [
    {
     "data": {
      "text/plain": [
       "LeNet5(\n",
       "  (feature_extractor): Sequential(\n",
       "    (conv1): Conv2d(1, 6, kernel_size=(5, 5), stride=(1, 1))\n",
       "    (tanh1): Tanh()\n",
       "    (aver_pool1): AvgPool2d(kernel_size=2, stride=2, padding=0)\n",
       "    (conv2): Conv2d(6, 16, kernel_size=(5, 5), stride=(1, 1))\n",
       "    (tanh2): Tanh()\n",
       "    (aver_pool2): AvgPool2d(kernel_size=2, stride=2, padding=0)\n",
       "    (conv3): Conv2d(16, 120, kernel_size=(5, 5), stride=(1, 1))\n",
       "    (tanh3): Tanh()\n",
       "  )\n",
       "  (classifier): Sequential(\n",
       "    (linear): Linear(in_features=120, out_features=84, bias=True)\n",
       "    (tanh_linear): Tanh()\n",
       "    (output): Linear(in_features=84, out_features=10, bias=True)\n",
       "  )\n",
       ")"
      ]
     },
     "execution_count": 11,
     "metadata": {},
     "output_type": "execute_result"
    }
   ],
   "source": [
    "model = LeNet5(num_classes)\n",
    "model.to(device)\n",
    "model"
   ]
  },
  {
   "cell_type": "markdown",
   "metadata": {},
   "source": [
    "### Обучение"
   ]
  },
  {
   "cell_type": "code",
   "execution_count": 35,
   "metadata": {},
   "outputs": [],
   "source": [
    "def check_device(model):\n",
    "    for parameter in model.named_parameters():\n",
    "        print(f'{parameter[0]} on Cuda: {parameter[1].data.is_cuda}')"
   ]
  },
  {
   "cell_type": "code",
   "execution_count": 19,
   "metadata": {},
   "outputs": [
    {
     "name": "stdout",
     "output_type": "stream",
     "text": [
      "feature_extractor.conv1.weight on Cuda: True\n",
      "feature_extractor.conv1.bias on Cuda: True\n",
      "feature_extractor.conv2.weight on Cuda: True\n",
      "feature_extractor.conv2.bias on Cuda: True\n",
      "feature_extractor.conv3.weight on Cuda: True\n",
      "feature_extractor.conv3.bias on Cuda: True\n",
      "classifier.linear.weight on Cuda: True\n",
      "classifier.linear.bias on Cuda: True\n",
      "classifier.output.weight on Cuda: True\n",
      "classifier.output.bias on Cuda: True\n"
     ]
    }
   ],
   "source": [
    "check_device(model)"
   ]
  },
  {
   "cell_type": "code",
   "execution_count": 36,
   "metadata": {},
   "outputs": [],
   "source": [
    "def get_accuracy(m):\n",
    "    from sklearn.metrics import accuracy_score\n",
    "    pred_all = np.array([])\n",
    "    labels_all = np.array([])\n",
    "    with torch.no_grad():\n",
    "        for images, labels in test_loader:\n",
    "            images = images.to(device)\n",
    "            labels = labels.to(device)\n",
    "            outputs, _ = m(images)\n",
    "            max_values, predicted = torch.max(outputs.data, 1)\n",
    "            pred_all = np.append(pred_all, predicted.cpu().detach().numpy())\n",
    "            labels_all = np.append(labels_all, labels.cpu().detach().numpy())\n",
    "    acc = accuracy_score(pred_all, labels_all)\n",
    "    return acc"
   ]
  },
  {
   "cell_type": "code",
   "execution_count": 37,
   "metadata": {},
   "outputs": [],
   "source": [
    "optimizer = torch.optim.RMSprop(model.parameters(), lr=learning_rate)"
   ]
  },
  {
   "cell_type": "code",
   "execution_count": 38,
   "metadata": {},
   "outputs": [],
   "source": [
    "loss_fn = nn.CrossEntropyLoss()"
   ]
  },
  {
   "cell_type": "code",
   "execution_count": 39,
   "metadata": {},
   "outputs": [],
   "source": [
    "def learning(model, optimizer, num_epochs, log=False):\n",
    "    losses = []\n",
    "    total_step = len(train_loader)\n",
    "    for epoch in range(num_epochs):\n",
    "        for i, (images, labels) in enumerate(train_loader):  \n",
    "            # Move tensors to the configured device\n",
    "            images = images.to(device)\n",
    "            labels = labels.to(device)    \n",
    "            # Forward pass\n",
    "            outputs, _ = model(images)\n",
    "            loss = loss_fn(outputs, labels)\n",
    "            # Backward and optimize\n",
    "            optimizer.zero_grad()\n",
    "            loss.backward()\n",
    "            optimizer.step()  \n",
    "            if (i+1) % 100 == 0:\n",
    "                losses.append(loss.item())\n",
    "                if log: print(f'Epoch [{epoch+1}/{num_epochs}], Step [{i+1}/{total_step}], Loss: {loss.item():.4f}')\n",
    "    return (get_accuracy(model), losses)"
   ]
  },
  {
   "cell_type": "code",
   "execution_count": 40,
   "metadata": {},
   "outputs": [],
   "source": [
    "def draw(data):\n",
    "    plt.plot(data)\n",
    "    plt.ylabel('error')\n",
    "    plt.xlabel('epoches')\n",
    "    plt.show()"
   ]
  },
  {
   "cell_type": "code",
   "execution_count": 17,
   "metadata": {
    "scrolled": true
   },
   "outputs": [
    {
     "name": "stdout",
     "output_type": "stream",
     "text": [
      "Epoch [1/10], Step [100/600], Loss: 0.4211\n",
      "Epoch [1/10], Step [200/600], Loss: 0.2196\n",
      "Epoch [1/10], Step [300/600], Loss: 0.2596\n",
      "Epoch [1/10], Step [400/600], Loss: 0.1122\n",
      "Epoch [1/10], Step [500/600], Loss: 0.1681\n",
      "Epoch [1/10], Step [600/600], Loss: 0.1033\n",
      "Epoch [2/10], Step [100/600], Loss: 0.0979\n",
      "Epoch [2/10], Step [200/600], Loss: 0.1547\n",
      "Epoch [2/10], Step [300/600], Loss: 0.0406\n",
      "Epoch [2/10], Step [400/600], Loss: 0.1032\n",
      "Epoch [2/10], Step [500/600], Loss: 0.1478\n",
      "Epoch [2/10], Step [600/600], Loss: 0.0685\n",
      "Epoch [3/10], Step [100/600], Loss: 0.0637\n",
      "Epoch [3/10], Step [200/600], Loss: 0.0536\n",
      "Epoch [3/10], Step [300/600], Loss: 0.0516\n",
      "Epoch [3/10], Step [400/600], Loss: 0.0682\n",
      "Epoch [3/10], Step [500/600], Loss: 0.0188\n",
      "Epoch [3/10], Step [600/600], Loss: 0.0701\n",
      "Epoch [4/10], Step [100/600], Loss: 0.0286\n",
      "Epoch [4/10], Step [200/600], Loss: 0.1674\n",
      "Epoch [4/10], Step [300/600], Loss: 0.0143\n",
      "Epoch [4/10], Step [400/600], Loss: 0.0779\n",
      "Epoch [4/10], Step [500/600], Loss: 0.1041\n",
      "Epoch [4/10], Step [600/600], Loss: 0.0730\n",
      "Epoch [5/10], Step [100/600], Loss: 0.0455\n",
      "Epoch [5/10], Step [200/600], Loss: 0.0036\n",
      "Epoch [5/10], Step [300/600], Loss: 0.0075\n",
      "Epoch [5/10], Step [400/600], Loss: 0.0087\n",
      "Epoch [5/10], Step [500/600], Loss: 0.0346\n",
      "Epoch [5/10], Step [600/600], Loss: 0.0165\n",
      "Epoch [6/10], Step [100/600], Loss: 0.0099\n",
      "Epoch [6/10], Step [200/600], Loss: 0.0888\n",
      "Epoch [6/10], Step [300/600], Loss: 0.0033\n",
      "Epoch [6/10], Step [400/600], Loss: 0.0084\n",
      "Epoch [6/10], Step [500/600], Loss: 0.0061\n",
      "Epoch [6/10], Step [600/600], Loss: 0.0027\n",
      "Epoch [7/10], Step [100/600], Loss: 0.0038\n",
      "Epoch [7/10], Step [200/600], Loss: 0.0136\n",
      "Epoch [7/10], Step [300/600], Loss: 0.0094\n",
      "Epoch [7/10], Step [400/600], Loss: 0.0567\n",
      "Epoch [7/10], Step [500/600], Loss: 0.0017\n",
      "Epoch [7/10], Step [600/600], Loss: 0.0419\n",
      "Epoch [8/10], Step [100/600], Loss: 0.0228\n",
      "Epoch [8/10], Step [200/600], Loss: 0.0108\n",
      "Epoch [8/10], Step [300/600], Loss: 0.0018\n",
      "Epoch [8/10], Step [400/600], Loss: 0.0117\n",
      "Epoch [8/10], Step [500/600], Loss: 0.0043\n",
      "Epoch [8/10], Step [600/600], Loss: 0.0052\n",
      "Epoch [9/10], Step [100/600], Loss: 0.0176\n",
      "Epoch [9/10], Step [200/600], Loss: 0.0680\n",
      "Epoch [9/10], Step [300/600], Loss: 0.0036\n",
      "Epoch [9/10], Step [400/600], Loss: 0.0109\n",
      "Epoch [9/10], Step [500/600], Loss: 0.0128\n",
      "Epoch [9/10], Step [600/600], Loss: 0.0281\n",
      "Epoch [10/10], Step [100/600], Loss: 0.0144\n",
      "Epoch [10/10], Step [200/600], Loss: 0.0304\n",
      "Epoch [10/10], Step [300/600], Loss: 0.0095\n",
      "Epoch [10/10], Step [400/600], Loss: 0.0052\n",
      "Epoch [10/10], Step [500/600], Loss: 0.0013\n",
      "Epoch [10/10], Step [600/600], Loss: 0.0050\n"
     ]
    },
    {
     "data": {
      "image/png": "[encoded data removed]",
      "text/plain": [
       "<Figure size 432x288 with 1 Axes>"
      ]
     },
     "metadata": {
      "needs_background": "light"
     },
     "output_type": "display_data"
    },
    {
     "data": {
      "text/plain": [
       "0.987"
      ]
     },
     "execution_count": 17,
     "metadata": {},
     "output_type": "execute_result"
    }
   ],
   "source": [
    "acc, data = learning(model, optimizer, num_epochs, log=True)\n",
    "draw(data)\n",
    "acc"
   ]
  },
  {
   "cell_type": "markdown",
   "metadata": {},
   "source": [
    "#### Задание 2.\n",
    "Поэкспериментировать с параметрами LeNet-5 и найти оптимальную архитектуру для MNIST.  \n",
    "\n",
    "Параметры для подбора:\n",
    "- количество свёрточных слоев (3 5 7)\n",
    "- функция активации (Tanh, ReLU)\n",
    "- способ субдискретизации (Average, Max)\n",
    "- размер фильтров (3 5 7)\n",
    "- количество фильтров (3 5 10)"
   ]
  },
  {
   "cell_type": "code",
   "execution_count": 182,
   "metadata": {},
   "outputs": [],
   "source": [
    "list_conv_layers = [2, 3, 4]\n",
    "list_activation_func = ['tanh', 'relu']\n",
    "list_pooling = ['average', 'max']\n",
    "list_filter_size = [\n",
    "    [11, 11], # для 2x\n",
    "    [5, 5, 5], # для 3x\n",
    "    [5, 3, 3, 2], # для 4x\n",
    "]\n",
    "list_n_filters = [\n",
    "    [1, 6, 16], # для 2x\n",
    "    [1, 10, 60, 120], # для 3x\n",
    "    [1, 4, 20, 40, 120], # для 4x\n",
    "]\n",
    "\n",
    "init_func = None\n",
    "num_classes = 10\n",
    "num_epochs = 10\n",
    "learning_rate = 0.001"
   ]
  },
  {
   "cell_type": "code",
   "execution_count": 183,
   "metadata": {},
   "outputs": [],
   "source": [
    "best_params = {\n",
    "    'accuracy' : 0,\n",
    "    'n_conv_layers' : None,\n",
    "    'pooling' : None,\n",
    "    'n_filters'  : None, \n",
    "    'activation_func' : None,\n",
    "    'weight_init' : None,\n",
    "    'data' : None,\n",
    "}"
   ]
  },
  {
   "cell_type": "code",
   "execution_count": 184,
   "metadata": {},
   "outputs": [],
   "source": [
    "class CNN(nn.Module):\n",
    "\n",
    "    def __init__(self, n_classes, n_layers, activation_func, subsampling, filter_size, n_filters):\n",
    "        super(CNN, self).__init__()\n",
    "        \n",
    "        net = OrderedDict()\n",
    "        for i in range(len(filter_size)):\n",
    "            net[f'conv{i}'] = nn.Conv2d(\n",
    "                in_channels=n_filters[i], \n",
    "                out_channels=n_filters[i+1], \n",
    "                kernel_size=filter_size[i], \n",
    "                stride=1\n",
    "            )\n",
    "            net[f'actf{i}'] = self.get_activation_function(activation_func)\n",
    "            if i != len(filter_size)-1:\n",
    "                net[f'pooling{i}'] = self.get_pooling_type(subsampling)\n",
    "        \n",
    "        self.feature_extractor = nn.Sequential(net)\n",
    "\n",
    "        self.classifier = nn.Sequential(OrderedDict([\n",
    "            ('linear', nn.Linear(in_features=n_filters[-1], out_features=84)),\n",
    "            ('actf_linear', self.get_activation_function(activation_func)),\n",
    "            ('output', nn.Linear(in_features=84, out_features=n_classes)),\n",
    "        ]))\n",
    "        \n",
    "    def get_activation_function(self, af):\n",
    "        if af == 'tanh':\n",
    "            return nn.Tanh()\n",
    "        elif af == 'relu':\n",
    "            return nn.ReLU()\n",
    "        return nn.ReLU()\n",
    "    \n",
    "    def get_pooling_type(self, t):\n",
    "        return nn.AvgPool2d(kernel_size=2) if t == 'average' else nn.MaxPool2d(kernel_size=2)\n",
    "\n",
    "    def forward(self, x):\n",
    "        x = self.feature_extractor(x)\n",
    "        x = torch.flatten(x, 1)\n",
    "        logits = self.classifier(x)\n",
    "        probs = F.softmax(logits, dim=1)\n",
    "        return logits, probs"
   ]
  },
  {
   "cell_type": "code",
   "execution_count": 185,
   "metadata": {},
   "outputs": [],
   "source": [
    "def init_weights(m):\n",
    "    if type(m) == nn.Linear:\n",
    "        if init_func == 'xavier':\n",
    "            torch.nn.init.xavier_uniform_(m.weight, gain=1)\n",
    "        elif init_func == 'kaiming':\n",
    "            torch.nn.init.kaiming_uniform_(m.weight, a=0, mode='fan_in', nonlinearity='leaky_relu')    \n",
    "        m.bias.data.fill_(0.01)"
   ]
  },
  {
   "cell_type": "code",
   "execution_count": 186,
   "metadata": {},
   "outputs": [],
   "source": [
    "def get_activation_function(af):\n",
    "    if af == 'tanh':\n",
    "        return torch.tanh\n",
    "    elif af == 'relu':\n",
    "        return torch.relu\n",
    "    return torch.relu"
   ]
  },
  {
   "cell_type": "code",
   "execution_count": 187,
   "metadata": {},
   "outputs": [],
   "source": [
    "loss_fn = nn.CrossEntropyLoss()"
   ]
  },
  {
   "cell_type": "code",
   "execution_count": 188,
   "metadata": {},
   "outputs": [],
   "source": [
    "from tqdm.notebook import tqdm"
   ]
  },
  {
   "cell_type": "code",
   "execution_count": 194,
   "metadata": {
    "scrolled": true
   },
   "outputs": [
    {
     "data": {
      "application/vnd.jupyter.widget-view+json": {
       "model_id": "31697ecd4e6b47e782a89991d1142d7a",
       "version_major": 2,
       "version_minor": 0
      },
      "text/plain": [
       "HBox(children=(HTML(value=''), FloatProgress(value=0.0, max=12.0), HTML(value='')))"
      ]
     },
     "metadata": {},
     "output_type": "display_data"
    },
    {
     "name": "stdout",
     "output_type": "stream",
     "text": [
      "Update\n",
      " {'accuracy': 0.982, 'n_conv_layers': 2, 'pooling': 'average', 'n_filters': [11, 11], 'activation_func': 'tanh', 'weight_init': 'xavier', 'data': [0.35549232363700867, 0.1650865375995636, 0.322992742061615, 0.356495201587677, 0.13780100643634796, 0.19126899540424347, 0.09112794697284698, 0.13177666068077087, 0.20147942006587982, 0.17811502516269684, 0.11910361051559448, 0.10495870560407639, 0.09335272759199142, 0.0874302014708519, 0.08506322652101517, 0.07924330979585648, 0.050622615963220596, 0.12259677797555923, 0.14925794303417206, 0.08187926560640335, 0.0412079319357872, 0.05572257936000824, 0.05366463586688042, 0.026629773899912834, 0.07427385449409485, 0.06337583810091019, 0.09116289019584656, 0.1348109394311905, 0.06304547935724258, 0.013038882985711098, 0.07149327546358109, 0.05067829042673111, 0.05002614110708237, 0.1323316991329193, 0.057347942143678665, 0.08246602863073349, 0.14033235609531403, 0.09803111851215363, 0.02846338041126728, 0.08773498237133026, 0.01347716711461544, 0.05927218496799469, 0.05664411187171936, 0.08090122044086456, 0.0634763315320015, 0.05137021839618683, 0.01378299854695797, 0.03837231919169426, 0.050898801535367966, 0.04289945214986801, 0.01303813699632883, 0.024653227999806404, 0.03941437602043152, 0.04381181672215462, 0.03432575613260269, 0.012777200900018215, 0.02013043873012066, 0.09617185592651367, 0.041120290756225586, 0.15523459017276764]}\n",
      "Update\n",
      " {'accuracy': 0.9858, 'n_conv_layers': 3, 'pooling': 'average', 'n_filters': [5, 5, 5], 'activation_func': 'tanh', 'weight_init': 'xavier', 'data': [0.3118162453174591, 0.2549820840358734, 0.141773983836174, 0.13006696105003357, 0.06800472736358643, 0.1006309986114502, 0.09398014843463898, 0.14171047508716583, 0.22507792711257935, 0.1875094175338745, 0.13414469361305237, 0.11157196015119553, 0.06126980483531952, 0.1236036941409111, 0.0602845661342144, 0.08272194862365723, 0.07061520963907242, 0.05900075286626816, 0.0316041000187397, 0.05649985000491142, 0.056847263127565384, 0.03718121349811554, 0.03978772088885307, 0.06356333196163177, 0.02059021219611168, 0.011336375027894974, 0.06353349983692169, 0.02459057979285717, 0.08771050721406937, 0.0053373356349766254, 0.06560943275690079, 0.0763903558254242, 0.07022492587566376, 0.055755943059921265, 0.046379223465919495, 0.03611261397600174, 0.00901972409337759, 0.006994664203375578, 0.007202946115285158, 0.01216085348278284, 0.050878580659627914, 0.02132251113653183, 0.017327822744846344, 0.009161324240267277, 0.0094956886023283, 0.008757115341722965, 0.03237880393862724, 0.008416851982474327, 0.007105616852641106, 0.006057270802557468, 0.017903251573443413, 0.019166767597198486, 0.0049496483989059925, 0.008797144517302513, 0.020550627261400223, 0.0067745354026556015, 0.005465760361403227, 0.05523280054330826, 0.03337546065449715, 0.00718306191265583]}\n",
      "Update\n",
      " {'accuracy': 0.9873, 'n_conv_layers': 4, 'pooling': 'average', 'n_filters': [5, 3, 3, 2], 'activation_func': 'tanh', 'weight_init': 'xavier', 'data': [0.3712911307811737, 0.3293294906616211, 0.2282980978488922, 0.3023937940597534, 0.2458081841468811, 0.2686206102371216, 0.14370112121105194, 0.06521108746528625, 0.14474999904632568, 0.14296920597553253, 0.11554625630378723, 0.020780347287654877, 0.05446474626660347, 0.10759077221155167, 0.10666602849960327, 0.17548392713069916, 0.0540478341281414, 0.0280534029006958, 0.07722905278205872, 0.018012557178735733, 0.165513813495636, 0.023764051496982574, 0.13646838068962097, 0.08897029608488083, 0.020606674253940582, 0.030188120901584625, 0.03636247292160988, 0.06948145478963852, 0.019528839737176895, 0.07108733803033829, 0.06389042735099792, 0.025075798854231834, 0.017452698200941086, 0.050226349383592606, 0.03806743398308754, 0.06532642990350723, 0.054209791123867035, 0.018216323107481003, 0.03238998353481293, 0.06650549918413162, 0.020751243457198143, 0.022204194217920303, 0.013015227392315865, 0.060207534581422806, 0.034709978848695755, 0.04096347838640213, 0.020008129999041557, 0.02359752357006073, 0.007941207848489285, 0.029842087998986244, 0.05172668397426605, 0.010435852222144604, 0.06529305130243301, 0.016259504482150078, 0.004415951203554869, 0.0428643673658371, 0.02406085468828678, 0.006217502523213625, 0.06579315662384033, 0.01183024886995554]}\n",
      "Update\n",
      " {'accuracy': 0.9876, 'n_conv_layers': 3, 'pooling': 'max', 'n_filters': [5, 5, 5], 'activation_func': 'tanh', 'weight_init': 'xavier', 'data': [0.21069730818271637, 0.17787812650203705, 0.0358206182718277, 0.05122992396354675, 0.04125700518488884, 0.09039828181266785, 0.04958733543753624, 0.07724029570817947, 0.009563080966472626, 0.014075696468353271, 0.0878823846578598, 0.0063528441824018955, 0.05753616243600845, 0.01567871868610382, 0.00671599805355072, 0.02141215093433857, 0.03927095979452133, 0.005455951206386089, 0.08336764574050903, 0.009530296549201012, 0.042014751583337784, 0.03408121317625046, 0.07646214216947556, 0.020381074398756027, 0.026844484731554985, 0.0013589862501248717, 0.00945855863392353, 0.004520605783909559, 0.005623762030154467, 0.007660280913114548, 0.005274723283946514, 0.009496178478002548, 0.003574146656319499, 0.02766016498208046, 0.031465813517570496, 0.05008284002542496, 0.0008376264595426619, 0.02131650596857071, 0.01886766403913498, 0.0021092132665216923, 0.04137153550982475, 0.0016174826305359602, 0.0011596083641052246, 0.01803155429661274, 0.0013788924552500248, 0.06346483528614044, 0.05860263854265213, 0.005149200093001127, 0.026555171236395836, 0.0007525343680754304, 0.022731687873601913, 0.025150837376713753, 0.028428224846720695, 0.013865961693227291, 0.02200019359588623, 0.0006210100837051868, 0.05722643807530403, 0.002816519234329462, 0.0011279803002253175, 0.010168850421905518]}\n",
      "Update\n",
      " {'accuracy': 0.9896, 'n_conv_layers': 4, 'pooling': 'max', 'n_filters': [5, 3, 3, 2], 'activation_func': 'tanh', 'weight_init': 'xavier', 'data': [0.09785182774066925, 0.13752175867557526, 0.11603593081235886, 0.08869388699531555, 0.20052948594093323, 0.15853215754032135, 0.11226741969585419, 0.05932433903217316, 0.039237700402736664, 0.027615314349532127, 0.02234378270804882, 0.03965786099433899, 0.07383756339550018, 0.022237436845898628, 0.021442316472530365, 0.06803126633167267, 0.012270219624042511, 0.04434711113572121, 0.03897088021039963, 0.034266069531440735, 0.023036587983369827, 0.07110603153705597, 0.050101276487112045, 0.049097999930381775, 0.029876042157411575, 0.003851897083222866, 0.09874255210161209, 0.012367741204798222, 0.08174139261245728, 0.011277353391051292, 0.006704528816044331, 0.036368221044540405, 0.03262611851096153, 0.00900739710777998, 0.04917951673269272, 0.007167124655097723, 0.005635372828692198, 0.009106059558689594, 0.015785232186317444, 0.011781292036175728, 0.0034663614351302385, 0.021267609670758247, 0.025452714413404465, 0.011082546785473824, 0.021028365939855576, 0.018494436517357826, 0.015655403956770897, 0.02045978605747223, 0.006142272148281336, 0.005147377960383892, 0.011118726804852486, 0.029625842347741127, 0.003358665155246854, 0.007196037098765373, 0.007563327439129353, 0.028449272736907005, 0.006125181447714567, 0.03385957330465317, 0.02748485654592514, 0.01557888649404049]}\n",
      "Update\n",
      " {'accuracy': 0.9911, 'n_conv_layers': 3, 'pooling': 'average', 'n_filters': [5, 5, 5], 'activation_func': 'relu', 'weight_init': 'kaiming', 'data': [0.10114019364118576, 0.09171874076128006, 0.14836780726909637, 0.05541346222162247, 0.056151051074266434, 0.04156912863254547, 0.09286918491125107, 0.008179263211786747, 0.019281985238194466, 0.04425695911049843, 0.06598997861146927, 0.02515525557100773, 0.008279365487396717, 0.026096325367689133, 0.05545300990343094, 0.00636596092954278, 0.01741933636367321, 0.004532898776233196, 0.030490420758724213, 0.010771477594971657, 0.0505438931286335, 0.020151186734437943, 0.04652142524719238, 0.006224317941814661, 0.009505142457783222, 0.0026559156831353903, 0.008371017873287201, 0.017525095492601395, 0.012469420209527016, 0.013071327470242977, 0.013268798589706421, 0.04793152958154678, 0.004195002838969231, 0.015141903422772884, 0.01053338311612606, 0.001796052441932261, 0.1094130128622055, 0.007281346246600151, 0.0015456076944246888, 0.0005779650527983904, 0.002950933063402772, 0.0030864498112350702, 0.0028058262541890144, 0.006099044810980558, 0.0033420086838304996, 0.004910565912723541, 0.007816650904715061, 0.0347835049033165, 0.002019363921135664, 0.007901230826973915, 0.0974794328212738, 0.002679615980014205, 0.006464238744229078, 0.001953915460035205, 0.0008427859866060317, 0.0032717694994062185, 0.00018176734738517553, 0.0027795142959803343, 0.0005212363321334124, 0.007730615790933371]}\n"
     ]
    },
    {
     "name": "stdout",
     "output_type": "stream",
     "text": [
      "\n"
     ]
    }
   ],
   "source": [
    "best_params['accuracy'] = 0\n",
    "t = len(list_activation_func) * len(list_pooling) * len(list_filter_size)\n",
    "pbar = tqdm(total=t)\n",
    "#for n_conv_layers in list_conv_layers:\n",
    "for act_func in list_activation_func:\n",
    "    if act_func == 'tanh':\n",
    "        init_func = 'xavier'\n",
    "    elif act_func == 'relu':\n",
    "        init_func = 'kaiming'\n",
    "    for type_pooling in list_pooling:\n",
    "        for filter_sizes, out_channels in zip(list_filter_size, list_n_filters):\n",
    "            pbar.update(1)\n",
    "            model = CNN(\n",
    "                num_classes, \n",
    "                n_conv_layers, \n",
    "                act_func, \n",
    "                type_pooling, \n",
    "                filter_sizes, \n",
    "                out_channels\n",
    "            )\n",
    "            model.to(device)\n",
    "            model.apply(init_weights)\n",
    "            optimizer = torch.optim.RMSprop(model.parameters(), lr=learning_rate)\n",
    "            accuracy, data = learning(model, optimizer, num_epochs, log=False)\n",
    "            #print(model)\n",
    "            #print(accuracy)\n",
    "            #draw(data)\n",
    "            if accuracy > best_params['accuracy']:\n",
    "                best_params = {\n",
    "                    'accuracy' : accuracy,\n",
    "                    'n_conv_layers' : len(filter_sizes),\n",
    "                    'pooling' : type_pooling,\n",
    "                    'n_filters'  : filter_sizes, \n",
    "                    'activation_func' : act_func,\n",
    "                    'weight_init' : init_func,\n",
    "                    'data' : data,\n",
    "                }\n",
    "                print('Update\\n', best_params)\n",
    "pbar.close()"
   ]
  },
  {
   "cell_type": "code",
   "execution_count": 197,
   "metadata": {},
   "outputs": [
    {
     "data": {
      "image/png": "[encoded data removed]",
      "text/plain": [
       "<Figure size 432x288 with 1 Axes>"
      ]
     },
     "metadata": {
      "needs_background": "light"
     },
     "output_type": "display_data"
    }
   ],
   "source": [
    "best_params\n",
    "draw(best_params['data'])"
   ]
  },
  {
   "cell_type": "markdown",
   "metadata": {},
   "source": [
    "#### Задание 3 (факультативное).\n",
    "Построить свёрточную сеть по одной из рассмотренных архитектур (AlexNet, VGG, Inception, ResNet) и обучить её распознаванию MNIST."
   ]
  },
  {
   "cell_type": "markdown",
   "metadata": {},
   "source": [
    "#### Задание 4 (факультативное).\n",
    "Прочитать параграф 5.3 в учебнике С. Николенко и др. (стр. 199–206) и воспроизвести рассмотренные там нейронные сети на TensorFlow и Keras."
   ]
  }
 ],
 "metadata": {
  "kernelspec": {
   "display_name": "Python 3",
   "language": "python",
   "name": "python3"
  },
  "language_info": {
   "codemirror_mode": {
    "name": "ipython",
    "version": 3
   },
   "file_extension": ".py",
   "mimetype": "text/x-python",
   "name": "python",
   "nbconvert_exporter": "python",
   "pygments_lexer": "ipython3",
   "version": "3.8.5"
  }
 },
 "nbformat": 4,
 "nbformat_minor": 4
}
