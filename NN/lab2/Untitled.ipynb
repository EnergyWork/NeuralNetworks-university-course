{
 "cells": [
  {
   "cell_type": "code",
   "execution_count": 9,
   "id": "vanilla-comfort",
   "metadata": {},
   "outputs": [],
   "source": [
    "import time"
   ]
  },
  {
   "cell_type": "code",
   "execution_count": 12,
   "id": "terminal-trust",
   "metadata": {},
   "outputs": [],
   "source": [
    "def log_progress(sequence, every=None, size=None, name='Items'):\n",
    "    from ipywidgets import IntProgress, HTML, VBox\n",
    "    from IPython.display import display\n",
    "\n",
    "    is_iterator = False\n",
    "    if size is None:\n",
    "        try:\n",
    "            size = len(sequence)\n",
    "        except TypeError:\n",
    "            is_iterator = True\n",
    "    if size is not None:\n",
    "        if every is None:\n",
    "            if size <= 200:\n",
    "                every = 1\n",
    "            else:\n",
    "                every = int(size / 200)     # every 0.5%\n",
    "    else:\n",
    "        assert every is not None, 'sequence is iterator, set every'\n",
    "\n",
    "    if is_iterator:\n",
    "        progress = IntProgress(min=0, max=1, value=1)\n",
    "        progress.bar_style = 'info'\n",
    "    else:\n",
    "        progress = IntProgress(min=0, max=size, value=0)\n",
    "    label = HTML()\n",
    "    box = VBox(children=[label, progress])\n",
    "    display(box)\n",
    "\n",
    "    index = 0\n",
    "    try:\n",
    "        for index, record in enumerate(sequence, 1):\n",
    "            if index == 1 or index % every == 0:\n",
    "                if is_iterator:\n",
    "                    label.value = '{name}: {index} / ?'.format(\n",
    "                        name=name,\n",
    "                        index=index\n",
    "                    )\n",
    "                else:\n",
    "                    progress.value = index\n",
    "                    label.value = u'{name}: {index} / {size}'.format(\n",
    "                        name=name,\n",
    "                        index=index,\n",
    "                        size=size\n",
    "                    )\n",
    "            yield record\n",
    "    except:\n",
    "        progress.bar_style = 'danger'\n",
    "        raise\n",
    "    else:\n",
    "        progress.bar_style = 'success'\n",
    "        progress.value = index\n",
    "        label.value = \"{name}: {index}\".format(\n",
    "            name=name,\n",
    "            index=str(index or '?')\n",
    "        )"
   ]
  },
  {
   "cell_type": "code",
   "execution_count": 23,
   "id": "loaded-organic",
   "metadata": {},
   "outputs": [],
   "source": [
    "arr_hidden_size = [100, 200, 300, 400, 500]\n",
    "arr_epoch_value = [5, 7, 9]\n",
    "arr_activation_func = ['sigmoid', 'tanh', 'relu']\n",
    "arr_regularization = ['weight_decay_L2', 'dropout']\n",
    "arr_weight_init = ['xavier', 'kaiming'] # xvvier для симметричных, kaming для не семмитричных\n",
    "arr_normalization_mini_batch = [True, False]\n",
    "arr_learning = ['SGD', 'MomentumSGD', 'NesterovSGD'] #'AdamW'\n",
    "#1260\n",
    "init_func = 'none'"
   ]
  },
  {
   "cell_type": "code",
   "execution_count": 29,
   "id": "perceived-chest",
   "metadata": {},
   "outputs": [
    {
     "data": {
      "application/vnd.jupyter.widget-view+json": {
       "model_id": "ab770c60006f4595acbf6cf4132aa4a8",
       "version_major": 2,
       "version_minor": 0
      },
      "text/plain": [
       "HBox(children=(HTML(value=''), FloatProgress(value=0.0, max=540.0), HTML(value='')))"
      ]
     },
     "metadata": {},
     "output_type": "display_data"
    },
    {
     "name": "stdout",
     "output_type": "stream",
     "text": [
      "ALOHA\n",
      "ALOHA\n",
      "ALOHA\n",
      "ALOHA\n",
      "ALOHA\n",
      "ALOHA\n",
      "ALOHA\n",
      "ALOHA\n",
      "ALOHA\n",
      "ALOHA\n",
      "ALOHA\n",
      "ALOHA\n",
      "ALOHA\n",
      "ALOHA\n",
      "ALOHA\n",
      "ALOHA\n",
      "ALOHA\n",
      "ALOHA\n",
      "ALOHA\n",
      "ALOHA\n",
      "ALOHA\n",
      "ALOHA\n",
      "ALOHA\n",
      "ALOHA\n",
      "ALOHA\n",
      "ALOHA\n",
      "ALOHA\n",
      "ALOHA\n",
      "ALOHA\n",
      "ALOHA\n",
      "ALOHA\n",
      "ALOHA\n",
      "ALOHA\n",
      "ALOHA\n",
      "ALOHA\n",
      "ALOHA\n",
      "ALOHA\n",
      "ALOHA\n",
      "ALOHA\n",
      "ALOHA\n",
      "ALOHA\n"
     ]
    },
    {
     "ename": "KeyboardInterrupt",
     "evalue": "",
     "output_type": "error",
     "traceback": [
      "\u001b[1;31m---------------------------------------------------------------------------\u001b[0m",
      "\u001b[1;31mKeyboardInterrupt\u001b[0m                         Traceback (most recent call last)",
      "\u001b[1;32m<ipython-input-29-c0ba86572a63>\u001b[0m in \u001b[0;36m<module>\u001b[1;34m\u001b[0m\n\u001b[0;32m     15\u001b[0m                     \u001b[1;32mfor\u001b[0m \u001b[0mopt\u001b[0m \u001b[1;32min\u001b[0m \u001b[1;33m(\u001b[0m\u001b[0marr_learning\u001b[0m\u001b[1;33m)\u001b[0m\u001b[1;33m:\u001b[0m\u001b[1;33m\u001b[0m\u001b[1;33m\u001b[0m\u001b[0m\n\u001b[0;32m     16\u001b[0m                         \u001b[1;31m#print(hiddensize, activationfunc, init_func, regularization, norm_minibatch, opt)\u001b[0m\u001b[1;33m\u001b[0m\u001b[1;33m\u001b[0m\u001b[1;33m\u001b[0m\u001b[0m\n\u001b[1;32m---> 17\u001b[1;33m                         \u001b[0mtime\u001b[0m\u001b[1;33m.\u001b[0m\u001b[0msleep\u001b[0m\u001b[1;33m(\u001b[0m\u001b[1;36m0.5\u001b[0m\u001b[1;33m)\u001b[0m\u001b[1;33m\u001b[0m\u001b[1;33m\u001b[0m\u001b[0m\n\u001b[0m\u001b[0;32m     18\u001b[0m                         \u001b[1;32mif\u001b[0m \u001b[0mrandom\u001b[0m\u001b[1;33m.\u001b[0m\u001b[0mrandom\u001b[0m\u001b[1;33m(\u001b[0m\u001b[1;33m)\u001b[0m \u001b[1;33m>\u001b[0m \u001b[1;36m0.8\u001b[0m\u001b[1;33m:\u001b[0m\u001b[1;33m\u001b[0m\u001b[1;33m\u001b[0m\u001b[0m\n\u001b[0;32m     19\u001b[0m                             \u001b[0mprint\u001b[0m\u001b[1;33m(\u001b[0m\u001b[1;34m'ALOHA'\u001b[0m\u001b[1;33m)\u001b[0m\u001b[1;33m\u001b[0m\u001b[1;33m\u001b[0m\u001b[0m\n",
      "\u001b[1;31mKeyboardInterrupt\u001b[0m: "
     ]
    }
   ],
   "source": [
    "from tqdm.notebook import tqdm\n",
    "import random\n",
    "t = len(arr_hidden_size) * len(arr_epoch_value) * len(arr_activation_func) * len(arr_regularization) * len(arr_normalization_mini_batch) * len(arr_learning)\n",
    "pbar = tqdm(total=t)\n",
    "for hiddensize in (arr_hidden_size):\n",
    "    for epochvalue in (arr_epoch_value):\n",
    "        for activationfunc in (arr_activation_func): # sigmoid/tanh/relu\n",
    "            # xavier/kaiming\n",
    "            if activationfunc in ['sigmoid', 'tanh']:\n",
    "                init_func = 'xavier'\n",
    "            elif activationfunc == 'relu':\n",
    "                init_func = 'kaiming'\n",
    "            for regularization in (arr_regularization): # weight_decay or dropout\n",
    "                for norm_minibatch in (arr_normalization_mini_batch): # true or false\n",
    "                    for opt in (arr_learning):\n",
    "                        #print(hiddensize, activationfunc, init_func, regularization, norm_minibatch, opt)\n",
    "                        time.sleep(0.5)\n",
    "                        if random.random() > 0.8:\n",
    "                            print('ALOHA')\n",
    "                        pbar.update(1)\n",
    "pbar.close()"
   ]
  },
  {
   "cell_type": "code",
   "execution_count": null,
   "id": "functional-peoples",
   "metadata": {},
   "outputs": [],
   "source": []
  },
  {
   "cell_type": "code",
   "execution_count": null,
   "id": "bored-yukon",
   "metadata": {},
   "outputs": [],
   "source": []
  }
 ],
 "metadata": {
  "kernelspec": {
   "display_name": "Python 3",
   "language": "python",
   "name": "python3"
  },
  "language_info": {
   "codemirror_mode": {
    "name": "ipython",
    "version": 3
   },
   "file_extension": ".py",
   "mimetype": "text/x-python",
   "name": "python",
   "nbconvert_exporter": "python",
   "pygments_lexer": "ipython3",
   "version": "3.8.5"
  }
 },
 "nbformat": 4,
 "nbformat_minor": 5
}
