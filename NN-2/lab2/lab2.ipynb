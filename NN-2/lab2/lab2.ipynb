{
 "cells": [
  {
   "cell_type": "markdown",
   "metadata": {},
   "source": [
    "# Лабораторная работа 2. Модели представления текстов"
   ]
  },
  {
   "cell_type": "code",
   "execution_count": 130,
   "metadata": {},
   "outputs": [],
   "source": [
    "import json, time, os, string, re\n",
    "import numpy as np\n",
    "import pymorphy2\n",
    "from nltk.corpus import stopwords\n",
    "from nltk.tokenize import word_tokenize"
   ]
  },
  {
   "cell_type": "code",
   "execution_count": 131,
   "metadata": {},
   "outputs": [
    {
     "name": "stderr",
     "output_type": "stream",
     "text": [
      "[nltk_data] Downloading package stopwords to\n",
      "[nltk_data]     C:\\Users\\artem\\AppData\\Roaming\\nltk_data...\n",
      "[nltk_data]   Package stopwords is already up-to-date!\n",
      "[nltk_data] Downloading package punkt to\n",
      "[nltk_data]     C:\\Users\\artem\\AppData\\Roaming\\nltk_data...\n",
      "[nltk_data]   Package punkt is already up-to-date!\n"
     ]
    },
    {
     "data": {
      "text/plain": [
       "True"
      ]
     },
     "execution_count": 131,
     "metadata": {},
     "output_type": "execute_result"
    }
   ],
   "source": [
    "nltk.download('stopwords')\n",
    "nltk.download('punkt')"
   ]
  },
  {
   "cell_type": "code",
   "execution_count": 91,
   "metadata": {},
   "outputs": [],
   "source": [
    "ENCODING_DEFAULT = 'utf-8'\n",
    "TRAIN_FILE = 'train.json'\n",
    "TEST_FILE = 'test.json'\n",
    "PRECISION = 4 # the number of signs after the comma\n",
    "\n",
    "ID = 'id'\n",
    "TEXT = 'text'\n",
    "SENTIMENT = 'sentiment'\n",
    "SENTIMENTS = ['negative', 'positive', 'neutral']\n",
    "POSITIVE = 0\n",
    "NEGATIVE = 1\n",
    "NEUTRAL = 2\n",
    "\n",
    "ORIGIN_WORD = 'OriginWord'\n",
    "NORMAL_FORM = 'NormalForm'\n",
    "POS = 'POS'\n",
    "CASE = 'Case'\n",
    "GENDER = 'Gender'\n",
    "DICT_EXIST = 'FromDict'\n",
    "WORDS = \"Words\"\n",
    "FREQ = \"Freq\"\n",
    "UNIQ = \"uniquies\"\n",
    "COUNT = \"count\""
   ]
  },
  {
   "cell_type": "code",
   "execution_count": null,
   "metadata": {},
   "outputs": [],
   "source": [
    "gr = {\n",
    "    \"NOUN\":\"имя существительное\",\n",
    "    \"ADJF\": \"имя прилагательное (полное)\",\n",
    "    \"NOUN\":\"имя существительное\",\n",
    "    \"ADJF\":\"имя прилагательное (полное)\",\n",
    "    \"ADJS\":\"имя прилагательное (краткое)\",\n",
    "    \"COMP\":\"компаратив\",\n",
    "    \"VERB\":\"глагол (личная форма)\",\n",
    "    \"INFN\":\"глагол (инфинитив)\",\n",
    "    \"PRTF\":\"причастие (полное)\",\n",
    "    \"PRTS\":\"причастие (краткое)\",\n",
    "    \"GRND\":\"деепричастие\",\n",
    "    \"NUMR\":\"числительное\",\n",
    "    \"ADVB\":\"наречие\",\n",
    "    \"NPRO\":\"местоимение-существительное\",\n",
    "    \"PRED\":\"предикатив\",\n",
    "    \"PREP\":\"предлог\",\n",
    "    \"CONJ\":\"союз\",\n",
    "    \"PRCL\":\"частица\",\n",
    "    \"INTJ\":\"междометие\",\n",
    "    \"nomn\":\"именительный\",\n",
    "    \"gent\":\"родительный\",\n",
    "    \"datv\":\"дательный\",\n",
    "    \"accs\":\"винительный\",\n",
    "    \"ablt\":\"творительный\",\n",
    "    \"loct\":\"предложный\",\n",
    "    \"voct\":\"звательный\",\n",
    "    \"gen2\":\"второй родительный (частичный)\",\n",
    "    \"acc2\":\"второй винительный\",\n",
    "    \"loc2\":\"второй предложный (местный)\",\n",
    "    \"masc\":\"мужской род\",\n",
    "    \"femn\":\"женский род\",\n",
    "    \"neut\":\"средний род\",\n",
    "    \"LATN\":\"Токен состоит из латинских букв (например, “foo-bar” или “Maßstab”)\",\n",
    "    \"PNCT\":\"Пунктуация (например, , или !? или …)\",\n",
    "    \"NUMB\":\"Число (например, “204” или “3.14”)\",\n",
    "    \"intg\":\"целое число (например, “204”)\",\n",
    "    \"real\":\"вещественное число (например, “3.14”)\",\n",
    "    \"ROMN\":\"Римское число (например, XI)\",\n",
    "    \"UNKN\":\"Токен не удалось разобрать\",\n",
    "}"
   ]
  },
  {
   "cell_type": "markdown",
   "metadata": {},
   "source": [
    "### Задание 1. Подготовка текстового корпуса\n",
    "- Прочитайте описание задачи Sentiment analysis: https://www.kaggle.com/c/sentiment-analysis-in-russian.\n",
    "- Скачайте файлы `train.json` и `test.json`: https://www.kaggle.com/c/sentiment-analysis-in-russian/data.\n",
    "- Загрузите в ноутбук скачанные файлы, выведите информацию по ним."
   ]
  },
  {
   "cell_type": "code",
   "execution_count": 73,
   "metadata": {},
   "outputs": [],
   "source": [
    "def read_json(filename):\n",
    "    start = time.perf_counter()\n",
    "    with open(filename, 'r', encoding=ENCODING_DEFAULT) as file:\n",
    "        data = json.load(file)\n",
    "    print(\"[INFO]: read time: %0.4f sec\" % (time.perf_counter() - start))\n",
    "    return data"
   ]
  },
  {
   "cell_type": "code",
   "execution_count": 86,
   "metadata": {},
   "outputs": [],
   "source": [
    "def print_file_description(data, train=False):\n",
    "    '''размер файла, количество текстов, средняя/макс./мин. длина текста, распределение тональности для обучающей выборки'''\n",
    "    text_lens = []\n",
    "    if train:\n",
    "        sentiments = dict.fromkeys(SENTIMENTS, 0)\n",
    "    for news in data:\n",
    "        if train:\n",
    "            sentiments[news[SENTIMENT]] += 1\n",
    "        text_lens.append(len(news[TEXT]))\n",
    "    print(\"Размер(байты):\", os.path.getsize(TRAIN_FILE if train else TEST_FILE))\n",
    "    print(\"Количество примеров:\", len(data))\n",
    "    print(\"Средняя длина текста:\", np.mean(text_lens))\n",
    "    print(\"Максимальная длина текста:\", np.max(text_lens))\n",
    "    print(\"Минимальная длина текста:\", np.min(text_lens))\n",
    "    if train:\n",
    "        print(\"Распределение тональностей:\")\n",
    "        print(\"\\tПозитивных:\", sentiments[SENTIMENTS[POSITIVE]])\n",
    "        print(\"\\tНегативных:\", sentiments[SENTIMENTS[NEGATIVE]])\n",
    "        print(\"\\tНейтральных:\", sentiments[SENTIMENTS[NEUTRAL]])"
   ]
  },
  {
   "cell_type": "code",
   "execution_count": 87,
   "metadata": {},
   "outputs": [
    {
     "name": "stdout",
     "output_type": "stream",
     "text": [
      "[INFO]: read time: 0.4423 sec\n",
      "Размер(байты): 59298269\n",
      "Количество примеров: 8263\n",
      "Средняя длина текста: 3911.85017548106\n",
      "Максимальная длина текста: 381498\n",
      "Минимальная длина текста: 28\n",
      "Распределение тональностей:\n",
      "\tПозитивных: 1434\n",
      "\tНегативных: 2795\n",
      "\tНейтральных: 4034\n"
     ]
    }
   ],
   "source": [
    "train_json = read_json(TRAIN_FILE)\n",
    "print_file_description(train_json, train=True)"
   ]
  },
  {
   "cell_type": "code",
   "execution_count": 88,
   "metadata": {},
   "outputs": [
    {
     "name": "stdout",
     "output_type": "stream",
     "text": [
      "[INFO]: read time: 0.1541 sec\n",
      "Размер(байты): 15417058\n",
      "Количество примеров: 2056\n",
      "Средняя длина текста: 4102.4143968871595\n",
      "Максимальная длина текста: 320754\n",
      "Минимальная длина текста: 35\n"
     ]
    }
   ],
   "source": [
    "test_json = read_json(TEST_FILE)\n",
    "print_file_description(test_json)"
   ]
  },
  {
   "cell_type": "markdown",
   "metadata": {},
   "source": [
    "### Задание 2. Булевская модель\n",
    "Напишите функцию `get_bool_model()` на входе которой текстовый корпус, на выходе – булевская матрица термин-документ.\n",
    "\n",
    "В функции должны осуществляться следующие действия:\n",
    "- все слова преобразуются в нормальную форму;\n",
    "- удаляются стоп-слова;\n",
    "- удаляются (или оставляются) слова заданных частей речи (список частей речи должен передаваться в виде параметра);\n",
    "- удаляются слова, частотность которых во всем корпусе ниже заданного порога (параметр);\n",
    "- создается словарь корпуса.\n",
    "\n",
    "Нельзя использовать библиотечные функции `scikit-learn`.  \n",
    "Можно использовать функции, разработанные в этой и предыдущей лабораторных работах."
   ]
  },
  {
   "cell_type": "code",
   "execution_count": 132,
   "metadata": {},
   "outputs": [],
   "source": [
    "morph = pymorphy2.MorphAnalyzer()\n",
    "nlp = word_tokenize"
   ]
  },
  {
   "cell_type": "code",
   "execution_count": 133,
   "metadata": {},
   "outputs": [],
   "source": [
    "# tools\n",
    "\n",
    "def get_data(t):\n",
    "    return 'None' if t is None else t\n",
    "\n",
    "def parse_text(text):\n",
    "    ret = []\n",
    "    tokens = nlp(text)\n",
    "    for word in tokens:\n",
    "        if not word in string.punctuation or len(re.findall(r'^\\d+$', word)) == 0:\n",
    "            parsed = morph.parse(word)[0]\n",
    "            data = {\n",
    "                ORIGIN_WORD : word,\n",
    "                NORMAL_FORM : parsed.normal_form,\n",
    "                POS         : get_data(parsed.tag.POS),\n",
    "                CASE        : get_data(parsed.tag.case) ,\n",
    "                GENDER      : get_data(parsed.tag.gender),\n",
    "                DICT_EXIST  : morph.word_is_known(word),\n",
    "            }\n",
    "            ret.append(data)              \n",
    "    return ret\n",
    "\n",
    "def get_dictionary(parsed):\n",
    "    tmp = {}\n",
    "    for value in parsed:\n",
    "        if tmp.get(value[NORMAL_FORM]) is None:\n",
    "            tmp.update({\n",
    "            value[NORMAL_FORM] : { \n",
    "                POS   : value[POS], \n",
    "                WORDS : set(([value[ORIGIN_WORD]])),\n",
    "                FREQ : 1,\n",
    "            }})\n",
    "        else:\n",
    "            tmp[value[NORMAL_FORM]][WORDS].add(value[ORIGIN_WORD])\n",
    "            tmp[value[NORMAL_FORM]][FREQ] += 1  \n",
    "    return tmp"
   ]
  },
  {
   "cell_type": "code",
   "execution_count": 116,
   "metadata": {},
   "outputs": [],
   "source": [
    "def get_bool_model(data, freq_remove=0, pos_remove=[]):\n",
    "    '''description'''\n",
    "    \n",
    "    return"
   ]
  },
  {
   "cell_type": "code",
   "execution_count": 117,
   "metadata": {},
   "outputs": [],
   "source": [
    "bool_model = get_bool_model(train_json, freq_remove=2, pos_remove=[])\n",
    "bool_model"
   ]
  },
  {
   "cell_type": "markdown",
   "metadata": {},
   "source": [
    "Постройте матрицу термин-документ для текстовых корпусов из первого задания."
   ]
  },
  {
   "cell_type": "code",
   "execution_count": null,
   "metadata": {},
   "outputs": [],
   "source": [
    "# Ваш код здесь"
   ]
  },
  {
   "cell_type": "markdown",
   "metadata": {},
   "source": [
    "### Задание 3. Модель TF-IDF\n",
    "Напишите функцию `get_tfidf_model()` на входе которой текстовый корпус, на выходе – матрица термин-документ c TF-IDF-весами.\n",
    "\n",
    "В функции должны осуществляться следующие действия:\n",
    "- все слова преобразуются в нормальную форму;\n",
    "- удаляются стоп-слова;\n",
    "- удаляются (или оставляются) слова заданных частей речи (список частей речи должен передаваться в виде параметра);\n",
    "- удаляются слова, частотность которых во всем корпусе ниже заданного порога (параметр);\n",
    "- создается словарь корпуса;\n",
    "- вычисляются глобальные IDF-веса и сохраняются в словарь;\n",
    "- слова для документов взвешиваются в соответствии со схемой TF-IDF.\n",
    "\n",
    "Нельзя использовать библиотечные функции `scikit-learn`.  \n",
    "Можно использовать функции, разработанные в предыдущей лабораторной работе."
   ]
  },
  {
   "cell_type": "code",
   "execution_count": null,
   "metadata": {},
   "outputs": [],
   "source": [
    "def get_tfidf_model():\n",
    "    # Ваш код здесь\n",
    "    return"
   ]
  },
  {
   "cell_type": "markdown",
   "metadata": {},
   "source": [
    "Постройте матрицу термин-документ для текстовых корпусов из первого задания."
   ]
  },
  {
   "cell_type": "code",
   "execution_count": null,
   "metadata": {},
   "outputs": [],
   "source": [
    "# Ваш код здесь"
   ]
  },
  {
   "cell_type": "markdown",
   "metadata": {},
   "source": [
    "Сравните результаты работы вашей функции (полученные веса) с результатами работы класса [TfidfVectorizer](https://scikit-learn.org/stable/modules/generated/sklearn.feature_extraction.text.TfidfVectorizer.html) из `scikit-learn`."
   ]
  },
  {
   "cell_type": "code",
   "execution_count": null,
   "metadata": {},
   "outputs": [],
   "source": [
    "# Ваш код здесь"
   ]
  },
  {
   "cell_type": "markdown",
   "metadata": {},
   "source": [
    "### Задание 4. Модель word2vec\n",
    "Напишите функцию `get_word2vec_model()` на входе которой текстовый корпус и модель `word2vec`, на выходе – матрица термин-документ c word2vec-весами.\n",
    "\n",
    "В функции должны осуществляться следующие действия:\n",
    "- все слова преобразуются в нормальную форму (при необходимости – в зависимости от используемой модели);\n",
    "- удаляются стоп-слова;\n",
    "- удаляются (или оставляются) слова заданных частей речи (список частей речи должен передаваться в виде параметра);\n",
    "- удаляются слова, частотность которых во всем корпусе ниже заданного порога (параметр);\n",
    "- создается словарь корпуса;\n",
    "- вычисляются веса word2vec для заданной модели.\n",
    "\n",
    "\n",
    "Можно использовать библиотечные функции и функции, разработанные в лабораторных работах."
   ]
  },
  {
   "cell_type": "code",
   "execution_count": null,
   "metadata": {},
   "outputs": [],
   "source": [
    "def get_word2vec_model():\n",
    "    # Ваш код здесь\n",
    "    return"
   ]
  },
  {
   "cell_type": "markdown",
   "metadata": {},
   "source": [
    "Постройте матрицу термин-документ для текстовых корпусов из первого задания."
   ]
  },
  {
   "cell_type": "code",
   "execution_count": null,
   "metadata": {},
   "outputs": [],
   "source": [
    "# Ваш код здесь"
   ]
  }
 ],
 "metadata": {
  "kernelspec": {
   "display_name": "Python 3 (ipykernel)",
   "language": "python",
   "name": "python3"
  },
  "language_info": {
   "codemirror_mode": {
    "name": "ipython",
    "version": 3
   },
   "file_extension": ".py",
   "mimetype": "text/x-python",
   "name": "python",
   "nbconvert_exporter": "python",
   "pygments_lexer": "ipython3",
   "version": "3.8.11"
  }
 },
 "nbformat": 4,
 "nbformat_minor": 4
}
