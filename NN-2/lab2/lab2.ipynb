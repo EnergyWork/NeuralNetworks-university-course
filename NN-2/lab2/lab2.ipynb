{
 "cells": [
  {
   "cell_type": "markdown",
   "metadata": {},
   "source": [
    "# Лабораторная работа 2. Модели представления текстов"
   ]
  },
  {
   "cell_type": "code",
   "execution_count": 64,
   "metadata": {},
   "outputs": [],
   "source": [
    "import json, sys, time\n",
    "import numpy as np"
   ]
  },
  {
   "cell_type": "code",
   "execution_count": 54,
   "metadata": {},
   "outputs": [],
   "source": [
    "ENCODING_DEFAULT = 'utf-8'\n",
    "TRAIN_FILE = 'train.json'\n",
    "TEST_FILE = 'test.json'\n",
    "PRECISION = 4 # the number of signs after the comma\n",
    "\n",
    "ID = 'id'\n",
    "TEXT = 'text'\n",
    "SENTIMENT = 'sentiment'\n",
    "SENTIMENTS = ['negative', 'positive', 'neutral']\n",
    "POSITIVE = 0\n",
    "NEGATIVE = 1\n",
    "NEUTRAL = 2"
   ]
  },
  {
   "cell_type": "markdown",
   "metadata": {},
   "source": [
    "### Задание 1. Подготовка текстового корпуса\n",
    "- Прочитайте описание задачи Sentiment analysis: https://www.kaggle.com/c/sentiment-analysis-in-russian.\n",
    "- Скачайте файлы `train.json` и `test.json`: https://www.kaggle.com/c/sentiment-analysis-in-russian/data.\n",
    "- Загрузите в ноутбук скачанные файлы, выведите информацию по ним."
   ]
  },
  {
   "cell_type": "code",
   "execution_count": 80,
   "metadata": {},
   "outputs": [],
   "source": [
    "def sizeof(obj):\n",
    "    size = sys.getsizeof(obj)\n",
    "    if isinstance(obj, dict): return size + sum(map(sizeof, obj.keys())) + sum(map(sizeof, obj.values()))\n",
    "    if isinstance(obj, (list, tuple, set, frozenset)): return size + sum(map(sizeof, obj))\n",
    "    return size"
   ]
  },
  {
   "cell_type": "code",
   "execution_count": 73,
   "metadata": {},
   "outputs": [],
   "source": [
    "def read_json(filename):\n",
    "    start = time.perf_counter()\n",
    "    with open(filename, 'r', encoding=ENCODING_DEFAULT) as file:\n",
    "        data = json.load(file)\n",
    "    print(\"[INFO]: read time: %0.4f sec\" % (time.perf_counter() - start))\n",
    "    return data"
   ]
  },
  {
   "cell_type": "code",
   "execution_count": 81,
   "metadata": {},
   "outputs": [],
   "source": [
    "def print_file_description(data, train=False):\n",
    "    '''размер файла, количество текстов, средняя/макс./мин. длина текста, распределение тональности для обучающей выборки'''\n",
    "    text_lens = []\n",
    "    if train:\n",
    "        sentiments = dict.fromkeys(SENTIMENTS, 0)\n",
    "    for news in data:\n",
    "        if train:\n",
    "            sentiments[news[SENTIMENT]] += 1\n",
    "        text_lens.append(len(news[TEXT]))\n",
    "    print(\"Размер(байты):\", sizeof(data))\n",
    "    print(\"Количество примеров:\", len(data))\n",
    "    print(\"Средняя длина текста:\", np.mean(text_lens))\n",
    "    print(\"Максимальная длина текста:\", np.max(text_lens))\n",
    "    print(\"Минимальная длина текста:\", np.min(text_lens))\n",
    "    if train:\n",
    "        print(\"Распределение тональностей:\")\n",
    "        print(\"\\tПозитивных:\", sentiments[SENTIMENTS[POSITIVE]])\n",
    "        print(\"\\tНегативных:\", sentiments[SENTIMENTS[NEGATIVE]])\n",
    "        print(\"\\tНейтральных:\", sentiments[SENTIMENTS[NEUTRAL]])"
   ]
  },
  {
   "cell_type": "code",
   "execution_count": 82,
   "metadata": {},
   "outputs": [
    {
     "name": "stdout",
     "output_type": "stream",
     "text": [
      "[INFO]: read time: 0.3276 sec\n",
      "Размер(байты): 69289937\n",
      "Количество примеров: 8263\n",
      "Средняя длина текста: 3911.85017548106\n",
      "Максимальная длина текста: 381498\n",
      "Минимальная длина текста: 28\n",
      "Распределение тональностей:\n",
      "\tПозитивных: 1434\n",
      "\tНегативных: 2795\n",
      "\tНейтральных: 4034\n"
     ]
    }
   ],
   "source": [
    "train_json = read_json(TRAIN_FILE)\n",
    "print_file_description(train_json, train=True)"
   ]
  },
  {
   "cell_type": "code",
   "execution_count": 83,
   "metadata": {},
   "outputs": [
    {
     "name": "stdout",
     "output_type": "stream",
     "text": [
      "[INFO]: read time: 0.1227 sec\n",
      "Размер(байты): 17802672\n",
      "Количество примеров: 2056\n",
      "Средняя длина текста: 4102.4143968871595\n",
      "Максимальная длина текста: 320754\n",
      "Минимальная длина текста: 35\n"
     ]
    }
   ],
   "source": [
    "test_json = read_json(TEST_FILE)\n",
    "print_file_description(test_json)"
   ]
  },
  {
   "cell_type": "markdown",
   "metadata": {},
   "source": [
    "### Задание 2. Булевская модель\n",
    "Напишите функцию `get_bool_model()` на входе которой текстовый корпус, на выходе – булевская матрица термин-документ.\n",
    "\n",
    "В функции должны осуществляться следующие действия:\n",
    "- все слова преобразуются в нормальную форму;\n",
    "- удаляются стоп-слова;\n",
    "- удаляются (или оставляются) слова заданных частей речи (список частей речи должен передаваться в виде параметра);\n",
    "- удаляются слова, частотность которых во всем корпусе ниже заданного порога (параметр);\n",
    "- создается словарь корпуса.\n",
    "\n",
    "Нельзя использовать библиотечные функции `scikit-learn`.  \n",
    "Можно использовать функции, разработанные в этой и предыдущей лабораторных работах."
   ]
  },
  {
   "cell_type": "code",
   "execution_count": null,
   "metadata": {},
   "outputs": [],
   "source": [
    "def get_bool_model():\n",
    "    # Ваш код здесь\n",
    "    return"
   ]
  },
  {
   "cell_type": "markdown",
   "metadata": {},
   "source": [
    "Постройте матрицу термин-документ для текстовых корпусов из первого задания."
   ]
  },
  {
   "cell_type": "code",
   "execution_count": null,
   "metadata": {},
   "outputs": [],
   "source": [
    "# Ваш код здесь"
   ]
  },
  {
   "cell_type": "markdown",
   "metadata": {},
   "source": [
    "### Задание 3. Модель TF-IDF\n",
    "Напишите функцию `get_tfidf_model()` на входе которой текстовый корпус, на выходе – матрица термин-документ c TF-IDF-весами.\n",
    "\n",
    "В функции должны осуществляться следующие действия:\n",
    "- все слова преобразуются в нормальную форму;\n",
    "- удаляются стоп-слова;\n",
    "- удаляются (или оставляются) слова заданных частей речи (список частей речи должен передаваться в виде параметра);\n",
    "- удаляются слова, частотность которых во всем корпусе ниже заданного порога (параметр);\n",
    "- создается словарь корпуса;\n",
    "- вычисляются глобальные IDF-веса и сохраняются в словарь;\n",
    "- слова для документов взвешиваются в соответствии со схемой TF-IDF.\n",
    "\n",
    "Нельзя использовать библиотечные функции `scikit-learn`.  \n",
    "Можно использовать функции, разработанные в предыдущей лабораторной работе."
   ]
  },
  {
   "cell_type": "code",
   "execution_count": null,
   "metadata": {},
   "outputs": [],
   "source": [
    "def get_tfidf_model():\n",
    "    # Ваш код здесь\n",
    "    return"
   ]
  },
  {
   "cell_type": "markdown",
   "metadata": {},
   "source": [
    "Постройте матрицу термин-документ для текстовых корпусов из первого задания."
   ]
  },
  {
   "cell_type": "code",
   "execution_count": null,
   "metadata": {},
   "outputs": [],
   "source": [
    "# Ваш код здесь"
   ]
  },
  {
   "cell_type": "markdown",
   "metadata": {},
   "source": [
    "Сравните результаты работы вашей функции (полученные веса) с результатами работы класса [TfidfVectorizer](https://scikit-learn.org/stable/modules/generated/sklearn.feature_extraction.text.TfidfVectorizer.html) из `scikit-learn`."
   ]
  },
  {
   "cell_type": "code",
   "execution_count": null,
   "metadata": {},
   "outputs": [],
   "source": [
    "# Ваш код здесь"
   ]
  },
  {
   "cell_type": "markdown",
   "metadata": {},
   "source": [
    "### Задание 4. Модель word2vec\n",
    "Напишите функцию `get_word2vec_model()` на входе которой текстовый корпус и модель `word2vec`, на выходе – матрица термин-документ c word2vec-весами.\n",
    "\n",
    "В функции должны осуществляться следующие действия:\n",
    "- все слова преобразуются в нормальную форму (при необходимости – в зависимости от используемой модели);\n",
    "- удаляются стоп-слова;\n",
    "- удаляются (или оставляются) слова заданных частей речи (список частей речи должен передаваться в виде параметра);\n",
    "- удаляются слова, частотность которых во всем корпусе ниже заданного порога (параметр);\n",
    "- создается словарь корпуса;\n",
    "- вычисляются веса word2vec для заданной модели.\n",
    "\n",
    "\n",
    "Можно использовать библиотечные функции и функции, разработанные в лабораторных работах."
   ]
  },
  {
   "cell_type": "code",
   "execution_count": null,
   "metadata": {},
   "outputs": [],
   "source": [
    "def get_word2vec_model():\n",
    "    # Ваш код здесь\n",
    "    return"
   ]
  },
  {
   "cell_type": "markdown",
   "metadata": {},
   "source": [
    "Постройте матрицу термин-документ для текстовых корпусов из первого задания."
   ]
  },
  {
   "cell_type": "code",
   "execution_count": null,
   "metadata": {},
   "outputs": [],
   "source": [
    "# Ваш код здесь"
   ]
  }
 ],
 "metadata": {
  "kernelspec": {
   "display_name": "Python 3 (ipykernel)",
   "language": "python",
   "name": "python3"
  },
  "language_info": {
   "codemirror_mode": {
    "name": "ipython",
    "version": 3
   },
   "file_extension": ".py",
   "mimetype": "text/x-python",
   "name": "python",
   "nbconvert_exporter": "python",
   "pygments_lexer": "ipython3",
   "version": "3.8.11"
  }
 },
 "nbformat": 4,
 "nbformat_minor": 4
}
