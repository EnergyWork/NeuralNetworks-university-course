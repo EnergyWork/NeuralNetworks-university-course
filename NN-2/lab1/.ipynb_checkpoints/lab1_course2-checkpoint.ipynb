{
 "cells": [
  {
   "cell_type": "markdown",
   "metadata": {
    "id": "Dk6rwuTRAYDQ"
   },
   "source": [
    "# Лабораторная работа 1. Морфологический анализ"
   ]
  },
  {
   "cell_type": "markdown",
   "metadata": {
    "id": "GNgrnb0LAYDU"
   },
   "source": [
    "### Задание 1.\n",
    "1. Изучить демонстрационный ноутбук `\"Сегментация и токенизация\"`.\n",
    "1. Выберите наилучшую, на ваш взгляд, библиотеку для сегментации и токенизации."
   ]
  },
  {
   "cell_type": "markdown",
   "metadata": {
    "id": "SKF6vHxkAYDU"
   },
   "source": [
    "### Задание 2.\n",
    "1. Изучите документацию и лицензию морфологического парсера [pymorphy2](https://pymorphy2.readthedocs.io).\n",
    "1. Установите `pymorphy2`."
   ]
  },
  {
   "cell_type": "markdown",
   "metadata": {
    "id": "mOgulmyqAYDV"
   },
   "source": [
    "### Задание 3.\n",
    "Напишите функцию `parse_text()`, на вход которых поступает текст (в виде строки), а на выходе формируется список, содержащий для каждого слова входного текста следующую информацию:\n",
    "- исходную словоформу (`wordform`);\n",
    "- нормальную форму слова (лемму) (`norm` или `lemma`);\n",
    "- часть речи (part of speech, `pos`);\n",
    "- другую грамматическую информацию, выдаваемую `pymorphy2`;\n",
    "- признак, присутствует ли слово в словаре `pymorphy2`.\n",
    "\n",
    "Функция должна выбирать наиболее вероятный вариант морфологического разбора слова.\n"
   ]
  },
  {
   "cell_type": "code",
   "execution_count": 1,
   "metadata": {
    "id": "36N9WNq2AYDV"
   },
   "outputs": [],
   "source": [
    "text0 = 'Напишите функцию parse_text(), на вход которых поступает текст (в виде строки), а на выходе формируется список, содержащий для каждого слова входного текста следующую информацию:'"
   ]
  },
  {
   "cell_type": "code",
   "execution_count": 2,
   "metadata": {},
   "outputs": [],
   "source": [
    "text1 = 'Крепостного права я не знал и не видел, но помню, у тетки Анны Герасимовны чувствовал его. Въедешь во двор и сразу ощущаешь, что тут оно еще вполне живо. Усадьба – небольшая, но вся старая, прочная, окруженная столетними березами и лозинами. Надворных построек – невысоких, но домовитых – множество, и все они точно слиты из темных дубовых бревен под соломенными крышами. Выделяется величиной или, лучше сказать, длиной только почерневшая людская, из которой выглядывают последние могикане дворянского сословия – какие-то ветхие старики и старухи, дряхлый повар в отставке, похожий на Дон-Кихота. Все они, когда въезжаешь во двор, подтягиваются и низко-низко кланяются. Седой кучер, направляющийся от каретного сарая взять лошадь, еще у сарая снимает шапку и по всему двору идет с обнаженной головой. Он у тетки ездил форейтором, а теперь возит ее к обедне, - зимой в возке, а летом в крепкой, окованной железом тележке, вроде тех, на которых ездят попы. Сад у тетки славился своей запущенностью, соловьями, горлинками и яблоками, а дом – крышей. Стоял он во главе двора, у самого сада, - ветки лип обнимали его, - был невелик и приземист, но казалось, что ему и веку не будет, - так основательно глядел он из-под своей необыкновенно высокой и толстой соломенной крыши, почерневшей и затвердевшей от времени. Мне его передний фасад представлялся всегда живым: точно старое лицо глядит из-под огромной шапки впадинами глаз, - окнами с перламутровыми от дождя и солнца стеклами.'"
   ]
  },
  {
   "cell_type": "code",
   "execution_count": 101,
   "metadata": {},
   "outputs": [],
   "source": [
    "text2 = 'душещипательская истоия дождь кстати еще дождик машина машинка машинное земля земельный идет дождь школа и сервис отца с дождём и огнём воды сразу с обрыва в облака облачные шторм шёл назад и вперёд'"
   ]
  },
  {
   "cell_type": "code",
   "execution_count": 112,
   "metadata": {
    "id": "ybSzhMp1AYDW"
   },
   "outputs": [],
   "source": [
    "import stanza\n",
    "import re\n",
    "import csv\n",
    "from pprint import pprint\n",
    "import copy\n",
    "import json"
   ]
  },
  {
   "cell_type": "code",
   "execution_count": 96,
   "metadata": {
    "colab": {
     "referenced_widgets": [
      "ff6d3edeb7cf41e597ea14f294bd6dd1"
     ]
    },
    "id": "8le8vymRAYDW",
    "outputId": "b66ae015-0d46-4785-8d61-c7ac105fe236"
   },
   "outputs": [
    {
     "data": {
      "application/vnd.jupyter.widget-view+json": {
       "model_id": "77e4cd4b5c5b4f3ba07753bd2db611e5",
       "version_major": 2,
       "version_minor": 0
      },
      "text/plain": [
       "HBox(children=(HTML(value='Downloading https://raw.githubusercontent.com/stanfordnlp/stanza-resources/main/res…"
      ]
     },
     "metadata": {},
     "output_type": "display_data"
    },
    {
     "name": "stderr",
     "output_type": "stream",
     "text": [
      "2021-10-12 20:29:32 INFO: Downloading default packages for language: ru (Russian)...\n"
     ]
    },
    {
     "name": "stdout",
     "output_type": "stream",
     "text": [
      "\n"
     ]
    },
    {
     "name": "stderr",
     "output_type": "stream",
     "text": [
      "2021-10-12 20:29:33 INFO: File exists: C:\\Users\\artem\\stanza_resources\\ru\\default.zip.\n",
      "2021-10-12 20:29:36 INFO: Finished downloading models and saved to C:\\Users\\artem\\stanza_resources.\n"
     ]
    }
   ],
   "source": [
    "stanza.download(\"ru\")"
   ]
  },
  {
   "cell_type": "code",
   "execution_count": 103,
   "metadata": {},
   "outputs": [],
   "source": [
    "text_example = copy.copy(text2)"
   ]
  },
  {
   "cell_type": "code",
   "execution_count": 98,
   "metadata": {
    "id": "FEL5dBn1AYDX"
   },
   "outputs": [],
   "source": [
    "gr = {\n",
    "    \"NOUN\":\"имя существительное\",\n",
    "    \"ADJF\": \"имя прилагательное (полное)\",\n",
    "    \"NOUN\":\"имя существительное\",\n",
    "    \"ADJF\":\"имя прилагательное (полное)\",\n",
    "    \"ADJS\":\"имя прилагательное (краткое)\",\n",
    "    \"COMP\":\"компаратив\",\n",
    "    \"VERB\":\"глагол (личная форма)\",\n",
    "    \"INFN\":\"глагол (инфинитив)\",\n",
    "    \"PRTF\":\"причастие (полное)\",\n",
    "    \"PRTS\":\"причастие (краткое)\",\n",
    "    \"GRND\":\"деепричастие\",\n",
    "    \"NUMR\":\"числительное\",\n",
    "    \"ADVB\":\"наречие\",\n",
    "    \"NPRO\":\"местоимение-существительное\",\n",
    "    \"PRED\":\"предикатив\",\n",
    "    \"PREP\":\"предлог\",\n",
    "    \"CONJ\":\"союз\",\n",
    "    \"PRCL\":\"частица\",\n",
    "    \"INTJ\":\"междометие\",\n",
    "    \"nomn\":\"именительный\",\n",
    "    \"gent\":\"родительный\",\n",
    "    \"datv\":\"дательный\",\n",
    "    \"accs\":\"винительный\",\n",
    "    \"ablt\":\"творительный\",\n",
    "    \"loct\":\"предложный\",\n",
    "    \"voct\":\"звательный\",\n",
    "    \"gen2\":\"второй родительный (частичный)\",\n",
    "    \"acc2\":\"второй винительный\",\n",
    "    \"loc2\":\"второй предложный (местный)\",\n",
    "    \"masc\":\"мужской род\",\n",
    "    \"femn\":\"женский род\",\n",
    "    \"neut\":\"средний род\",\n",
    "    \"LATN\":\"Токен состоит из латинских букв (например, “foo-bar” или “Maßstab”)\",\n",
    "    \"PNCT\":\"Пунктуация (например, , или !? или …)\",\n",
    "    \"NUMB\":\"Число (например, “204” или “3.14”)\",\n",
    "    \"intg\":\"целое число (например, “204”)\",\n",
    "    \"real\":\"вещественное число (например, “3.14”)\",\n",
    "    \"ROMN\":\"Римское число (например, XI)\",\n",
    "    \"UNKN\":\"Токен не удалось разобрать\",\n",
    "}"
   ]
  },
  {
   "cell_type": "code",
   "execution_count": 99,
   "metadata": {
    "id": "6WAeTWuLAYDY"
   },
   "outputs": [],
   "source": [
    "ORIGIN_WORD = 'OriginForm'\n",
    "NORMAL_FORM = 'NormalForm'\n",
    "POS = 'POS'\n",
    "CASE = 'Case'\n",
    "GENDER = 'Gender'\n",
    "DICT_EXIST = 'FromDict'\n",
    "WORDS = \"Words\"\n",
    "FREQ = \"Freq\""
   ]
  },
  {
   "cell_type": "code",
   "execution_count": 100,
   "metadata": {},
   "outputs": [],
   "source": [
    "def dict_print(d):\n",
    "    print(json.dumps(d, indent=4, ensure_ascii=False))"
   ]
  },
  {
   "cell_type": "code",
   "execution_count": 9,
   "metadata": {
    "id": "RV9OUiylAYDY",
    "outputId": "95bf420a-b7e5-4fb3-89f6-897340569d38"
   },
   "outputs": [
    {
     "name": "stderr",
     "output_type": "stream",
     "text": [
      "2021-10-11 20:05:38 INFO: Loading these models for language: ru (Russian):\n",
      "=========================\n",
      "| Processor | Package   |\n",
      "-------------------------\n",
      "| tokenize  | syntagrus |\n",
      "=========================\n",
      "\n",
      "2021-10-11 20:05:38 INFO: Use device: gpu\n",
      "2021-10-11 20:05:38 INFO: Loading: tokenize\n",
      "2021-10-11 20:05:40 INFO: Done loading processors!\n"
     ]
    }
   ],
   "source": [
    "import pymorphy2\n",
    "morph = pymorphy2.MorphAnalyzer()\n",
    "nlp = stanza.Pipeline(lang='ru', processors='tokenize')"
   ]
  },
  {
   "cell_type": "code",
   "execution_count": 109,
   "metadata": {
    "id": "YenXNsVZAYDY"
   },
   "outputs": [],
   "source": [
    "def get_data(t):\n",
    "    return 'None' if t is None else t\n",
    "\n",
    "def get_is_known(t):\n",
    "    return True if t else False\n",
    "\n",
    "def parse_text(text):\n",
    "    ret = []\n",
    "    t = nlp(text)\n",
    "    tokens = []\n",
    "    for sentence in t.sentences:\n",
    "        tokens += [token.text for token in sentence.tokens]\n",
    "    for word in tokens:\n",
    "        if re.match(r'\\w+', word):\n",
    "            parsed = morph.parse(word)[0]\n",
    "            data = {\n",
    "                ORIGIN_WORD : word,\n",
    "                NORMAL_FORM : parsed.normal_form,\n",
    "                POS         : get_data(gr.get(parsed.tag.POS)),\n",
    "                CASE        : get_data(gr.get(parsed.tag.case)) ,\n",
    "                GENDER      : get_data(gr.get(parsed.tag.gender)),\n",
    "                DICT_EXIST  : get_is_known(morph.word_is_known(word)),\n",
    "            }\n",
    "            ret.append({word : data})              \n",
    "    return ret"
   ]
  },
  {
   "cell_type": "code",
   "execution_count": 110,
   "metadata": {
    "id": "Sv25zaSjAYDZ",
    "outputId": "f4817335-9c22-49f9-f021-02662e75d86f"
   },
   "outputs": [
    {
     "name": "stdout",
     "output_type": "stream",
     "text": [
      "[{'душещипательская': {'OriginForm': 'душещипательская', 'NormalForm': 'душещипательский', 'POS': 'имя прилагательное (полное)', 'Case': 'именительный', 'Gender': 'женский род', 'FromDict': False}}, {'истоия': {'OriginForm': 'истоия', 'NormalForm': 'истоия', 'POS': 'имя существительное', 'Case': 'именительный', 'Gender': 'женский род', 'FromDict': False}}, {'дождь': {'OriginForm': 'дождь', 'NormalForm': 'дождь', 'POS': 'имя существительное', 'Case': 'именительный', 'Gender': 'мужской род', 'FromDict': True}}, {'кстати': {'OriginForm': 'кстати', 'NormalForm': 'кстати', 'POS': 'союз', 'Case': 'None', 'Gender': 'None', 'FromDict': True}}, {'еще': {'OriginForm': 'еще', 'NormalForm': 'ещё', 'POS': 'наречие', 'Case': 'None', 'Gender': 'None', 'FromDict': True}}, {'дождик': {'OriginForm': 'дождик', 'NormalForm': 'дождик', 'POS': 'имя существительное', 'Case': 'именительный', 'Gender': 'мужской род', 'FromDict': True}}, {'машина': {'OriginForm': 'машина', 'NormalForm': 'машина', 'POS': 'имя существительное', 'Case': 'именительный', 'Gender': 'женский род', 'FromDict': True}}, {'машинка': {'OriginForm': 'машинка', 'NormalForm': 'машинка', 'POS': 'имя существительное', 'Case': 'именительный', 'Gender': 'женский род', 'FromDict': True}}, {'машинное': {'OriginForm': 'машинное', 'NormalForm': 'машинный', 'POS': 'имя прилагательное (полное)', 'Case': 'именительный', 'Gender': 'средний род', 'FromDict': True}}, {'земля': {'OriginForm': 'земля', 'NormalForm': 'земля', 'POS': 'имя существительное', 'Case': 'именительный', 'Gender': 'женский род', 'FromDict': True}}, {'земельный': {'OriginForm': 'земельный', 'NormalForm': 'земельный', 'POS': 'имя прилагательное (полное)', 'Case': 'винительный', 'Gender': 'мужской род', 'FromDict': True}}, {'идет': {'OriginForm': 'идет', 'NormalForm': 'идти', 'POS': 'глагол (личная форма)', 'Case': 'None', 'Gender': 'None', 'FromDict': True}}, {'дождь': {'OriginForm': 'дождь', 'NormalForm': 'дождь', 'POS': 'имя существительное', 'Case': 'именительный', 'Gender': 'мужской род', 'FromDict': True}}, {'школа': {'OriginForm': 'школа', 'NormalForm': 'школа', 'POS': 'имя существительное', 'Case': 'именительный', 'Gender': 'женский род', 'FromDict': True}}, {'и': {'OriginForm': 'и', 'NormalForm': 'и', 'POS': 'союз', 'Case': 'None', 'Gender': 'None', 'FromDict': True}}, {'сервис': {'OriginForm': 'сервис', 'NormalForm': 'сервис', 'POS': 'имя существительное', 'Case': 'именительный', 'Gender': 'мужской род', 'FromDict': True}}, {'отца': {'OriginForm': 'отца', 'NormalForm': 'отец', 'POS': 'имя существительное', 'Case': 'родительный', 'Gender': 'мужской род', 'FromDict': True}}, {'с': {'OriginForm': 'с', 'NormalForm': 'с', 'POS': 'предлог', 'Case': 'None', 'Gender': 'None', 'FromDict': True}}, {'дождём': {'OriginForm': 'дождём', 'NormalForm': 'дождь', 'POS': 'имя существительное', 'Case': 'творительный', 'Gender': 'мужской род', 'FromDict': True}}, {'и': {'OriginForm': 'и', 'NormalForm': 'и', 'POS': 'союз', 'Case': 'None', 'Gender': 'None', 'FromDict': True}}, {'огнём': {'OriginForm': 'огнём', 'NormalForm': 'огонь', 'POS': 'имя существительное', 'Case': 'творительный', 'Gender': 'мужской род', 'FromDict': True}}, {'воды': {'OriginForm': 'воды', 'NormalForm': 'вода', 'POS': 'имя существительное', 'Case': 'родительный', 'Gender': 'женский род', 'FromDict': True}}, {'сразу': {'OriginForm': 'сразу', 'NormalForm': 'сразу', 'POS': 'наречие', 'Case': 'None', 'Gender': 'None', 'FromDict': True}}, {'с': {'OriginForm': 'с', 'NormalForm': 'с', 'POS': 'предлог', 'Case': 'None', 'Gender': 'None', 'FromDict': True}}, {'обрыва': {'OriginForm': 'обрыва', 'NormalForm': 'обрыв', 'POS': 'имя существительное', 'Case': 'родительный', 'Gender': 'мужской род', 'FromDict': True}}, {'в': {'OriginForm': 'в', 'NormalForm': 'в', 'POS': 'предлог', 'Case': 'None', 'Gender': 'None', 'FromDict': True}}, {'облака': {'OriginForm': 'облака', 'NormalForm': 'облако', 'POS': 'имя существительное', 'Case': 'именительный', 'Gender': 'средний род', 'FromDict': True}}, {'облачные': {'OriginForm': 'облачные', 'NormalForm': 'облачный', 'POS': 'имя прилагательное (полное)', 'Case': 'именительный', 'Gender': 'None', 'FromDict': True}}, {'шторм': {'OriginForm': 'шторм', 'NormalForm': 'шторм', 'POS': 'имя существительное', 'Case': 'именительный', 'Gender': 'мужской род', 'FromDict': True}}, {'шёл': {'OriginForm': 'шёл', 'NormalForm': 'идти', 'POS': 'глагол (личная форма)', 'Case': 'None', 'Gender': 'мужской род', 'FromDict': True}}, {'назад': {'OriginForm': 'назад', 'NormalForm': 'назад', 'POS': 'наречие', 'Case': 'None', 'Gender': 'None', 'FromDict': True}}, {'и': {'OriginForm': 'и', 'NormalForm': 'и', 'POS': 'союз', 'Case': 'None', 'Gender': 'None', 'FromDict': True}}, {'вперёд': {'OriginForm': 'вперёд', 'NormalForm': 'вперёд', 'POS': 'наречие', 'Case': 'None', 'Gender': 'None', 'FromDict': True}}]\n"
     ]
    }
   ],
   "source": [
    "data = parse_text(text_example)\n",
    "print(data)"
   ]
  },
  {
   "cell_type": "markdown",
   "metadata": {
    "id": "h2atM2dKAYDa"
   },
   "source": [
    "### Задание 4.\n",
    "Напишите функцию `save_morph_results()`, сохраняющую структуру данных, получаемую функцией `parse_text()`, в текстовый файл формата JSON."
   ]
  },
  {
   "cell_type": "code",
   "execution_count": 13,
   "metadata": {
    "id": "1c5PH4ifAYDa"
   },
   "outputs": [],
   "source": [
    "def save_morph_results(d):\n",
    "    with open(\"morph_results.json\", \"w+\", encoding='utf-8') as f:\n",
    "        tojs = json.dumps(d, indent=4, ensure_ascii=False)\n",
    "        f.write(tojs)"
   ]
  },
  {
   "cell_type": "code",
   "execution_count": 113,
   "metadata": {
    "id": "ly8zxzBeAYDa"
   },
   "outputs": [],
   "source": [
    "save_morph_results(parse_text(text_example))"
   ]
  },
  {
   "cell_type": "markdown",
   "metadata": {
    "id": "E8mEMd9sAYDb"
   },
   "source": [
    "### Задание 5.\n",
    "Напишите функцию `get_dictionary()`, на вход которой поступает структура данных, получаемая функцией `parse_text()`, а на выходе формируется словарь, ключами которого являются все нормальные формы слов текста, а в качестве значений хранится следующая информация:\n",
    "- часть речи слова;\n",
    "- частота слова в тексте;\n",
    "- все варианты словоформ в тексте с данной нормальной формой."
   ]
  },
  {
   "cell_type": "code",
   "execution_count": 15,
   "metadata": {},
   "outputs": [],
   "source": [
    "# частотный анализ\n",
    "def get_freq(words):\n",
    "    frequencies = {}\n",
    "    for word in words:\n",
    "        count = frequencies.get(word,0)\n",
    "        frequencies[word] = count + 1\n",
    "    frequencies = { k, (v / len(words)) for k, v in frequencies.items() }\n",
    "    return frequencies"
   ]
  },
  {
   "cell_type": "code",
   "execution_count": 16,
   "metadata": {},
   "outputs": [],
   "source": [
    "# получаем все слова с такой нормальной формой\n",
    "def get_words(data, normal_word):\n",
    "    wrds = []\n",
    "    for d in data:\n",
    "        if d[NORMAL_FORM]  == normal_word:\n",
    "            wrds.append(key)\n",
    "    return wrds"
   ]
  },
  {
   "cell_type": "code",
   "execution_count": 17,
   "metadata": {
    "id": "Hr7NdKvEAYDb"
   },
   "outputs": [],
   "source": [
    "def get_dictionary(parsed):\n",
    "    freqs = get_freq(parsed.keys())\n",
    "    tmp = {}\n",
    "    for key, val in parsed.items():\n",
    "        wrds_list = get_words(parsed, val[NORMAL_FORM])\n",
    "        tmp.update({val[NORMAL_FORM] : { \n",
    "            POS   : val[POS], \n",
    "            FREQ  : freqs[val[ORIGIN_WORD]],\n",
    "            WORDS : wrds_list,\n",
    "        }})\n",
    "    return tmp"
   ]
  },
  {
   "cell_type": "code",
   "execution_count": 106,
   "metadata": {
    "id": "l0q2FSrCAYDb",
    "outputId": "77bdf519-e36a-423c-bb87-f739ae67b318"
   },
   "outputs": [
    {
     "name": "stdout",
     "output_type": "stream",
     "text": [
      "{'душещипательский': {'POS': 'имя прилагательное (полное)', 'Freq': 1, 'Words': ['душещипательская']}, 'истоия': {'POS': 'имя существительное', 'Freq': 1, 'Words': ['истоия']}, 'дождь': {'POS': 'имя существительное', 'Freq': 1, 'Words': ['дождь', 'дождём']}, 'кстати': {'POS': 'союз', 'Freq': 1, 'Words': ['кстати']}, 'ещё': {'POS': 'наречие', 'Freq': 1, 'Words': ['еще']}, 'дождик': {'POS': 'имя существительное', 'Freq': 1, 'Words': ['дождик']}, 'машина': {'POS': 'имя существительное', 'Freq': 1, 'Words': ['машина']}, 'машинка': {'POS': 'имя существительное', 'Freq': 1, 'Words': ['машинка']}, 'машинный': {'POS': 'имя прилагательное (полное)', 'Freq': 1, 'Words': ['машинное']}, 'земля': {'POS': 'имя существительное', 'Freq': 1, 'Words': ['земля']}, 'земельный': {'POS': 'имя прилагательное (полное)', 'Freq': 1, 'Words': ['земельный']}, 'идти': {'POS': 'глагол (личная форма)', 'Freq': 1, 'Words': ['идет', 'шёл']}, 'школа': {'POS': 'имя существительное', 'Freq': 1, 'Words': ['школа']}, 'и': {'POS': 'союз', 'Freq': 1, 'Words': ['и']}, 'сервис': {'POS': 'имя существительное', 'Freq': 1, 'Words': ['сервис']}, 'отец': {'POS': 'имя существительное', 'Freq': 1, 'Words': ['отца']}, 'с': {'POS': 'предлог', 'Freq': 1, 'Words': ['с']}, 'огонь': {'POS': 'имя существительное', 'Freq': 1, 'Words': ['огнём']}, 'вода': {'POS': 'имя существительное', 'Freq': 1, 'Words': ['воды']}, 'сразу': {'POS': 'наречие', 'Freq': 1, 'Words': ['сразу']}, 'обрыв': {'POS': 'имя существительное', 'Freq': 1, 'Words': ['обрыва']}, 'в': {'POS': 'предлог', 'Freq': 1, 'Words': ['в']}, 'облако': {'POS': 'имя существительное', 'Freq': 1, 'Words': ['облака']}, 'облачный': {'POS': 'имя прилагательное (полное)', 'Freq': 1, 'Words': ['облачные']}, 'шторм': {'POS': 'имя существительное', 'Freq': 1, 'Words': ['шторм']}, 'назад': {'POS': 'наречие', 'Freq': 1, 'Words': ['назад']}, 'вперёд': {'POS': 'наречие', 'Freq': 1, 'Words': ['вперёд']}}\n"
     ]
    }
   ],
   "source": [
    "dt = get_dictionary(parse_text(text_example))\n",
    "print(dt)"
   ]
  },
  {
   "cell_type": "markdown",
   "metadata": {
    "id": "z-4cTSvLAYDb"
   },
   "source": [
    "### Задание 6.\n",
    "Напишите функцию `save_dictionary()`, сохраняющую предыдущую структуру данных в текстовый файл формата JSON. Слова в файле должны быть упорядочены по убыванию частоты."
   ]
  },
  {
   "cell_type": "code",
   "execution_count": 19,
   "metadata": {
    "id": "NwrlMYLnAYDb"
   },
   "outputs": [],
   "source": [
    "def save_dictionary(d):\n",
    "    with open(\"get_dictionary_results.json\", \"w+\", encoding='utf-8') as f:\n",
    "        tojs = json.dumps(d, indent=4, ensure_ascii=False)\n",
    "        f.write(tojs)"
   ]
  },
  {
   "cell_type": "code",
   "execution_count": 107,
   "metadata": {},
   "outputs": [],
   "source": [
    "save_dictionary(get_dictionary(parse_text(text_example)))"
   ]
  },
  {
   "cell_type": "markdown",
   "metadata": {
    "id": "IRSDEYoEAYDc"
   },
   "source": [
    "### Задание 7.\n",
    "Напишите функцию `get_non_dict()`, на вход которой поступает структура данных, получаемая функцией `parse_text()`, а на выходе формируется словарь, содержащий слова текста, отсутствующие в словаре `pymorphy2`, вместе с частотой слова в тексте."
   ]
  },
  {
   "cell_type": "code",
   "execution_count": 71,
   "metadata": {
    "id": "Eg2Por_TAYDc"
   },
   "outputs": [],
   "source": [
    "def get_non_dict(parsed):\n",
    "    d = {}\n",
    "    freqs = get_freq(parsed.keys())\n",
    "    for k, v in parsed.items():\n",
    "        if not v[DICT_EXIST]:\n",
    "            d.update({ v[ORIGIN_WORD] : freqs[v[ORIGIN_WORD]]})\n",
    "    return d"
   ]
  },
  {
   "cell_type": "code",
   "execution_count": 108,
   "metadata": {},
   "outputs": [
    {
     "data": {
      "text/plain": [
       "{'душещипательская': 1, 'истоия': 1}"
      ]
     },
     "execution_count": 108,
     "metadata": {},
     "output_type": "execute_result"
    }
   ],
   "source": [
    "get_non_dict(parse_text(text_example))"
   ]
  },
  {
   "cell_type": "markdown",
   "metadata": {
    "id": "embnnlxiAYDc"
   },
   "source": [
    "### Задание 8.\n",
    "Напишите функцию `save_non_dict()`, сохраняющую структуру данных, получаемую функцией `get_non_dict()`, в текстовый файл формата TSV (tab-separated values). Слова в файле должны быть упорядочены по убыванию частоты."
   ]
  },
  {
   "cell_type": "code",
   "execution_count": 28,
   "metadata": {
    "id": "D2RnWcxmAYDc"
   },
   "outputs": [],
   "source": [
    "def save_non_dict(data):\n",
    "    with open('non_dict_results.tsv', 'w', encoding='utf-8') as tsvfile:\n",
    "        writer = csv.writer(tsvfile, delimiter='\\t')\n",
    "        writer.writerows(data.items())"
   ]
  },
  {
   "cell_type": "code",
   "execution_count": 91,
   "metadata": {},
   "outputs": [],
   "source": [
    "save_non_dict(get_non_dict(parse_text(text_example)))"
   ]
  },
  {
   "cell_type": "markdown",
   "metadata": {
    "id": "eZP6NapSAYDc"
   },
   "source": [
    "### Задание 9.\n",
    "Напишите функцию `get_pos_distribution()`, на вход которой поступает словарь, формируемый функцией `get_dictionary()`, а на выходе выдается структура данных, содержащая частотное распределение частей речи в словаре:\n",
    "- часть речи – количество уникальных слов – общее количество слов."
   ]
  },
  {
   "cell_type": "code",
   "execution_count": 40,
   "metadata": {},
   "outputs": [],
   "source": [
    "UNIQ = \"uniquies\"\n",
    "COUNT = \"count\""
   ]
  },
  {
   "cell_type": "code",
   "execution_count": 92,
   "metadata": {
    "id": "YUlbBKwqAYDd"
   },
   "outputs": [],
   "source": [
    "def get_pos_distribution(data):\n",
    "    d = {}\n",
    "    for k, v in data.items():\n",
    "        if d.get(v[POS]) is None:\n",
    "            d.update({v[POS] : { UNIQ : 1, COUNT : v[FREQ]}})\n",
    "        else:\n",
    "            tmp_u = d[v[POS]].get(UNIQ) + 1\n",
    "            tmp_c = d[v[POS]].get(COUNT) + v[FREQ]\n",
    "            d.update({v[POS] : { UNIQ : tmp_u, COUNT : tmp_c}})\n",
    "    return d"
   ]
  },
  {
   "cell_type": "code",
   "execution_count": 93,
   "metadata": {},
   "outputs": [
    {
     "data": {
      "text/plain": [
       "{'имя существительное': {'uniquies': 13, 'count': 13},\n",
       " 'союз': {'uniquies': 2, 'count': 2},\n",
       " 'наречие': {'uniquies': 4, 'count': 4},\n",
       " 'имя прилагательное (полное)': {'uniquies': 3, 'count': 3},\n",
       " 'глагол (личная форма)': {'uniquies': 1, 'count': 1},\n",
       " 'предлог': {'uniquies': 2, 'count': 2}}"
      ]
     },
     "execution_count": 93,
     "metadata": {},
     "output_type": "execute_result"
    }
   ],
   "source": [
    "get_pos_distribution(get_dictionary(parse_text(text_example)))"
   ]
  },
  {
   "cell_type": "markdown",
   "metadata": {
    "id": "9UwArSLVAYDd"
   },
   "source": [
    "### Задание 10.\n",
    "Создайте текстовую коллекцию - скачайте не менее **10 текстов** разных жанров и разного размера (например, произведения классиков, современных писателей, новостные статьи, научные статьи и т.п.).\n",
    "\n",
    "Учитывайте кодировку – все файлы должны быть в UTF-8."
   ]
  },
  {
   "cell_type": "code",
   "execution_count": null,
   "metadata": {
    "id": "SJzBYyOSAYDd"
   },
   "outputs": [],
   "source": [
    "# Ваш код для открытия файлов."
   ]
  },
  {
   "cell_type": "markdown",
   "metadata": {
    "id": "JSjGvSAVAYDd"
   },
   "source": [
    "### Задание 11.\n",
    "Обработайте текстовую коллекцию при помощи функций `parse_text()`, `get_dictionary()` и `get_non_dict()`, и сохраните результаты в текстовых файлах при помощи функций `save_morph_results()`, `save_dictionary()` и `save_non_dict()`.\n",
    "\n",
    "Для каждого входного текстового файла выведите на экран следующую информацию:\n",
    "- имя файла;\n",
    "- размер файла в байтах;\n",
    "- размер текста в словах (общее количество слов в тексте);\n",
    "- размер словаря (количество уникальных слов в тексте);\n",
    "- время обработки файла (в секундах)."
   ]
  },
  {
   "cell_type": "code",
   "execution_count": null,
   "metadata": {
    "id": "YEG5GOXdAYDd"
   },
   "outputs": [],
   "source": [
    "# Ваш код для обработки коллекции и вывода результатов"
   ]
  },
  {
   "cell_type": "markdown",
   "metadata": {
    "id": "PuznH_oQAYDd"
   },
   "source": [
    "### Задание 12.\n",
    "Для самого большого словаря выполните следующее:\n",
    "- постройте частотное распределение слов: по оси ординат – частота, по оси абсцисс – слова, упорядоченные по убыванию частоты (по-другому, *ранги* слов). В качестве значений на оси абсцисс можно выводить ранги слов, а не сами слова;\n",
    "- постройте в виде диаграммы распределение частей речи, полученное функцией `get_pos_distribution()`."
   ]
  },
  {
   "cell_type": "code",
   "execution_count": null,
   "metadata": {
    "id": "vsnPPm4nAYDe"
   },
   "outputs": [],
   "source": [
    "# Ваш код для вывода графика и диаграммы"
   ]
  },
  {
   "cell_type": "markdown",
   "metadata": {
    "id": "enE5SdVwAYDe"
   },
   "source": [
    "### Задание 13.\n",
    "Постройте график зависимость времени морфологического анализа от размера текстового файла."
   ]
  },
  {
   "cell_type": "code",
   "execution_count": null,
   "metadata": {
    "id": "gBXbc2AGAYDe"
   },
   "outputs": [],
   "source": [
    "# Ваш код для вывода графика"
   ]
  }
 ],
 "metadata": {
  "colab": {
   "collapsed_sections": [],
   "name": "lab1_course2.ipynb",
   "provenance": []
  },
  "kernelspec": {
   "display_name": "Python 3",
   "language": "python",
   "name": "python3"
  },
  "language_info": {
   "codemirror_mode": {
    "name": "ipython",
    "version": 3
   },
   "file_extension": ".py",
   "mimetype": "text/x-python",
   "name": "python",
   "nbconvert_exporter": "python",
   "pygments_lexer": "ipython3",
   "version": "3.8.5"
  }
 },
 "nbformat": 4,
 "nbformat_minor": 4
}
