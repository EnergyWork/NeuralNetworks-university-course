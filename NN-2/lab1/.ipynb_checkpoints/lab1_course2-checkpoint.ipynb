{
 "cells": [
  {
   "cell_type": "markdown",
   "metadata": {
    "id": "Dk6rwuTRAYDQ"
   },
   "source": [
    "# Лабораторная работа 1. Морфологический анализ"
   ]
  },
  {
   "cell_type": "markdown",
   "metadata": {
    "id": "GNgrnb0LAYDU"
   },
   "source": [
    "### Задание 1.\n",
    "1. Изучить демонстрационный ноутбук `\"Сегментация и токенизация\"`.\n",
    "1. Выберите наилучшую, на ваш взгляд, библиотеку для сегментации и токенизации."
   ]
  },
  {
   "cell_type": "markdown",
   "metadata": {
    "id": "SKF6vHxkAYDU"
   },
   "source": [
    "### Задание 2.\n",
    "1. Изучите документацию и лицензию морфологического парсера [pymorphy2](https://pymorphy2.readthedocs.io).\n",
    "1. Установите `pymorphy2`."
   ]
  },
  {
   "cell_type": "markdown",
   "metadata": {
    "id": "mOgulmyqAYDV"
   },
   "source": [
    "### Задание 3.\n",
    "Напишите функцию `parse_text()`, на вход которых поступает текст (в виде строки), а на выходе формируется список, содержащий для каждого слова входного текста следующую информацию:\n",
    "- исходную словоформу (`wordform`);\n",
    "- нормальную форму слова (лемму) (`norm` или `lemma`);\n",
    "- часть речи (part of speech, `pos`);\n",
    "- другую грамматическую информацию, выдаваемую `pymorphy2`;\n",
    "- признак, присутствует ли слово в словаре `pymorphy2`.\n",
    "\n",
    "Функция должна выбирать наиболее вероятный вариант морфологического разбора слова.\n"
   ]
  },
  {
   "cell_type": "code",
   "execution_count": 1,
   "metadata": {
    "id": "36N9WNq2AYDV"
   },
   "outputs": [],
   "source": [
    "text0 = 'Напишите функцию parse_text(), на вход которых поступает текст (в виде строки), а на выходе формируется список, содержащий для каждого слова входного текста следующую информацию:'"
   ]
  },
  {
   "cell_type": "code",
   "execution_count": 2,
   "metadata": {},
   "outputs": [],
   "source": [
    "text1 = 'Крепостного права я не знал и не видел, но помню, у тетки Анны Герасимовны чувствовал его. Въедешь во двор и сразу ощущаешь, что тут оно еще вполне живо. Усадьба – небольшая, но вся старая, прочная, окруженная столетними березами и лозинами. Надворных построек – невысоких, но домовитых – множество, и все они точно слиты из темных дубовых бревен под соломенными крышами. Выделяется величиной или, лучше сказать, длиной только почерневшая людская, из которой выглядывают последние могикане дворянского сословия – какие-то ветхие старики и старухи, дряхлый повар в отставке, похожий на Дон-Кихота. Все они, когда въезжаешь во двор, подтягиваются и низко-низко кланяются. Седой кучер, направляющийся от каретного сарая взять лошадь, еще у сарая снимает шапку и по всему двору идет с обнаженной головой. Он у тетки ездил форейтором, а теперь возит ее к обедне, - зимой в возке, а летом в крепкой, окованной железом тележке, вроде тех, на которых ездят попы. Сад у тетки славился своей запущенностью, соловьями, горлинками и яблоками, а дом – крышей. Стоял он во главе двора, у самого сада, - ветки лип обнимали его, - был невелик и приземист, но казалось, что ему и веку не будет, - так основательно глядел он из-под своей необыкновенно высокой и толстой соломенной крыши, почерневшей и затвердевшей от времени. Мне его передний фасад представлялся всегда живым: точно старое лицо глядит из-под огромной шапки впадинами глаз, - окнами с перламутровыми от дождя и солнца стеклами.'"
   ]
  },
  {
   "cell_type": "code",
   "execution_count": 3,
   "metadata": {},
   "outputs": [],
   "source": [
    "text2 = 'дождище душещипательская истоия дождь кстати еще дождик машина машинка машинное душещипательская земля земельный идет дождь школа и сервис отца с дождём и огнём воды сразу с обрыва в облака облачные шторм шёл назад и вперёд'"
   ]
  },
  {
   "cell_type": "code",
   "execution_count": null,
   "metadata": {},
   "outputs": [],
   "source": []
  },
  {
   "cell_type": "code",
   "execution_count": 4,
   "metadata": {
    "id": "ybSzhMp1AYDW"
   },
   "outputs": [],
   "source": [
    "import stanza\n",
    "import pymorphy2\n",
    "import sys\n",
    "import re\n",
    "import os\n",
    "import copy\n",
    "import json\n",
    "import time\n",
    "from matplotlib import pyplot as plt\n",
    "import numpy as np"
   ]
  },
  {
   "cell_type": "code",
   "execution_count": 5,
   "metadata": {
    "colab": {
     "referenced_widgets": [
      "ff6d3edeb7cf41e597ea14f294bd6dd1"
     ]
    },
    "id": "8le8vymRAYDW",
    "outputId": "b66ae015-0d46-4785-8d61-c7ac105fe236"
   },
   "outputs": [
    {
     "data": {
      "application/vnd.jupyter.widget-view+json": {
       "model_id": "1753d123cf4b45c8b80b98d5bdd719d8",
       "version_major": 2,
       "version_minor": 0
      },
      "text/plain": [
       "Downloading https://raw.githubusercontent.com/stanfordnlp/stanza-resources/main/resources_1.3.0.json:   0%|   …"
      ]
     },
     "metadata": {},
     "output_type": "display_data"
    },
    {
     "name": "stderr",
     "output_type": "stream",
     "text": [
      "2021-10-21 17:30:31 INFO: Downloading default packages for language: ru (Russian)...\n",
      "2021-10-21 17:30:34 INFO: File exists: C:\\Users\\EnergyYo\\stanza_resources\\ru\\default.zip.\n",
      "2021-10-21 17:30:41 INFO: Finished downloading models and saved to C:\\Users\\EnergyYo\\stanza_resources.\n"
     ]
    }
   ],
   "source": [
    "stanza.download(\"ru\")"
   ]
  },
  {
   "cell_type": "code",
   "execution_count": 6,
   "metadata": {},
   "outputs": [],
   "source": [
    "text_example = copy.copy(text2)"
   ]
  },
  {
   "cell_type": "code",
   "execution_count": 7,
   "metadata": {
    "id": "FEL5dBn1AYDX"
   },
   "outputs": [],
   "source": [
    "gr = {\n",
    "    \"NOUN\":\"имя существительное\",\n",
    "    \"ADJF\": \"имя прилагательное (полное)\",\n",
    "    \"NOUN\":\"имя существительное\",\n",
    "    \"ADJF\":\"имя прилагательное (полное)\",\n",
    "    \"ADJS\":\"имя прилагательное (краткое)\",\n",
    "    \"COMP\":\"компаратив\",\n",
    "    \"VERB\":\"глагол (личная форма)\",\n",
    "    \"INFN\":\"глагол (инфинитив)\",\n",
    "    \"PRTF\":\"причастие (полное)\",\n",
    "    \"PRTS\":\"причастие (краткое)\",\n",
    "    \"GRND\":\"деепричастие\",\n",
    "    \"NUMR\":\"числительное\",\n",
    "    \"ADVB\":\"наречие\",\n",
    "    \"NPRO\":\"местоимение-существительное\",\n",
    "    \"PRED\":\"предикатив\",\n",
    "    \"PREP\":\"предлог\",\n",
    "    \"CONJ\":\"союз\",\n",
    "    \"PRCL\":\"частица\",\n",
    "    \"INTJ\":\"междометие\",\n",
    "    \"nomn\":\"именительный\",\n",
    "    \"gent\":\"родительный\",\n",
    "    \"datv\":\"дательный\",\n",
    "    \"accs\":\"винительный\",\n",
    "    \"ablt\":\"творительный\",\n",
    "    \"loct\":\"предложный\",\n",
    "    \"voct\":\"звательный\",\n",
    "    \"gen2\":\"второй родительный (частичный)\",\n",
    "    \"acc2\":\"второй винительный\",\n",
    "    \"loc2\":\"второй предложный (местный)\",\n",
    "    \"masc\":\"мужской род\",\n",
    "    \"femn\":\"женский род\",\n",
    "    \"neut\":\"средний род\",\n",
    "    \"LATN\":\"Токен состоит из латинских букв (например, “foo-bar” или “Maßstab”)\",\n",
    "    \"PNCT\":\"Пунктуация (например, , или !? или …)\",\n",
    "    \"NUMB\":\"Число (например, “204” или “3.14”)\",\n",
    "    \"intg\":\"целое число (например, “204”)\",\n",
    "    \"real\":\"вещественное число (например, “3.14”)\",\n",
    "    \"ROMN\":\"Римское число (например, XI)\",\n",
    "    \"UNKN\":\"Токен не удалось разобрать\",\n",
    "}"
   ]
  },
  {
   "cell_type": "code",
   "execution_count": 8,
   "metadata": {
    "id": "6WAeTWuLAYDY"
   },
   "outputs": [],
   "source": [
    "ORIGIN_WORD = 'OriginForm'\n",
    "NORMAL_FORM = 'NormalForm'\n",
    "POS = 'POS'\n",
    "CASE = 'Case'\n",
    "GENDER = 'Gender'\n",
    "DICT_EXIST = 'FromDict'\n",
    "WORDS = \"Words\"\n",
    "FREQ = \"Freq\"\n",
    "UNIQ = \"uniquies\"\n",
    "COUNT = \"count\"\n",
    "PRECISION = 5"
   ]
  },
  {
   "cell_type": "code",
   "execution_count": 9,
   "metadata": {},
   "outputs": [],
   "source": [
    "def print_dict(d):\n",
    "    print(json.dumps(d, indent=4, ensure_ascii=False))"
   ]
  },
  {
   "cell_type": "code",
   "execution_count": 10,
   "metadata": {
    "id": "RV9OUiylAYDY",
    "outputId": "95bf420a-b7e5-4fb3-89f6-897340569d38"
   },
   "outputs": [
    {
     "name": "stderr",
     "output_type": "stream",
     "text": [
      "2021-10-21 17:30:45 INFO: Loading these models for language: ru (Russian):\n",
      "=========================\n",
      "| Processor | Package   |\n",
      "-------------------------\n",
      "| tokenize  | syntagrus |\n",
      "=========================\n",
      "\n",
      "C:\\Users\\EnergyYo\\anaconda3\\lib\\site-packages\\torch\\cuda\\__init__.py:52: UserWarning: CUDA initialization: The NVIDIA driver on your system is too old (found version 10010). Please update your GPU driver by downloading and installing a new version from the URL: http://www.nvidia.com/Download/index.aspx Alternatively, go to: https://pytorch.org to install a PyTorch version that has been compiled with your version of the CUDA driver. (Triggered internally at  ..\\c10\\cuda\\CUDAFunctions.cpp:109.)\n",
      "  return torch._C._cuda_getDeviceCount() > 0\n",
      "2021-10-21 17:30:45 INFO: Use device: cpu\n",
      "2021-10-21 17:30:45 INFO: Loading: tokenize\n",
      "2021-10-21 17:30:45 INFO: Done loading processors!\n"
     ]
    }
   ],
   "source": [
    "morph = pymorphy2.MorphAnalyzer()\n",
    "nlp = stanza.Pipeline(lang='ru', processors='tokenize')"
   ]
  },
  {
   "cell_type": "code",
   "execution_count": 52,
   "metadata": {
    "id": "YenXNsVZAYDY"
   },
   "outputs": [],
   "source": [
    "def get_data(t):\n",
    "    return 'None' if t is None else t\n",
    "\n",
    "def get_is_known(t):\n",
    "    return True if t else False\n",
    "\n",
    "def parse_text(text):\n",
    "    ret = []\n",
    "    t = nlp(text)\n",
    "    tokens = []\n",
    "    for sentence in t.sentences:\n",
    "        tokens += [token.text for token in sentence.tokens]\n",
    "    for word in tokens:\n",
    "        if re.match(r'\\w+', word):\n",
    "            parsed = morph.parse(word)[0]\n",
    "            data = {\n",
    "                ORIGIN_WORD : word,\n",
    "                NORMAL_FORM : parsed.normal_form,\n",
    "                POS         : get_data(gr.get(parsed.tag.POS)),\n",
    "                CASE        : get_data(gr.get(parsed.tag.case)) ,\n",
    "                GENDER      : get_data(gr.get(parsed.tag.gender)),\n",
    "                DICT_EXIST  : get_is_known(morph.word_is_known(word)),\n",
    "            }\n",
    "            ret.append(data)              \n",
    "    return ret"
   ]
  },
  {
   "cell_type": "code",
   "execution_count": 89,
   "metadata": {},
   "outputs": [
    {
     "data": {
      "text/plain": [
       "<re.Match object; span=(0, 3), match='Как'>"
      ]
     },
     "execution_count": 89,
     "metadata": {},
     "output_type": "execute_result"
    }
   ],
   "source": [
    "re.match(r'\\w+', 'Как-нибудь')"
   ]
  },
  {
   "cell_type": "code",
   "execution_count": 90,
   "metadata": {
    "id": "Sv25zaSjAYDZ",
    "outputId": "f4817335-9c22-49f9-f021-02662e75d86f",
    "scrolled": true
   },
   "outputs": [
    {
     "data": {
      "text/plain": [
       "[{'OriginForm': 'Как-нибудь',\n",
       "  'NormalForm': 'как-нибудь',\n",
       "  'POS': 'наречие',\n",
       "  'Case': 'None',\n",
       "  'Gender': 'None',\n",
       "  'FromDict': True},\n",
       " {'OriginForm': 'АН',\n",
       "  'NormalForm': 'ан',\n",
       "  'POS': 'союз',\n",
       "  'Case': 'None',\n",
       "  'Gender': 'None',\n",
       "  'FromDict': True},\n",
       " {'OriginForm': '52',\n",
       "  'NormalForm': '52',\n",
       "  'POS': 'None',\n",
       "  'Case': 'None',\n",
       "  'Gender': 'None',\n",
       "  'FromDict': False},\n",
       " {'OriginForm': '45',\n",
       "  'NormalForm': '45',\n",
       "  'POS': 'None',\n",
       "  'Case': 'None',\n",
       "  'Gender': 'None',\n",
       "  'FromDict': False}]"
      ]
     },
     "execution_count": 90,
     "metadata": {},
     "output_type": "execute_result"
    }
   ],
   "source": [
    "parse_text('Как-нибудь, АН-52, 45')"
   ]
  },
  {
   "cell_type": "markdown",
   "metadata": {
    "id": "h2atM2dKAYDa"
   },
   "source": [
    "### Задание 4.\n",
    "Напишите функцию `save_morph_results()`, сохраняющую структуру данных, получаемую функцией `parse_text()`, в текстовый файл формата JSON."
   ]
  },
  {
   "cell_type": "code",
   "execution_count": 54,
   "metadata": {
    "id": "1c5PH4ifAYDa"
   },
   "outputs": [],
   "source": [
    "def save_morph_results(d, filename='morph_results'):\n",
    "    with open(f\"{filename}.json\", \"w+\", encoding='utf-8') as f:\n",
    "        tojs = json.dumps(d, indent=4, ensure_ascii=False)\n",
    "        f.write(tojs)"
   ]
  },
  {
   "cell_type": "code",
   "execution_count": 55,
   "metadata": {
    "id": "ly8zxzBeAYDa"
   },
   "outputs": [],
   "source": [
    "save_morph_results(parse_text(text_example))"
   ]
  },
  {
   "cell_type": "markdown",
   "metadata": {
    "id": "E8mEMd9sAYDb"
   },
   "source": [
    "### Задание 5.\n",
    "Напишите функцию `get_dictionary()`, на вход которой поступает структура данных, получаемая функцией `parse_text()`, а на выходе формируется словарь, ключами которого являются все нормальные формы слов текста, а в качестве значений хранится следующая информация:\n",
    "- часть речи слова;\n",
    "- частота слова в тексте;\n",
    "- все варианты словоформ в тексте с данной нормальной формой."
   ]
  },
  {
   "cell_type": "code",
   "execution_count": 158,
   "metadata": {
    "id": "Hr7NdKvEAYDb"
   },
   "outputs": [],
   "source": [
    "def get_dictionary(parsed):\n",
    "    tmp = {}\n",
    "    \n",
    "    for value in parsed:\n",
    "        if tmp.get(value[NORMAL_FORM]) is None:\n",
    "            tmp.update({\n",
    "            value[NORMAL_FORM] : { \n",
    "                POS   : value[POS], \n",
    "                WORDS : set(([value[ORIGIN_WORD]])),\n",
    "                FREQ : 1,\n",
    "        }})\n",
    "        else:\n",
    "            tmp[value[NORMAL_FORM]][WORDS].add(value[ORIGIN_WORD])\n",
    "            tmp[value[NORMAL_FORM]][FREQ] += 1\n",
    "            \n",
    "    return tmp"
   ]
  },
  {
   "cell_type": "code",
   "execution_count": 159,
   "metadata": {
    "id": "l0q2FSrCAYDb",
    "outputId": "77bdf519-e36a-423c-bb87-f739ae67b318",
    "scrolled": false
   },
   "outputs": [
    {
     "data": {
      "text/plain": [
       "{'дождище': {'POS': 'имя существительное', 'Words': {'дождище'}, 'Freq': 1}, 'душещипательский': {'POS': 'имя прилагательное (полное)', 'Words': {'душещипательская'}, 'Freq': 2}, 'истоия': {'POS': 'имя существительное', 'Words': {'истоия'}, 'Freq': 1}, 'дождь': {'POS': 'имя существительное', 'Words': {'дождь', 'дождём'}, 'Freq': 3}, 'кстати': {'POS': 'союз', 'Words': {'кстати'}, 'Freq': 1}, 'ещё': {'POS': 'наречие', 'Words': {'еще'}, 'Freq': 1}, 'дождик': {'POS': 'имя существительное', 'Words': {'дождик'}, 'Freq': 1}, 'машина': {'POS': 'имя существительное', 'Words': {'машина'}, 'Freq': 1}, 'машинка': {'POS': 'имя существительное', 'Words': {'машинка'}, 'Freq': 1}, 'машинный': {'POS': 'имя прилагательное (полное)', 'Words': {'машинное'}, 'Freq': 1}, 'земля': {'POS': 'имя существительное', 'Words': {'земля'}, 'Freq': 1}, 'земельный': {'POS': 'имя прилагательное (полное)', 'Words': {'земельный'}, 'Freq': 1}, 'идти': {'POS': 'глагол (личная форма)', 'Words': {'идет', 'шёл'}, 'Freq': 2}, 'школа': {'POS': 'имя существительное', 'Words': {'школа'}, 'Freq': 1}, 'и': {'POS': 'союз', 'Words': {'и'}, 'Freq': 3}, 'сервис': {'POS': 'имя существительное', 'Words': {'сервис'}, 'Freq': 1}, 'отец': {'POS': 'имя существительное', 'Words': {'отца'}, 'Freq': 1}, 'с': {'POS': 'предлог', 'Words': {'с'}, 'Freq': 2}, 'огонь': {'POS': 'имя существительное', 'Words': {'огнём'}, 'Freq': 1}, 'вода': {'POS': 'имя существительное', 'Words': {'воды'}, 'Freq': 1}, 'сразу': {'POS': 'наречие', 'Words': {'сразу'}, 'Freq': 1}, 'обрыв': {'POS': 'имя существительное', 'Words': {'обрыва'}, 'Freq': 1}, 'в': {'POS': 'предлог', 'Words': {'в'}, 'Freq': 1}, 'облако': {'POS': 'имя существительное', 'Words': {'облака'}, 'Freq': 1}, 'облачный': {'POS': 'имя прилагательное (полное)', 'Words': {'облачные'}, 'Freq': 1}, 'шторм': {'POS': 'имя существительное', 'Words': {'шторм'}, 'Freq': 1}, 'назад': {'POS': 'наречие', 'Words': {'назад'}, 'Freq': 1}, 'вперёд': {'POS': 'наречие', 'Words': {'вперёд'}, 'Freq': 1}}"
      ]
     },
     "execution_count": 159,
     "metadata": {},
     "output_type": "execute_result"
    }
   ],
   "source": [
    "get_dictionary(parse_text(text_example))"
   ]
  },
  {
   "cell_type": "markdown",
   "metadata": {
    "id": "z-4cTSvLAYDb"
   },
   "source": [
    "### Задание 6.\n",
    "Напишите функцию `save_dictionary()`, сохраняющую предыдущую структуру данных в текстовый файл формата JSON. Слова в файле должны быть упорядочены по убыванию частоты."
   ]
  },
  {
   "cell_type": "code",
   "execution_count": 160,
   "metadata": {},
   "outputs": [],
   "source": [
    "class SetEncoder(json.JSONEncoder):\n",
    "    def default(self, obj):\n",
    "        if isinstance(obj, set):\n",
    "            return list(obj)\n",
    "        return super().default(self, obj)"
   ]
  },
  {
   "cell_type": "code",
   "execution_count": 163,
   "metadata": {
    "id": "NwrlMYLnAYDb"
   },
   "outputs": [],
   "source": [
    "def save_dictionary(d, filename='get_dictionary_results'):\n",
    "    sorted_dict = sorted(d.items(), key=(lambda x: x[1][FREQ]), reverse=True)\n",
    "    with open(f\"{filename}.json\", \"w+\", encoding='utf-8') as f:\n",
    "        tojs = json.dumps(dict(sorted_dict), indent=4, ensure_ascii=False, cls=SetEncoder)\n",
    "        f.write(tojs)\n",
    "\n",
    "def save_dictionary2(d, filename='get_dictionary2_results'):\n",
    "    with open(f\"{filename}.json\", \"w+\", encoding='utf-8') as f:\n",
    "        tojs = json.dumps(d, indent=4, ensure_ascii=False)\n",
    "        f.write(tojs)"
   ]
  },
  {
   "cell_type": "code",
   "execution_count": 164,
   "metadata": {},
   "outputs": [],
   "source": [
    "save_dictionary(get_dictionary(parse_text(text_example)))"
   ]
  },
  {
   "cell_type": "markdown",
   "metadata": {
    "id": "IRSDEYoEAYDc"
   },
   "source": [
    "### Задание 7.\n",
    "Напишите функцию `get_non_dict()`, на вход которой поступает структура данных, получаемая функцией `parse_text()`, а на выходе формируется словарь, содержащий слова текста, отсутствующие в словаре `pymorphy2`, вместе с частотой слова в тексте."
   ]
  },
  {
   "cell_type": "code",
   "execution_count": 67,
   "metadata": {
    "id": "Eg2Por_TAYDc"
   },
   "outputs": [],
   "source": [
    "def get_non_dict(parsed):\n",
    "    d = {}\n",
    "    for v in parsed:\n",
    "        if not v[DICT_EXIST]:\n",
    "            count = d.get(v[ORIGIN_WORD], 0) + 1\n",
    "            d.update({ v[ORIGIN_WORD] : count})\n",
    "    return d"
   ]
  },
  {
   "cell_type": "code",
   "execution_count": 68,
   "metadata": {},
   "outputs": [
    {
     "data": {
      "text/plain": [
       "{'душещипательская': 2, 'истоия': 1}"
      ]
     },
     "execution_count": 68,
     "metadata": {},
     "output_type": "execute_result"
    }
   ],
   "source": [
    "get_non_dict(parse_text(text_example))"
   ]
  },
  {
   "cell_type": "markdown",
   "metadata": {
    "id": "embnnlxiAYDc"
   },
   "source": [
    "### Задание 8.\n",
    "Напишите функцию `save_non_dict()`, сохраняющую структуру данных, получаемую функцией `get_non_dict()`, в текстовый файл формата TSV (tab-separated values). Слова в файле должны быть упорядочены по убыванию частоты."
   ]
  },
  {
   "cell_type": "code",
   "execution_count": 84,
   "metadata": {
    "id": "D2RnWcxmAYDc"
   },
   "outputs": [],
   "source": [
    "def save_non_dict(data, filename=\"non_dict_results\"):\n",
    "    sorted_dict = dict(sorted(data.items(), key=(lambda x : x[1]), reverse=True))\n",
    "    with open(f'{filename}.tsv', 'w', encoding='utf-8') as tsvfile:\n",
    "        for k, v in sorted_dict.items():\n",
    "            tsvfile.write(f\"{k}\\t{v}\\n\")"
   ]
  },
  {
   "cell_type": "code",
   "execution_count": 85,
   "metadata": {},
   "outputs": [],
   "source": [
    "save_non_dict(get_non_dict(parse_text(text_example)))"
   ]
  },
  {
   "cell_type": "markdown",
   "metadata": {
    "id": "eZP6NapSAYDc"
   },
   "source": [
    "### Задание 9.\n",
    "Напишите функцию `get_pos_distribution()`, на вход которой поступает словарь, формируемый функцией `get_dictionary()`, а на выходе выдается структура данных, содержащая частотное распределение частей речи в словаре:\n",
    "- часть речи – количество уникальных слов – общее количество слов."
   ]
  },
  {
   "cell_type": "code",
   "execution_count": 86,
   "metadata": {
    "id": "YUlbBKwqAYDd"
   },
   "outputs": [],
   "source": [
    "def get_pos_distribution(data):\n",
    "    d = {}\n",
    "    for v in data.values():\n",
    "        if d.get(v[POS]) is None:\n",
    "            d.update({v[POS] : {UNIQ : 1, COUNT : len(v[WORDS])}})\n",
    "        else:\n",
    "            d[v[POS]][UNIQ] += 1\n",
    "            d[v[POS]][COUNT] += len(v[WORDS])\n",
    "    return d"
   ]
  },
  {
   "cell_type": "code",
   "execution_count": 87,
   "metadata": {},
   "outputs": [
    {
     "data": {
      "text/plain": [
       "{'имя существительное': {'uniquies': 15, 'count': 17},\n",
       " 'имя прилагательное (полное)': {'uniquies': 4, 'count': 5},\n",
       " 'союз': {'uniquies': 2, 'count': 4},\n",
       " 'наречие': {'uniquies': 4, 'count': 4},\n",
       " 'глагол (личная форма)': {'uniquies': 1, 'count': 2},\n",
       " 'предлог': {'uniquies': 2, 'count': 3}}"
      ]
     },
     "execution_count": 87,
     "metadata": {},
     "output_type": "execute_result"
    }
   ],
   "source": [
    "get_pos_distribution(get_dictionary(parse_text(text_example)))"
   ]
  },
  {
   "cell_type": "code",
   "execution_count": 88,
   "metadata": {},
   "outputs": [],
   "source": [
    "save_dictionary2(get_pos_distribution(get_dictionary(parse_text(text_example))), \"get_pos_distribution\")"
   ]
  },
  {
   "cell_type": "markdown",
   "metadata": {
    "id": "9UwArSLVAYDd"
   },
   "source": [
    "### Задание 10.\n",
    "Создайте текстовую коллекцию - скачайте не менее **10 текстов** разных жанров и разного размера (например, произведения классиков, современных писателей, новостные статьи, научные статьи и т.п.).\n",
    "\n",
    "Учитывайте кодировку – все файлы должны быть в UTF-8."
   ]
  },
  {
   "cell_type": "code",
   "execution_count": 27,
   "metadata": {},
   "outputs": [],
   "source": [
    "RESULTS_DIR = \"results\"\n",
    "TEXTS_DIR = \"texts\"\n",
    "SUCCESS = False\n",
    "ERROR = True\n",
    "FILE_NAME = \"FIleName\"\n",
    "FILE_SIZE = \"FileSizeBytes\"\n",
    "TOTAL_WORDS = \"TotalWords\"\n",
    "TOTAL_UNIQUE_WORDS = \"TotalUniqWords\"\n",
    "FILE_PROCESSING_TIME = \"ProcessingTime\"\n",
    "FILE_PROCESSING_REPORT = \"processing_report\""
   ]
  },
  {
   "cell_type": "code",
   "execution_count": 28,
   "metadata": {
    "id": "SJzBYyOSAYDd"
   },
   "outputs": [],
   "source": [
    "def get_names():\n",
    "    try:\n",
    "        path = os.path.join(os.getcwd(), TEXTS_DIR)\n",
    "        print(\"[INFO]: path to texts: %s\" % path)\n",
    "        files = list(filter(lambda x : x.endswith('.txt'),  os.listdir(path)))\n",
    "    except OSError as err:\n",
    "        print(f\"[ERROR]: unable to get files, {err}\")\n",
    "        sys.exit(1)\n",
    "    else:\n",
    "        return files"
   ]
  },
  {
   "cell_type": "code",
   "execution_count": 29,
   "metadata": {},
   "outputs": [
    {
     "name": "stdout",
     "output_type": "stream",
     "text": [
      "[INFO]: path to texts: C:\\Users\\EnergyYo\\Мой диск\\NeuralNetworks-university-course\\NN-2\\lab1\\texts\n"
     ]
    },
    {
     "data": {
      "text/plain": [
       "['rasskaz1.txt',\n",
       " 'sci_1.txt',\n",
       " 'sci_2.txt',\n",
       " 'sci_3.txt',\n",
       " 'sci_4.txt',\n",
       " 'udiviteltaya_istokia.txt']"
      ]
     },
     "execution_count": 29,
     "metadata": {},
     "output_type": "execute_result"
    }
   ],
   "source": [
    "tmp = get_names()\n",
    "tmp"
   ]
  },
  {
   "cell_type": "markdown",
   "metadata": {
    "id": "JSjGvSAVAYDd"
   },
   "source": [
    "### Задание 11.\n",
    "Обработайте текстовую коллекцию при помощи функций `parse_text()`, `get_dictionary()` и `get_non_dict()`, и сохраните результаты в текстовых файлах при помощи функций `save_morph_results()`, `save_dictionary()` и `save_non_dict()`.\n",
    "\n",
    "Для каждого входного текстового файла выведите на экран следующую информацию:\n",
    "- имя файла;\n",
    "- размер файла в байтах;\n",
    "- размер текста в словах (общее количество слов в тексте);\n",
    "- размер словаря (количество уникальных слов в тексте);\n",
    "- время обработки файла (в секундах)."
   ]
  },
  {
   "cell_type": "code",
   "execution_count": 30,
   "metadata": {
    "id": "YEG5GOXdAYDd"
   },
   "outputs": [],
   "source": [
    "def create_dir(name):\n",
    "    try:\n",
    "        path = os.path.join(os.getcwd(), name)\n",
    "        os.mkdir(path)\n",
    "    except FileExistsError:\n",
    "        print(f\"[WARNING]: directory '{name}' already exist\")\n",
    "    except OSError as err:\n",
    "        print(f\"[ERROR]: unable create a directory: {path};\\n{err}\")\n",
    "        sys.exit(1)\n",
    "    return path\n",
    "    \n",
    "\n",
    "def files_check(files):\n",
    "    if len(files) == 0:\n",
    "        print(\"[ERROR]: list of files is empty\")\n",
    "        sys.exit(1)\n",
    "    else: \n",
    "        create_dir(RESULTS_DIR)\n",
    "\n",
    "def get_uniq(pos_dist):\n",
    "        counter = 0\n",
    "        for k, v in pos_dist.items():\n",
    "            counter += v[UNIQ]\n",
    "        return counter\n",
    "\n",
    "def analyze():\n",
    "    report = {}\n",
    "\n",
    "    files = get_names()\n",
    "    files_check(files)\n",
    "    try:\n",
    "        # main logic\n",
    "        for file in files:\n",
    "        \n",
    "            # prepare\n",
    "            start_tic = time.perf_counter()\n",
    "            \n",
    "            file_name_only = os.path.splitext(file)[0]\n",
    "            path = create_dir(os.path.join(RESULTS_DIR, file_name_only))\n",
    "            with open(os.path.join(os.getcwd(), TEXTS_DIR, file), 'r', encoding='utf-8') as f:\n",
    "                text = f.read()\n",
    "\n",
    "            # analyze\n",
    "            morph_results = parse_text(text)\n",
    "            save_morph_results(morph_results, os.path.join(path, f'morph_results_{file_name_only}'))\n",
    "            \n",
    "            dictionary = get_dictionary(morph_results)\n",
    "            save_dictionary(dictionary, os.path.join(path, f'dictionary_{file_name_only}'))\n",
    "            \n",
    "            save_non_dict(get_non_dict(morph_results), os.path.join(path, f'non_dict_{file_name_only}'))\n",
    "            \n",
    "            pos_distribution = get_pos_distribution(dictionary)\n",
    "            save_dictionary2(pos_distribution, os.path.join(path, f'pos_distribution_{file_name_only}'))\n",
    "            \n",
    "            end_tic = time.perf_counter()\n",
    "\n",
    "            # report for single file\n",
    "            file # name of file\n",
    "            file_size = os.path.getsize(os.path.join(os.getcwd(), TEXTS_DIR, file)) # size of txtfile in bytes\n",
    "            total_words = len(morph_results) # total words of text\n",
    "            total_uniqu_words = get_uniq(pos_distribution)\n",
    "            processing_sec = round(end_tic - start_tic, 4) # processing time of single file\n",
    "\n",
    "            report_elemet = {\n",
    "                file : {\n",
    "                    FILE_NAME : file,\n",
    "                    FILE_SIZE : file_size,\n",
    "                    TOTAL_WORDS : total_words,\n",
    "                    TOTAL_UNIQUE_WORDS : total_uniqu_words,\n",
    "                    FILE_PROCESSING_TIME : processing_sec,\n",
    "            }}\n",
    "            report.update(report_elemet)\n",
    "        \n",
    "        # save the report\n",
    "        #print_dict(report)\n",
    "        save_dictionary2(report, os.path.join(os.getcwd(), RESULTS_DIR, FILE_PROCESSING_REPORT))\n",
    "\n",
    "    # exceptions\n",
    "    except OSError as e:\n",
    "        print(f\"[ERROR]: OSError: {e}\")\n",
    "        return ERROR\n",
    "    except TypeError as e:\n",
    "        print(f\"[ERROR]: TypeEror: {e}\")\n",
    "        return ERROR\n",
    "    except Exception as e:\n",
    "        print(f\"[ERROR]: unhandeled: {e}\")\n",
    "        return ERROR\n",
    "    return SUCCESS"
   ]
  },
  {
   "cell_type": "code",
   "execution_count": 31,
   "metadata": {},
   "outputs": [
    {
     "name": "stdout",
     "output_type": "stream",
     "text": [
      "[INFO]: path to texts: C:\\Users\\EnergyYo\\Мой диск\\NeuralNetworks-university-course\\NN-2\\lab1\\texts\n",
      "[WARNING]: directory 'results' already exist\n",
      "[WARNING]: directory 'results\\rasskaz1' already exist\n",
      "[WARNING]: directory 'results\\sci_1' already exist\n",
      "[WARNING]: directory 'results\\sci_2' already exist\n",
      "[WARNING]: directory 'results\\sci_3' already exist\n",
      "[WARNING]: directory 'results\\sci_4' already exist\n",
      "[WARNING]: directory 'results\\udiviteltaya_istokia' already exist\n",
      "[SUCCESS]: the analysis is completed\n"
     ]
    }
   ],
   "source": [
    "err = analyze()\n",
    "if err:\n",
    "    print(\"[ERROR]: analysis error\")\n",
    "else:\n",
    "    print(\"[SUCCESS]: the analysis is completed\")"
   ]
  },
  {
   "cell_type": "markdown",
   "metadata": {
    "id": "PuznH_oQAYDd"
   },
   "source": [
    "### Задание 12.\n",
    "Для самого большого словаря выполните следующее:\n",
    "- постройте частотное распределение слов: по оси ординат – частота, по оси абсцисс – слова, упорядоченные по убыванию частоты (по-другому, *ранги* слов). В качестве значений на оси абсцисс можно выводить ранги слов, а не сами слова;\n",
    "- постройте в виде диаграммы распределение частей речи, полученное функцией `get_pos_distribution()`."
   ]
  },
  {
   "cell_type": "code",
   "execution_count": 32,
   "metadata": {},
   "outputs": [],
   "source": [
    "def get_path_to_results():\n",
    "    # read a report of analysis\n",
    "    with open(os.path.join(os.getcwd(), RESULTS_DIR, FILE_PROCESSING_REPORT + \".json\")) as f:\n",
    "        report_data = json.load(f)\n",
    "    # find a file with a maximun TotalWords\n",
    "    total_max = 0\n",
    "    for k, v in report_data.items():\n",
    "        if v[TOTAL_WORDS] > total_max:\n",
    "            total_max = v[TOTAL_WORDS]\n",
    "            max_total_words_filename = v[FILE_NAME]\n",
    "    # getting dict data for this file\n",
    "    path = os.path.join(os.getcwd(), RESULTS_DIR, os.path.splitext(max_total_words_filename)[0]) # path to dir with analysis results for this file\n",
    "    return path, max_total_words_filename"
   ]
  },
  {
   "cell_type": "code",
   "execution_count": 175,
   "metadata": {},
   "outputs": [],
   "source": [
    "def task1():\n",
    "    path, filename = get_path_to_results()\n",
    "    with open(os.path.join(path, f\"dictionary_{os.path.splitext(filename)[0]}.json\"), \"r\", encoding='utf-8') as f:\n",
    "        dict_data = json.load(f)\n",
    "    # form new dict for plot: { word : freq, ... }\n",
    "    dict_plot = {}\n",
    "    for k, v in dict_data.items():\n",
    "        dict_plot.update({k : v[FREQ]})\n",
    "    # create plot\n",
    "    #sorted_dict = dict(sorted(dict_plot.items(), key=(lambda x: x[1])))\n",
    "    plt.figure(figsize=(30,5))\n",
    "    #plt.plot(sorted_dict.values(), sorted_dict.keys())\n",
    "    plt.plot(list(dict_plot.keys())[:100], list(dict_plot.values())[:100])\n",
    "    plt.xticks(rotation=90)\n",
    "    #plt.grid()\n",
    "        "
   ]
  },
  {
   "cell_type": "code",
   "execution_count": 176,
   "metadata": {},
   "outputs": [
    {
     "data": {
      "image/png": "[encoded data removed]",
      "text/plain": [
       "<Figure size 2160x360 with 1 Axes>"
      ]
     },
     "metadata": {
      "needs_background": "light"
     },
     "output_type": "display_data"
    }
   ],
   "source": [
    "task1()"
   ]
  },
  {
   "cell_type": "code",
   "execution_count": 35,
   "metadata": {},
   "outputs": [],
   "source": [
    "def task2():\n",
    "    path, filename = get_path_to_results()\n",
    "    with open(os.path.join(path, f\"pos_distribution_{os.path.splitext(filename)[0]}.json\"), \"r\", encoding='utf-8') as f:\n",
    "        dict_data = json.load(f)\n",
    "    # form new dict for plot: { pos : count_words, ... }\n",
    "    dict_plot = {}\n",
    "    for k, v in dict_data.items():\n",
    "        dict_plot.update({k : v[COUNT]})\n",
    "    # create plot\n",
    "    dict_plot = dict(sorted(dict_plot.items(), key=(lambda x: x[1]), reverse=True))\n",
    "    plt.plot(dict_plot.keys(), dict_plot.values())\n",
    "    plt.grid()\n",
    "    plt.xticks(rotation=90)\n",
    "    "
   ]
  },
  {
   "cell_type": "code",
   "execution_count": 36,
   "metadata": {},
   "outputs": [
    {
     "data": {
      "image/png": "[encoded data removed]",
      "text/plain": [
       "<Figure size 432x288 with 1 Axes>"
      ]
     },
     "metadata": {
      "needs_background": "light"
     },
     "output_type": "display_data"
    }
   ],
   "source": [
    "task2()"
   ]
  },
  {
   "cell_type": "markdown",
   "metadata": {
    "id": "enE5SdVwAYDe"
   },
   "source": [
    "### Задание 13.\n",
    "Постройте график зависимость времени морфологического анализа от размера текстового файла."
   ]
  },
  {
   "cell_type": "code",
   "execution_count": 37,
   "metadata": {},
   "outputs": [],
   "source": [
    "def task13():\n",
    "    # read a report of analysis\n",
    "    with open(os.path.join(os.getcwd(), RESULTS_DIR, FILE_PROCESSING_REPORT + \".json\")) as f:\n",
    "        report_data = json.load(f)\n",
    "    # processing time by sile size analys\n",
    "    data = [(v[FILE_SIZE], v[FILE_PROCESSING_TIME]) for _, v in report_data.items()]\n",
    "    plt.plot([x[0] for x in data], [x[1] for x in data])\n",
    "    plt.xlabel(\"file size (bytes)\")\n",
    "    plt.ylabel(\"processing time (sec)\")"
   ]
  },
  {
   "cell_type": "code",
   "execution_count": 38,
   "metadata": {},
   "outputs": [
    {
     "data": {
      "image/png": "[encoded data removed]",
      "text/plain": [
       "<Figure size 432x288 with 1 Axes>"
      ]
     },
     "metadata": {
      "needs_background": "light"
     },
     "output_type": "display_data"
    }
   ],
   "source": [
    "task13()"
   ]
  }
 ],
 "metadata": {
  "colab": {
   "collapsed_sections": [],
   "name": "lab1_course2.ipynb",
   "provenance": []
  },
  "interpreter": {
   "hash": "b3ba2566441a7c06988d0923437866b63cedc61552a5af99d1f4fb67d367b25f"
  },
  "kernelspec": {
   "display_name": "Python 3 (ipykernel)",
   "language": "python",
   "name": "python3"
  },
  "language_info": {
   "codemirror_mode": {
    "name": "ipython",
    "version": 3
   },
   "file_extension": ".py",
   "mimetype": "text/x-python",
   "name": "python",
   "nbconvert_exporter": "python",
   "pygments_lexer": "ipython3",
   "version": "3.8.11"
  }
 },
 "nbformat": 4,
 "nbformat_minor": 4
}
