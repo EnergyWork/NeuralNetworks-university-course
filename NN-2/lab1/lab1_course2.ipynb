{
 "cells": [
  {
   "cell_type": "markdown",
   "source": [
    "# Лабораторная работа 1. Морфологический анализ"
   ],
   "metadata": {
    "id": "Dk6rwuTRAYDQ"
   }
  },
  {
   "cell_type": "markdown",
   "source": [
    "### Задание 1.\n",
    "1. Изучить демонстрационный ноутбук `\"Сегментация и токенизация\"`.\n",
    "1. Выберите наилучшую, на ваш взгляд, библиотеку для сегментации и токенизации."
   ],
   "metadata": {
    "id": "GNgrnb0LAYDU"
   }
  },
  {
   "cell_type": "markdown",
   "source": [
    "### Задание 2.\n",
    "1. Изучите документацию и лицензию морфологического парсера [pymorphy2](https://pymorphy2.readthedocs.io).\n",
    "1. Установите `pymorphy2`."
   ],
   "metadata": {
    "id": "SKF6vHxkAYDU"
   }
  },
  {
   "cell_type": "markdown",
   "source": [
    "### Задание 3.\n",
    "Напишите функцию `parse_text()`, на вход которых поступает текст (в виде строки), а на выходе формируется список, содержащий для каждого слова входного текста следующую информацию:\n",
    "- исходную словоформу (`wordform`);\n",
    "- нормальную форму слова (лемму) (`norm` или `lemma`);\n",
    "- часть речи (part of speech, `pos`);\n",
    "- другую грамматическую информацию, выдаваемую `pymorphy2`;\n",
    "- признак, присутствует ли слово в словаре `pymorphy2`.\n",
    "\n",
    "Функция должна выбирать наиболее вероятный вариант морфологического разбора слова.\n"
   ],
   "metadata": {
    "id": "mOgulmyqAYDV"
   }
  },
  {
   "cell_type": "code",
   "execution_count": 118,
   "source": [
    "text0 = 'Напишите функцию parse_text(), на вход которых поступает текст (в виде строки), а на выходе формируется список, содержащий для каждого слова входного текста следующую информацию:'"
   ],
   "outputs": [],
   "metadata": {
    "id": "36N9WNq2AYDV"
   }
  },
  {
   "cell_type": "code",
   "execution_count": 119,
   "source": [
    "text1 = 'Крепостного права я не знал и не видел, но помню, у тетки Анны Герасимовны чувствовал его. Въедешь во двор и сразу ощущаешь, что тут оно еще вполне живо. Усадьба – небольшая, но вся старая, прочная, окруженная столетними березами и лозинами. Надворных построек – невысоких, но домовитых – множество, и все они точно слиты из темных дубовых бревен под соломенными крышами. Выделяется величиной или, лучше сказать, длиной только почерневшая людская, из которой выглядывают последние могикане дворянского сословия – какие-то ветхие старики и старухи, дряхлый повар в отставке, похожий на Дон-Кихота. Все они, когда въезжаешь во двор, подтягиваются и низко-низко кланяются. Седой кучер, направляющийся от каретного сарая взять лошадь, еще у сарая снимает шапку и по всему двору идет с обнаженной головой. Он у тетки ездил форейтором, а теперь возит ее к обедне, - зимой в возке, а летом в крепкой, окованной железом тележке, вроде тех, на которых ездят попы. Сад у тетки славился своей запущенностью, соловьями, горлинками и яблоками, а дом – крышей. Стоял он во главе двора, у самого сада, - ветки лип обнимали его, - был невелик и приземист, но казалось, что ему и веку не будет, - так основательно глядел он из-под своей необыкновенно высокой и толстой соломенной крыши, почерневшей и затвердевшей от времени. Мне его передний фасад представлялся всегда живым: точно старое лицо глядит из-под огромной шапки впадинами глаз, - окнами с перламутровыми от дождя и солнца стеклами.'"
   ],
   "outputs": [],
   "metadata": {}
  },
  {
   "cell_type": "code",
   "execution_count": 186,
   "source": [
    "text2 = 'дождище душещипательская истоия дождь кстати еще дождик машина машинка машинное душещипательская земля земельный идет дождь школа и сервис отца с дождём и огнём воды сразу с обрыва в облака облачные шторм шёл назад и вперёд'"
   ],
   "outputs": [],
   "metadata": {}
  },
  {
   "cell_type": "code",
   "execution_count": 121,
   "source": [
    "import stanza\r\n",
    "import pymorphy2\r\n",
    "import logging\r\n",
    "import re\r\n",
    "import csv\r\n",
    "from pprint import pprint\r\n",
    "import copy\r\n",
    "import json"
   ],
   "outputs": [],
   "metadata": {
    "id": "ybSzhMp1AYDW"
   }
  },
  {
   "cell_type": "code",
   "execution_count": 122,
   "source": [
    "stanza.download(\"ru\")"
   ],
   "outputs": [
    {
     "output_type": "stream",
     "name": "stderr",
     "text": [
      "Downloading https://raw.githubusercontent.com/stanfordnlp/stanza-resources/main/resources_1.2.2.json: 140kB [00:00, 17.6MB/s]                    \n",
      "2021-10-13 22:02:04 INFO: Downloading default packages for language: ru (Russian)...\n",
      "INFO:stanza:Downloading default packages for language: ru (Russian)...\n",
      "2021-10-13 22:02:05 INFO: File exists: C:\\Users\\artem\\stanza_resources\\ru\\default.zip.\n",
      "INFO:stanza:File exists: C:\\Users\\artem\\stanza_resources\\ru\\default.zip.\n",
      "2021-10-13 22:02:08 INFO: Finished downloading models and saved to C:\\Users\\artem\\stanza_resources.\n",
      "INFO:stanza:Finished downloading models and saved to C:\\Users\\artem\\stanza_resources.\n"
     ]
    }
   ],
   "metadata": {
    "colab": {
     "referenced_widgets": [
      "ff6d3edeb7cf41e597ea14f294bd6dd1"
     ]
    },
    "id": "8le8vymRAYDW",
    "outputId": "b66ae015-0d46-4785-8d61-c7ac105fe236"
   }
  },
  {
   "cell_type": "code",
   "execution_count": 187,
   "source": [
    "text_example = copy.copy(text2)"
   ],
   "outputs": [],
   "metadata": {}
  },
  {
   "cell_type": "code",
   "execution_count": 124,
   "source": [
    "gr = {\r\n",
    "    \"NOUN\":\"имя существительное\",\r\n",
    "    \"ADJF\": \"имя прилагательное (полное)\",\r\n",
    "    \"NOUN\":\"имя существительное\",\r\n",
    "    \"ADJF\":\"имя прилагательное (полное)\",\r\n",
    "    \"ADJS\":\"имя прилагательное (краткое)\",\r\n",
    "    \"COMP\":\"компаратив\",\r\n",
    "    \"VERB\":\"глагол (личная форма)\",\r\n",
    "    \"INFN\":\"глагол (инфинитив)\",\r\n",
    "    \"PRTF\":\"причастие (полное)\",\r\n",
    "    \"PRTS\":\"причастие (краткое)\",\r\n",
    "    \"GRND\":\"деепричастие\",\r\n",
    "    \"NUMR\":\"числительное\",\r\n",
    "    \"ADVB\":\"наречие\",\r\n",
    "    \"NPRO\":\"местоимение-существительное\",\r\n",
    "    \"PRED\":\"предикатив\",\r\n",
    "    \"PREP\":\"предлог\",\r\n",
    "    \"CONJ\":\"союз\",\r\n",
    "    \"PRCL\":\"частица\",\r\n",
    "    \"INTJ\":\"междометие\",\r\n",
    "    \"nomn\":\"именительный\",\r\n",
    "    \"gent\":\"родительный\",\r\n",
    "    \"datv\":\"дательный\",\r\n",
    "    \"accs\":\"винительный\",\r\n",
    "    \"ablt\":\"творительный\",\r\n",
    "    \"loct\":\"предложный\",\r\n",
    "    \"voct\":\"звательный\",\r\n",
    "    \"gen2\":\"второй родительный (частичный)\",\r\n",
    "    \"acc2\":\"второй винительный\",\r\n",
    "    \"loc2\":\"второй предложный (местный)\",\r\n",
    "    \"masc\":\"мужской род\",\r\n",
    "    \"femn\":\"женский род\",\r\n",
    "    \"neut\":\"средний род\",\r\n",
    "    \"LATN\":\"Токен состоит из латинских букв (например, “foo-bar” или “Maßstab”)\",\r\n",
    "    \"PNCT\":\"Пунктуация (например, , или !? или …)\",\r\n",
    "    \"NUMB\":\"Число (например, “204” или “3.14”)\",\r\n",
    "    \"intg\":\"целое число (например, “204”)\",\r\n",
    "    \"real\":\"вещественное число (например, “3.14”)\",\r\n",
    "    \"ROMN\":\"Римское число (например, XI)\",\r\n",
    "    \"UNKN\":\"Токен не удалось разобрать\",\r\n",
    "}"
   ],
   "outputs": [],
   "metadata": {
    "id": "FEL5dBn1AYDX"
   }
  },
  {
   "cell_type": "code",
   "execution_count": 209,
   "source": [
    "ORIGIN_WORD = 'OriginForm'\r\n",
    "NORMAL_FORM = 'NormalForm'\r\n",
    "POS = 'POS'\r\n",
    "CASE = 'Case'\r\n",
    "GENDER = 'Gender'\r\n",
    "DICT_EXIST = 'FromDict'\r\n",
    "WORDS = \"Words\"\r\n",
    "FREQ = \"Freq\"\r\n",
    "UNIQ = \"uniquies\"\r\n",
    "COUNT = \"count\""
   ],
   "outputs": [],
   "metadata": {
    "id": "6WAeTWuLAYDY"
   }
  },
  {
   "cell_type": "code",
   "execution_count": 154,
   "source": [
    "def print_dict(d):\r\n",
    "    print(json.dumps(d, indent=4, ensure_ascii=False))"
   ],
   "outputs": [],
   "metadata": {}
  },
  {
   "cell_type": "code",
   "execution_count": 127,
   "source": [
    "morph = pymorphy2.MorphAnalyzer()\r\n",
    "nlp = stanza.Pipeline(lang='ru', processors='tokenize')"
   ],
   "outputs": [
    {
     "output_type": "stream",
     "name": "stderr",
     "text": [
      "2021-10-13 22:02:08 INFO: Loading these models for language: ru (Russian):\n",
      "=========================\n",
      "| Processor | Package   |\n",
      "-------------------------\n",
      "| tokenize  | syntagrus |\n",
      "=========================\n",
      "\n",
      "INFO:stanza:Loading these models for language: ru (Russian):\n",
      "=========================\n",
      "| Processor | Package   |\n",
      "-------------------------\n",
      "| tokenize  | syntagrus |\n",
      "=========================\n",
      "\n",
      "2021-10-13 22:02:08 INFO: Use device: gpu\n",
      "INFO:stanza:Use device: gpu\n",
      "2021-10-13 22:02:08 INFO: Loading: tokenize\n",
      "INFO:stanza:Loading: tokenize\n",
      "2021-10-13 22:02:09 INFO: Done loading processors!\n",
      "INFO:stanza:Done loading processors!\n"
     ]
    }
   ],
   "metadata": {
    "id": "RV9OUiylAYDY",
    "outputId": "95bf420a-b7e5-4fb3-89f6-897340569d38"
   }
  },
  {
   "cell_type": "code",
   "execution_count": 128,
   "source": [
    "def get_data(t):\r\n",
    "    return 'None' if t is None else t\r\n",
    "\r\n",
    "def get_is_known(t):\r\n",
    "    return True if t else False\r\n",
    "\r\n",
    "def parse_text(text):\r\n",
    "    ret = []\r\n",
    "    t = nlp(text)\r\n",
    "    tokens = []\r\n",
    "    for sentence in t.sentences:\r\n",
    "        tokens += [token.text for token in sentence.tokens]\r\n",
    "    for word in tokens:\r\n",
    "        if re.match(r'\\w+', word):\r\n",
    "            parsed = morph.parse(word)[0]\r\n",
    "            data = {\r\n",
    "                ORIGIN_WORD : word,\r\n",
    "                NORMAL_FORM : parsed.normal_form,\r\n",
    "                POS         : get_data(gr.get(parsed.tag.POS)),\r\n",
    "                CASE        : get_data(gr.get(parsed.tag.case)) ,\r\n",
    "                GENDER      : get_data(gr.get(parsed.tag.gender)),\r\n",
    "                DICT_EXIST  : get_is_known(morph.word_is_known(word)),\r\n",
    "            }\r\n",
    "            ret.append({word : data})              \r\n",
    "    return ret"
   ],
   "outputs": [],
   "metadata": {
    "id": "YenXNsVZAYDY"
   }
  },
  {
   "cell_type": "code",
   "execution_count": 129,
   "source": [
    "parse_text(text_example)"
   ],
   "outputs": [
    {
     "output_type": "stream",
     "name": "stdout",
     "text": [
      "[{'дождище': {'OriginForm': 'дождище', 'NormalForm': 'дождище', 'POS': 'имя существительное', 'Case': 'именительный', 'Gender': 'мужской род', 'FromDict': True}}, {'душещипательская': {'OriginForm': 'душещипательская', 'NormalForm': 'душещипательский', 'POS': 'имя прилагательное (полное)', 'Case': 'именительный', 'Gender': 'женский род', 'FromDict': False}}, {'истоия': {'OriginForm': 'истоия', 'NormalForm': 'истоия', 'POS': 'имя существительное', 'Case': 'именительный', 'Gender': 'женский род', 'FromDict': False}}, {'дождь': {'OriginForm': 'дождь', 'NormalForm': 'дождь', 'POS': 'имя существительное', 'Case': 'именительный', 'Gender': 'мужской род', 'FromDict': True}}, {'кстати': {'OriginForm': 'кстати', 'NormalForm': 'кстати', 'POS': 'союз', 'Case': 'None', 'Gender': 'None', 'FromDict': True}}, {'еще': {'OriginForm': 'еще', 'NormalForm': 'ещё', 'POS': 'наречие', 'Case': 'None', 'Gender': 'None', 'FromDict': True}}, {'дождик': {'OriginForm': 'дождик', 'NormalForm': 'дождик', 'POS': 'имя существительное', 'Case': 'именительный', 'Gender': 'мужской род', 'FromDict': True}}, {'машина': {'OriginForm': 'машина', 'NormalForm': 'машина', 'POS': 'имя существительное', 'Case': 'именительный', 'Gender': 'женский род', 'FromDict': True}}, {'машинка': {'OriginForm': 'машинка', 'NormalForm': 'машинка', 'POS': 'имя существительное', 'Case': 'именительный', 'Gender': 'женский род', 'FromDict': True}}, {'машинное': {'OriginForm': 'машинное', 'NormalForm': 'машинный', 'POS': 'имя прилагательное (полное)', 'Case': 'именительный', 'Gender': 'средний род', 'FromDict': True}}, {'земля': {'OriginForm': 'земля', 'NormalForm': 'земля', 'POS': 'имя существительное', 'Case': 'именительный', 'Gender': 'женский род', 'FromDict': True}}, {'земельный': {'OriginForm': 'земельный', 'NormalForm': 'земельный', 'POS': 'имя прилагательное (полное)', 'Case': 'винительный', 'Gender': 'мужской род', 'FromDict': True}}, {'идет': {'OriginForm': 'идет', 'NormalForm': 'идти', 'POS': 'глагол (личная форма)', 'Case': 'None', 'Gender': 'None', 'FromDict': True}}, {'дождь': {'OriginForm': 'дождь', 'NormalForm': 'дождь', 'POS': 'имя существительное', 'Case': 'именительный', 'Gender': 'мужской род', 'FromDict': True}}, {'школа': {'OriginForm': 'школа', 'NormalForm': 'школа', 'POS': 'имя существительное', 'Case': 'именительный', 'Gender': 'женский род', 'FromDict': True}}, {'и': {'OriginForm': 'и', 'NormalForm': 'и', 'POS': 'союз', 'Case': 'None', 'Gender': 'None', 'FromDict': True}}, {'сервис': {'OriginForm': 'сервис', 'NormalForm': 'сервис', 'POS': 'имя существительное', 'Case': 'именительный', 'Gender': 'мужской род', 'FromDict': True}}, {'отца': {'OriginForm': 'отца', 'NormalForm': 'отец', 'POS': 'имя существительное', 'Case': 'родительный', 'Gender': 'мужской род', 'FromDict': True}}, {'с': {'OriginForm': 'с', 'NormalForm': 'с', 'POS': 'предлог', 'Case': 'None', 'Gender': 'None', 'FromDict': True}}, {'дождём': {'OriginForm': 'дождём', 'NormalForm': 'дождь', 'POS': 'имя существительное', 'Case': 'творительный', 'Gender': 'мужской род', 'FromDict': True}}, {'и': {'OriginForm': 'и', 'NormalForm': 'и', 'POS': 'союз', 'Case': 'None', 'Gender': 'None', 'FromDict': True}}, {'огнём': {'OriginForm': 'огнём', 'NormalForm': 'огонь', 'POS': 'имя существительное', 'Case': 'творительный', 'Gender': 'мужской род', 'FromDict': True}}, {'воды': {'OriginForm': 'воды', 'NormalForm': 'вода', 'POS': 'имя существительное', 'Case': 'родительный', 'Gender': 'женский род', 'FromDict': True}}, {'сразу': {'OriginForm': 'сразу', 'NormalForm': 'сразу', 'POS': 'наречие', 'Case': 'None', 'Gender': 'None', 'FromDict': True}}, {'с': {'OriginForm': 'с', 'NormalForm': 'с', 'POS': 'предлог', 'Case': 'None', 'Gender': 'None', 'FromDict': True}}, {'обрыва': {'OriginForm': 'обрыва', 'NormalForm': 'обрыв', 'POS': 'имя существительное', 'Case': 'родительный', 'Gender': 'мужской род', 'FromDict': True}}, {'в': {'OriginForm': 'в', 'NormalForm': 'в', 'POS': 'предлог', 'Case': 'None', 'Gender': 'None', 'FromDict': True}}, {'облака': {'OriginForm': 'облака', 'NormalForm': 'облако', 'POS': 'имя существительное', 'Case': 'именительный', 'Gender': 'средний род', 'FromDict': True}}, {'облачные': {'OriginForm': 'облачные', 'NormalForm': 'облачный', 'POS': 'имя прилагательное (полное)', 'Case': 'именительный', 'Gender': 'None', 'FromDict': True}}, {'шторм': {'OriginForm': 'шторм', 'NormalForm': 'шторм', 'POS': 'имя существительное', 'Case': 'именительный', 'Gender': 'мужской род', 'FromDict': True}}, {'шёл': {'OriginForm': 'шёл', 'NormalForm': 'идти', 'POS': 'глагол (личная форма)', 'Case': 'None', 'Gender': 'мужской род', 'FromDict': True}}, {'назад': {'OriginForm': 'назад', 'NormalForm': 'назад', 'POS': 'наречие', 'Case': 'None', 'Gender': 'None', 'FromDict': True}}, {'и': {'OriginForm': 'и', 'NormalForm': 'и', 'POS': 'союз', 'Case': 'None', 'Gender': 'None', 'FromDict': True}}, {'вперёд': {'OriginForm': 'вперёд', 'NormalForm': 'вперёд', 'POS': 'наречие', 'Case': 'None', 'Gender': 'None', 'FromDict': True}}]\n"
     ]
    }
   ],
   "metadata": {
    "id": "Sv25zaSjAYDZ",
    "outputId": "f4817335-9c22-49f9-f021-02662e75d86f"
   }
  },
  {
   "cell_type": "markdown",
   "source": [
    "### Задание 4.\n",
    "Напишите функцию `save_morph_results()`, сохраняющую структуру данных, получаемую функцией `parse_text()`, в текстовый файл формата JSON."
   ],
   "metadata": {
    "id": "h2atM2dKAYDa"
   }
  },
  {
   "cell_type": "code",
   "execution_count": 130,
   "source": [
    "def save_morph_results(d):\r\n",
    "    with open(\"morph_results.json\", \"w+\", encoding='utf-8') as f:\r\n",
    "        tojs = json.dumps(d, indent=4, ensure_ascii=False)\r\n",
    "        f.write(tojs)"
   ],
   "outputs": [],
   "metadata": {
    "id": "1c5PH4ifAYDa"
   }
  },
  {
   "cell_type": "code",
   "execution_count": 188,
   "source": [
    "save_morph_results(parse_text(text_example))"
   ],
   "outputs": [],
   "metadata": {
    "id": "ly8zxzBeAYDa"
   }
  },
  {
   "cell_type": "markdown",
   "source": [
    "### Задание 5.\n",
    "Напишите функцию `get_dictionary()`, на вход которой поступает структура данных, получаемая функцией `parse_text()`, а на выходе формируется словарь, ключами которого являются все нормальные формы слов текста, а в качестве значений хранится следующая информация:\n",
    "- часть речи слова;\n",
    "- частота слова в тексте;\n",
    "- все варианты словоформ в тексте с данной нормальной формой."
   ],
   "metadata": {
    "id": "E8mEMd9sAYDb"
   }
  },
  {
   "cell_type": "code",
   "execution_count": 149,
   "source": [
    "# получаем все слова с такой нормальной формой\r\n",
    "def get_words(data, normal_word):\r\n",
    "    wrds = []\r\n",
    "    for d in data:\r\n",
    "        if list(d.values())[0][NORMAL_FORM]  == normal_word:\r\n",
    "            wrds.append(list(d)[0])\r\n",
    "    return wrds"
   ],
   "outputs": [],
   "metadata": {}
  },
  {
   "cell_type": "code",
   "execution_count": 201,
   "source": [
    "def get_dictionary(parsed):\r\n",
    "    tmp = {}\r\n",
    "    for val in parsed:\r\n",
    "        value = list(val.values())[0]\r\n",
    "        wrds_list = get_words(list(parsed), value[NORMAL_FORM])\r\n",
    "        tmp.update({value[NORMAL_FORM] : { \r\n",
    "            POS   : value[POS], \r\n",
    "            WORDS : wrds_list,\r\n",
    "        }})\r\n",
    "    for k, v in tmp.items():\r\n",
    "        tmp[k].update({FREQ : round(len(v[WORDS]) / len(parsed), 4)}) \r\n",
    "    return tmp"
   ],
   "outputs": [],
   "metadata": {
    "id": "Hr7NdKvEAYDb"
   }
  },
  {
   "cell_type": "code",
   "execution_count": 202,
   "source": [
    "get_dictionary(parse_text(text_example))"
   ],
   "outputs": [
    {
     "output_type": "stream",
     "name": "stdout",
     "text": [
      "{'дождище': {'POS': 'имя существительное', 'Words': ['дождище'], 'Freq': 0.0286}, 'душещипательский': {'POS': 'имя прилагательное (полное)', 'Words': ['душещипательская', 'душещипательская'], 'Freq': 0.0571}, 'истоия': {'POS': 'имя существительное', 'Words': ['истоия'], 'Freq': 0.0286}, 'дождь': {'POS': 'имя существительное', 'Words': ['дождь', 'дождь', 'дождём'], 'Freq': 0.0857}, 'кстати': {'POS': 'союз', 'Words': ['кстати'], 'Freq': 0.0286}, 'ещё': {'POS': 'наречие', 'Words': ['еще'], 'Freq': 0.0286}, 'дождик': {'POS': 'имя существительное', 'Words': ['дождик'], 'Freq': 0.0286}, 'машина': {'POS': 'имя существительное', 'Words': ['машина'], 'Freq': 0.0286}, 'машинка': {'POS': 'имя существительное', 'Words': ['машинка'], 'Freq': 0.0286}, 'машинный': {'POS': 'имя прилагательное (полное)', 'Words': ['машинное'], 'Freq': 0.0286}, 'земля': {'POS': 'имя существительное', 'Words': ['земля'], 'Freq': 0.0286}, 'земельный': {'POS': 'имя прилагательное (полное)', 'Words': ['земельный'], 'Freq': 0.0286}, 'идти': {'POS': 'глагол (личная форма)', 'Words': ['идет', 'шёл'], 'Freq': 0.0571}, 'школа': {'POS': 'имя существительное', 'Words': ['школа'], 'Freq': 0.0286}, 'и': {'POS': 'союз', 'Words': ['и', 'и', 'и'], 'Freq': 0.0857}, 'сервис': {'POS': 'имя существительное', 'Words': ['сервис'], 'Freq': 0.0286}, 'отец': {'POS': 'имя существительное', 'Words': ['отца'], 'Freq': 0.0286}, 'с': {'POS': 'предлог', 'Words': ['с', 'с'], 'Freq': 0.0571}, 'огонь': {'POS': 'имя существительное', 'Words': ['огнём'], 'Freq': 0.0286}, 'вода': {'POS': 'имя существительное', 'Words': ['воды'], 'Freq': 0.0286}, 'сразу': {'POS': 'наречие', 'Words': ['сразу'], 'Freq': 0.0286}, 'обрыв': {'POS': 'имя существительное', 'Words': ['обрыва'], 'Freq': 0.0286}, 'в': {'POS': 'предлог', 'Words': ['в'], 'Freq': 0.0286}, 'облако': {'POS': 'имя существительное', 'Words': ['облака'], 'Freq': 0.0286}, 'облачный': {'POS': 'имя прилагательное (полное)', 'Words': ['облачные'], 'Freq': 0.0286}, 'шторм': {'POS': 'имя существительное', 'Words': ['шторм'], 'Freq': 0.0286}, 'назад': {'POS': 'наречие', 'Words': ['назад'], 'Freq': 0.0286}, 'вперёд': {'POS': 'наречие', 'Words': ['вперёд'], 'Freq': 0.0286}}\n"
     ]
    }
   ],
   "metadata": {
    "id": "l0q2FSrCAYDb",
    "outputId": "77bdf519-e36a-423c-bb87-f739ae67b318"
   }
  },
  {
   "cell_type": "markdown",
   "source": [
    "### Задание 6.\n",
    "Напишите функцию `save_dictionary()`, сохраняющую предыдущую структуру данных в текстовый файл формата JSON. Слова в файле должны быть упорядочены по убыванию частоты."
   ],
   "metadata": {
    "id": "z-4cTSvLAYDb"
   }
  },
  {
   "cell_type": "code",
   "execution_count": 180,
   "source": [
    "def save_dictionary(d):\r\n",
    "    with open(\"get_dictionary_results.json\", \"w+\", encoding='utf-8') as f:\r\n",
    "        tojs = json.dumps(d, indent=4, ensure_ascii=False)\r\n",
    "        f.write(tojs)"
   ],
   "outputs": [],
   "metadata": {
    "id": "NwrlMYLnAYDb"
   }
  },
  {
   "cell_type": "code",
   "execution_count": 189,
   "source": [
    "save_dictionary(get_dictionary(parse_text(text_example)))"
   ],
   "outputs": [],
   "metadata": {}
  },
  {
   "cell_type": "markdown",
   "source": [
    "### Задание 7.\n",
    "Напишите функцию `get_non_dict()`, на вход которой поступает структура данных, получаемая функцией `parse_text()`, а на выходе формируется словарь, содержащий слова текста, отсутствующие в словаре `pymorphy2`, вместе с частотой слова в тексте."
   ],
   "metadata": {
    "id": "IRSDEYoEAYDc"
   }
  },
  {
   "cell_type": "code",
   "execution_count": 203,
   "source": [
    "def get_non_dict(parsed):\r\n",
    "    d = {}\r\n",
    "    for v in parsed:\r\n",
    "        key = list(v)[0]\r\n",
    "        if not v[key][DICT_EXIST]:\r\n",
    "            count = d.get(v[key][ORIGIN_WORD], 0) + 1\r\n",
    "            d.update({ v[key][ORIGIN_WORD] : count})\r\n",
    "    for k, v in d.items():\r\n",
    "        d.update({k : round(v / len(parsed), 4)}) \r\n",
    "    return d"
   ],
   "outputs": [],
   "metadata": {
    "id": "Eg2Por_TAYDc"
   }
  },
  {
   "cell_type": "code",
   "execution_count": 204,
   "source": [
    "get_non_dict(parse_text(text_example))"
   ],
   "outputs": [
    {
     "output_type": "execute_result",
     "data": {
      "text/plain": [
       "{'душещипательская': 0.0571, 'истоия': 0.0286}"
      ]
     },
     "metadata": {},
     "execution_count": 204
    }
   ],
   "metadata": {}
  },
  {
   "cell_type": "markdown",
   "source": [
    "### Задание 8.\n",
    "Напишите функцию `save_non_dict()`, сохраняющую структуру данных, получаемую функцией `get_non_dict()`, в текстовый файл формата TSV (tab-separated values). Слова в файле должны быть упорядочены по убыванию частоты."
   ],
   "metadata": {
    "id": "embnnlxiAYDc"
   }
  },
  {
   "cell_type": "code",
   "execution_count": 207,
   "source": [
    "def save_non_dict(data):\r\n",
    "    with open('non_dict_results.tsv', 'w', encoding='utf-8') as tsvfile:\r\n",
    "        for k, v in data.items():\r\n",
    "            tsvfile.write(f\"{k}\\t{v}\\n\")"
   ],
   "outputs": [],
   "metadata": {
    "id": "D2RnWcxmAYDc"
   }
  },
  {
   "cell_type": "code",
   "execution_count": 208,
   "source": [
    "save_non_dict(get_non_dict(parse_text(text_example)))"
   ],
   "outputs": [],
   "metadata": {}
  },
  {
   "cell_type": "markdown",
   "source": [
    "### Задание 9.\n",
    "Напишите функцию `get_pos_distribution()`, на вход которой поступает словарь, формируемый функцией `get_dictionary()`, а на выходе выдается структура данных, содержащая частотное распределение частей речи в словаре:\n",
    "- часть речи – количество уникальных слов – общее количество слов."
   ],
   "metadata": {
    "id": "eZP6NapSAYDc"
   }
  },
  {
   "cell_type": "code",
   "execution_count": 92,
   "source": [
    "def get_pos_distribution(data):\r\n",
    "    d = {}\r\n",
    "    for k, v in data.items():\r\n",
    "        if d.get(v[POS]) is None:\r\n",
    "            d.update({v[POS] : { UNIQ : 1, COUNT : v[FREQ]}})\r\n",
    "        else:\r\n",
    "            tmp_u = d[v[POS]].get(UNIQ) + 1\r\n",
    "            tmp_c = d[v[POS]].get(COUNT) + v[FREQ]\r\n",
    "            d.update({v[POS] : { UNIQ : tmp_u, COUNT : tmp_c}})\r\n",
    "    return d"
   ],
   "outputs": [],
   "metadata": {
    "id": "YUlbBKwqAYDd"
   }
  },
  {
   "cell_type": "code",
   "execution_count": 93,
   "source": [
    "get_pos_distribution(get_dictionary(parse_text(text_example)))"
   ],
   "outputs": [
    {
     "output_type": "execute_result",
     "data": {
      "text/plain": [
       "{'имя существительное': {'uniquies': 13, 'count': 13},\n",
       " 'союз': {'uniquies': 2, 'count': 2},\n",
       " 'наречие': {'uniquies': 4, 'count': 4},\n",
       " 'имя прилагательное (полное)': {'uniquies': 3, 'count': 3},\n",
       " 'глагол (личная форма)': {'uniquies': 1, 'count': 1},\n",
       " 'предлог': {'uniquies': 2, 'count': 2}}"
      ]
     },
     "metadata": {},
     "execution_count": 93
    }
   ],
   "metadata": {}
  },
  {
   "cell_type": "markdown",
   "source": [
    "### Задание 10.\n",
    "Создайте текстовую коллекцию - скачайте не менее **10 текстов** разных жанров и разного размера (например, произведения классиков, современных писателей, новостные статьи, научные статьи и т.п.).\n",
    "\n",
    "Учитывайте кодировку – все файлы должны быть в UTF-8."
   ],
   "metadata": {
    "id": "9UwArSLVAYDd"
   }
  },
  {
   "cell_type": "code",
   "execution_count": null,
   "source": [
    "# Ваш код для открытия файлов."
   ],
   "outputs": [],
   "metadata": {
    "id": "SJzBYyOSAYDd"
   }
  },
  {
   "cell_type": "markdown",
   "source": [
    "### Задание 11.\n",
    "Обработайте текстовую коллекцию при помощи функций `parse_text()`, `get_dictionary()` и `get_non_dict()`, и сохраните результаты в текстовых файлах при помощи функций `save_morph_results()`, `save_dictionary()` и `save_non_dict()`.\n",
    "\n",
    "Для каждого входного текстового файла выведите на экран следующую информацию:\n",
    "- имя файла;\n",
    "- размер файла в байтах;\n",
    "- размер текста в словах (общее количество слов в тексте);\n",
    "- размер словаря (количество уникальных слов в тексте);\n",
    "- время обработки файла (в секундах)."
   ],
   "metadata": {
    "id": "JSjGvSAVAYDd"
   }
  },
  {
   "cell_type": "code",
   "execution_count": null,
   "source": [
    "# Ваш код для обработки коллекции и вывода результатов"
   ],
   "outputs": [],
   "metadata": {
    "id": "YEG5GOXdAYDd"
   }
  },
  {
   "cell_type": "markdown",
   "source": [
    "### Задание 12.\n",
    "Для самого большого словаря выполните следующее:\n",
    "- постройте частотное распределение слов: по оси ординат – частота, по оси абсцисс – слова, упорядоченные по убыванию частоты (по-другому, *ранги* слов). В качестве значений на оси абсцисс можно выводить ранги слов, а не сами слова;\n",
    "- постройте в виде диаграммы распределение частей речи, полученное функцией `get_pos_distribution()`."
   ],
   "metadata": {
    "id": "PuznH_oQAYDd"
   }
  },
  {
   "cell_type": "code",
   "execution_count": null,
   "source": [
    "# Ваш код для вывода графика и диаграммы"
   ],
   "outputs": [],
   "metadata": {
    "id": "vsnPPm4nAYDe"
   }
  },
  {
   "cell_type": "markdown",
   "source": [
    "### Задание 13.\n",
    "Постройте график зависимость времени морфологического анализа от размера текстового файла."
   ],
   "metadata": {
    "id": "enE5SdVwAYDe"
   }
  },
  {
   "cell_type": "code",
   "execution_count": null,
   "source": [
    "# Ваш код для вывода графика"
   ],
   "outputs": [],
   "metadata": {
    "id": "gBXbc2AGAYDe"
   }
  }
 ],
 "metadata": {
  "colab": {
   "collapsed_sections": [],
   "name": "lab1_course2.ipynb",
   "provenance": []
  },
  "kernelspec": {
   "name": "python3",
   "display_name": "Python 3.8.5 64-bit ('base': conda)"
  },
  "language_info": {
   "codemirror_mode": {
    "name": "ipython",
    "version": 3
   },
   "file_extension": ".py",
   "mimetype": "text/x-python",
   "name": "python",
   "nbconvert_exporter": "python",
   "pygments_lexer": "ipython3",
   "version": "3.8.5"
  },
  "interpreter": {
   "hash": "b3ba2566441a7c06988d0923437866b63cedc61552a5af99d1f4fb67d367b25f"
  }
 },
 "nbformat": 4,
 "nbformat_minor": 4
}