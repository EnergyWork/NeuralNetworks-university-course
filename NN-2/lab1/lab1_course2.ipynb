{
 "cells": [
  {
   "cell_type": "markdown",
   "source": [
    "# Лабораторная работа 1. Морфологический анализ"
   ],
   "metadata": {
    "id": "Dk6rwuTRAYDQ"
   }
  },
  {
   "cell_type": "markdown",
   "source": [
    "### Задание 1.\n",
    "1. Изучить демонстрационный ноутбук `\"Сегментация и токенизация\"`.\n",
    "1. Выберите наилучшую, на ваш взгляд, библиотеку для сегментации и токенизации."
   ],
   "metadata": {
    "id": "GNgrnb0LAYDU"
   }
  },
  {
   "cell_type": "markdown",
   "source": [
    "### Задание 2.\n",
    "1. Изучите документацию и лицензию морфологического парсера [pymorphy2](https://pymorphy2.readthedocs.io).\n",
    "1. Установите `pymorphy2`."
   ],
   "metadata": {
    "id": "SKF6vHxkAYDU"
   }
  },
  {
   "cell_type": "markdown",
   "source": [
    "### Задание 3.\n",
    "Напишите функцию `parse_text()`, на вход которых поступает текст (в виде строки), а на выходе формируется список, содержащий для каждого слова входного текста следующую информацию:\n",
    "- исходную словоформу (`wordform`);\n",
    "- нормальную форму слова (лемму) (`norm` или `lemma`);\n",
    "- часть речи (part of speech, `pos`);\n",
    "- другую грамматическую информацию, выдаваемую `pymorphy2`;\n",
    "- признак, присутствует ли слово в словаре `pymorphy2`.\n",
    "\n",
    "Функция должна выбирать наиболее вероятный вариант морфологического разбора слова.\n"
   ],
   "metadata": {
    "id": "mOgulmyqAYDV"
   }
  },
  {
   "cell_type": "code",
   "execution_count": 1,
   "source": [
    "text0 = 'Напишите функцию parse_text(), на вход которых поступает текст (в виде строки), а на выходе формируется список, содержащий для каждого слова входного текста следующую информацию:'"
   ],
   "outputs": [],
   "metadata": {
    "id": "36N9WNq2AYDV"
   }
  },
  {
   "cell_type": "code",
   "execution_count": 2,
   "source": [
    "text1 = 'Крепостного права я не знал и не видел, но помню, у тетки Анны Герасимовны чувствовал его. Въедешь во двор и сразу ощущаешь, что тут оно еще вполне живо. Усадьба – небольшая, но вся старая, прочная, окруженная столетними березами и лозинами. Надворных построек – невысоких, но домовитых – множество, и все они точно слиты из темных дубовых бревен под соломенными крышами. Выделяется величиной или, лучше сказать, длиной только почерневшая людская, из которой выглядывают последние могикане дворянского сословия – какие-то ветхие старики и старухи, дряхлый повар в отставке, похожий на Дон-Кихота. Все они, когда въезжаешь во двор, подтягиваются и низко-низко кланяются. Седой кучер, направляющийся от каретного сарая взять лошадь, еще у сарая снимает шапку и по всему двору идет с обнаженной головой. Он у тетки ездил форейтором, а теперь возит ее к обедне, - зимой в возке, а летом в крепкой, окованной железом тележке, вроде тех, на которых ездят попы. Сад у тетки славился своей запущенностью, соловьями, горлинками и яблоками, а дом – крышей. Стоял он во главе двора, у самого сада, - ветки лип обнимали его, - был невелик и приземист, но казалось, что ему и веку не будет, - так основательно глядел он из-под своей необыкновенно высокой и толстой соломенной крыши, почерневшей и затвердевшей от времени. Мне его передний фасад представлялся всегда живым: точно старое лицо глядит из-под огромной шапки впадинами глаз, - окнами с перламутровыми от дождя и солнца стеклами.'"
   ],
   "outputs": [],
   "metadata": {}
  },
  {
   "cell_type": "code",
   "execution_count": 3,
   "source": [
    "text2 = 'дождище душещипательская истоия дождь кстати еще дождик машина машинка машинное душещипательская земля земельный идет дождь школа и сервис отца с дождём и огнём воды сразу с обрыва в облака облачные шторм шёл назад и вперёд'"
   ],
   "outputs": [],
   "metadata": {}
  },
  {
   "cell_type": "code",
   "execution_count": 4,
   "source": [
    "import stanza\r\n",
    "import pymorphy2\r\n",
    "import logging\r\n",
    "import re\r\n",
    "import csv\r\n",
    "from pprint import pprint\r\n",
    "import copy\r\n",
    "import json"
   ],
   "outputs": [],
   "metadata": {
    "id": "ybSzhMp1AYDW"
   }
  },
  {
   "cell_type": "code",
   "execution_count": 5,
   "source": [
    "stanza.download(\"ru\")"
   ],
   "outputs": [
    {
     "output_type": "stream",
     "name": "stderr",
     "text": [
      "Downloading https://raw.githubusercontent.com/stanfordnlp/stanza-resources/main/resources_1.2.2.json: 140kB [00:00, 23.4MB/s]                    \n",
      "2021-10-14 19:36:16 INFO: Downloading default packages for language: ru (Russian)...\n",
      "2021-10-14 19:36:18 INFO: File exists: C:\\Users\\artem\\stanza_resources\\ru\\default.zip.\n",
      "2021-10-14 19:36:21 INFO: Finished downloading models and saved to C:\\Users\\artem\\stanza_resources.\n"
     ]
    }
   ],
   "metadata": {
    "colab": {
     "referenced_widgets": [
      "ff6d3edeb7cf41e597ea14f294bd6dd1"
     ]
    },
    "id": "8le8vymRAYDW",
    "outputId": "b66ae015-0d46-4785-8d61-c7ac105fe236"
   }
  },
  {
   "cell_type": "code",
   "execution_count": 6,
   "source": [
    "text_example = copy.copy(text2)"
   ],
   "outputs": [],
   "metadata": {}
  },
  {
   "cell_type": "code",
   "execution_count": 7,
   "source": [
    "gr = {\r\n",
    "    \"NOUN\":\"имя существительное\",\r\n",
    "    \"ADJF\": \"имя прилагательное (полное)\",\r\n",
    "    \"NOUN\":\"имя существительное\",\r\n",
    "    \"ADJF\":\"имя прилагательное (полное)\",\r\n",
    "    \"ADJS\":\"имя прилагательное (краткое)\",\r\n",
    "    \"COMP\":\"компаратив\",\r\n",
    "    \"VERB\":\"глагол (личная форма)\",\r\n",
    "    \"INFN\":\"глагол (инфинитив)\",\r\n",
    "    \"PRTF\":\"причастие (полное)\",\r\n",
    "    \"PRTS\":\"причастие (краткое)\",\r\n",
    "    \"GRND\":\"деепричастие\",\r\n",
    "    \"NUMR\":\"числительное\",\r\n",
    "    \"ADVB\":\"наречие\",\r\n",
    "    \"NPRO\":\"местоимение-существительное\",\r\n",
    "    \"PRED\":\"предикатив\",\r\n",
    "    \"PREP\":\"предлог\",\r\n",
    "    \"CONJ\":\"союз\",\r\n",
    "    \"PRCL\":\"частица\",\r\n",
    "    \"INTJ\":\"междометие\",\r\n",
    "    \"nomn\":\"именительный\",\r\n",
    "    \"gent\":\"родительный\",\r\n",
    "    \"datv\":\"дательный\",\r\n",
    "    \"accs\":\"винительный\",\r\n",
    "    \"ablt\":\"творительный\",\r\n",
    "    \"loct\":\"предложный\",\r\n",
    "    \"voct\":\"звательный\",\r\n",
    "    \"gen2\":\"второй родительный (частичный)\",\r\n",
    "    \"acc2\":\"второй винительный\",\r\n",
    "    \"loc2\":\"второй предложный (местный)\",\r\n",
    "    \"masc\":\"мужской род\",\r\n",
    "    \"femn\":\"женский род\",\r\n",
    "    \"neut\":\"средний род\",\r\n",
    "    \"LATN\":\"Токен состоит из латинских букв (например, “foo-bar” или “Maßstab”)\",\r\n",
    "    \"PNCT\":\"Пунктуация (например, , или !? или …)\",\r\n",
    "    \"NUMB\":\"Число (например, “204” или “3.14”)\",\r\n",
    "    \"intg\":\"целое число (например, “204”)\",\r\n",
    "    \"real\":\"вещественное число (например, “3.14”)\",\r\n",
    "    \"ROMN\":\"Римское число (например, XI)\",\r\n",
    "    \"UNKN\":\"Токен не удалось разобрать\",\r\n",
    "}"
   ],
   "outputs": [],
   "metadata": {
    "id": "FEL5dBn1AYDX"
   }
  },
  {
   "cell_type": "code",
   "execution_count": 8,
   "source": [
    "ORIGIN_WORD = 'OriginForm'\r\n",
    "NORMAL_FORM = 'NormalForm'\r\n",
    "POS = 'POS'\r\n",
    "CASE = 'Case'\r\n",
    "GENDER = 'Gender'\r\n",
    "DICT_EXIST = 'FromDict'\r\n",
    "WORDS = \"Words\"\r\n",
    "FREQ = \"Freq\"\r\n",
    "UNIQ = \"uniquies\"\r\n",
    "COUNT = \"count\""
   ],
   "outputs": [],
   "metadata": {
    "id": "6WAeTWuLAYDY"
   }
  },
  {
   "cell_type": "code",
   "execution_count": 9,
   "source": [
    "def print_dict(d):\r\n",
    "    print(json.dumps(d, indent=4, ensure_ascii=False))"
   ],
   "outputs": [],
   "metadata": {}
  },
  {
   "cell_type": "code",
   "execution_count": 10,
   "source": [
    "morph = pymorphy2.MorphAnalyzer()\r\n",
    "nlp = stanza.Pipeline(lang='ru', processors='tokenize')"
   ],
   "outputs": [
    {
     "output_type": "stream",
     "name": "stderr",
     "text": [
      "2021-10-14 19:36:21 INFO: Loading these models for language: ru (Russian):\n",
      "=========================\n",
      "| Processor | Package   |\n",
      "-------------------------\n",
      "| tokenize  | syntagrus |\n",
      "=========================\n",
      "\n",
      "2021-10-14 19:36:21 INFO: Use device: gpu\n",
      "2021-10-14 19:36:21 INFO: Loading: tokenize\n",
      "2021-10-14 19:36:26 INFO: Done loading processors!\n"
     ]
    }
   ],
   "metadata": {
    "id": "RV9OUiylAYDY",
    "outputId": "95bf420a-b7e5-4fb3-89f6-897340569d38"
   }
  },
  {
   "cell_type": "code",
   "execution_count": 11,
   "source": [
    "def get_data(t):\r\n",
    "    return 'None' if t is None else t\r\n",
    "\r\n",
    "def get_is_known(t):\r\n",
    "    return True if t else False\r\n",
    "\r\n",
    "def parse_text(text):\r\n",
    "    ret = []\r\n",
    "    t = nlp(text)\r\n",
    "    tokens = []\r\n",
    "    for sentence in t.sentences:\r\n",
    "        tokens += [token.text for token in sentence.tokens]\r\n",
    "    for word in tokens:\r\n",
    "        if re.match(r'\\w+', word):\r\n",
    "            parsed = morph.parse(word)[0]\r\n",
    "            data = {\r\n",
    "                ORIGIN_WORD : word,\r\n",
    "                NORMAL_FORM : parsed.normal_form,\r\n",
    "                POS         : get_data(gr.get(parsed.tag.POS)),\r\n",
    "                CASE        : get_data(gr.get(parsed.tag.case)) ,\r\n",
    "                GENDER      : get_data(gr.get(parsed.tag.gender)),\r\n",
    "                DICT_EXIST  : get_is_known(morph.word_is_known(word)),\r\n",
    "            }\r\n",
    "            ret.append({word : data})              \r\n",
    "    return ret"
   ],
   "outputs": [],
   "metadata": {
    "id": "YenXNsVZAYDY"
   }
  },
  {
   "cell_type": "code",
   "execution_count": 12,
   "source": [
    "parse_text(text_example)"
   ],
   "outputs": [
    {
     "output_type": "execute_result",
     "data": {
      "text/plain": [
       "[{'дождище': {'OriginForm': 'дождище',\n",
       "   'NormalForm': 'дождище',\n",
       "   'POS': 'имя существительное',\n",
       "   'Case': 'именительный',\n",
       "   'Gender': 'мужской род',\n",
       "   'FromDict': True}},\n",
       " {'душещипательская': {'OriginForm': 'душещипательская',\n",
       "   'NormalForm': 'душещипательский',\n",
       "   'POS': 'имя прилагательное (полное)',\n",
       "   'Case': 'именительный',\n",
       "   'Gender': 'женский род',\n",
       "   'FromDict': False}},\n",
       " {'истоия': {'OriginForm': 'истоия',\n",
       "   'NormalForm': 'истоия',\n",
       "   'POS': 'имя существительное',\n",
       "   'Case': 'именительный',\n",
       "   'Gender': 'женский род',\n",
       "   'FromDict': False}},\n",
       " {'дождь': {'OriginForm': 'дождь',\n",
       "   'NormalForm': 'дождь',\n",
       "   'POS': 'имя существительное',\n",
       "   'Case': 'именительный',\n",
       "   'Gender': 'мужской род',\n",
       "   'FromDict': True}},\n",
       " {'кстати': {'OriginForm': 'кстати',\n",
       "   'NormalForm': 'кстати',\n",
       "   'POS': 'союз',\n",
       "   'Case': 'None',\n",
       "   'Gender': 'None',\n",
       "   'FromDict': True}},\n",
       " {'еще': {'OriginForm': 'еще',\n",
       "   'NormalForm': 'ещё',\n",
       "   'POS': 'наречие',\n",
       "   'Case': 'None',\n",
       "   'Gender': 'None',\n",
       "   'FromDict': True}},\n",
       " {'дождик': {'OriginForm': 'дождик',\n",
       "   'NormalForm': 'дождик',\n",
       "   'POS': 'имя существительное',\n",
       "   'Case': 'именительный',\n",
       "   'Gender': 'мужской род',\n",
       "   'FromDict': True}},\n",
       " {'машина': {'OriginForm': 'машина',\n",
       "   'NormalForm': 'машина',\n",
       "   'POS': 'имя существительное',\n",
       "   'Case': 'именительный',\n",
       "   'Gender': 'женский род',\n",
       "   'FromDict': True}},\n",
       " {'машинка': {'OriginForm': 'машинка',\n",
       "   'NormalForm': 'машинка',\n",
       "   'POS': 'имя существительное',\n",
       "   'Case': 'именительный',\n",
       "   'Gender': 'женский род',\n",
       "   'FromDict': True}},\n",
       " {'машинное': {'OriginForm': 'машинное',\n",
       "   'NormalForm': 'машинный',\n",
       "   'POS': 'имя прилагательное (полное)',\n",
       "   'Case': 'именительный',\n",
       "   'Gender': 'средний род',\n",
       "   'FromDict': True}},\n",
       " {'душещипательская': {'OriginForm': 'душещипательская',\n",
       "   'NormalForm': 'душещипательский',\n",
       "   'POS': 'имя прилагательное (полное)',\n",
       "   'Case': 'именительный',\n",
       "   'Gender': 'женский род',\n",
       "   'FromDict': False}},\n",
       " {'земля': {'OriginForm': 'земля',\n",
       "   'NormalForm': 'земля',\n",
       "   'POS': 'имя существительное',\n",
       "   'Case': 'именительный',\n",
       "   'Gender': 'женский род',\n",
       "   'FromDict': True}},\n",
       " {'земельный': {'OriginForm': 'земельный',\n",
       "   'NormalForm': 'земельный',\n",
       "   'POS': 'имя прилагательное (полное)',\n",
       "   'Case': 'винительный',\n",
       "   'Gender': 'мужской род',\n",
       "   'FromDict': True}},\n",
       " {'идет': {'OriginForm': 'идет',\n",
       "   'NormalForm': 'идти',\n",
       "   'POS': 'глагол (личная форма)',\n",
       "   'Case': 'None',\n",
       "   'Gender': 'None',\n",
       "   'FromDict': True}},\n",
       " {'дождь': {'OriginForm': 'дождь',\n",
       "   'NormalForm': 'дождь',\n",
       "   'POS': 'имя существительное',\n",
       "   'Case': 'именительный',\n",
       "   'Gender': 'мужской род',\n",
       "   'FromDict': True}},\n",
       " {'школа': {'OriginForm': 'школа',\n",
       "   'NormalForm': 'школа',\n",
       "   'POS': 'имя существительное',\n",
       "   'Case': 'именительный',\n",
       "   'Gender': 'женский род',\n",
       "   'FromDict': True}},\n",
       " {'и': {'OriginForm': 'и',\n",
       "   'NormalForm': 'и',\n",
       "   'POS': 'союз',\n",
       "   'Case': 'None',\n",
       "   'Gender': 'None',\n",
       "   'FromDict': True}},\n",
       " {'сервис': {'OriginForm': 'сервис',\n",
       "   'NormalForm': 'сервис',\n",
       "   'POS': 'имя существительное',\n",
       "   'Case': 'именительный',\n",
       "   'Gender': 'мужской род',\n",
       "   'FromDict': True}},\n",
       " {'отца': {'OriginForm': 'отца',\n",
       "   'NormalForm': 'отец',\n",
       "   'POS': 'имя существительное',\n",
       "   'Case': 'родительный',\n",
       "   'Gender': 'мужской род',\n",
       "   'FromDict': True}},\n",
       " {'с': {'OriginForm': 'с',\n",
       "   'NormalForm': 'с',\n",
       "   'POS': 'предлог',\n",
       "   'Case': 'None',\n",
       "   'Gender': 'None',\n",
       "   'FromDict': True}},\n",
       " {'дождём': {'OriginForm': 'дождём',\n",
       "   'NormalForm': 'дождь',\n",
       "   'POS': 'имя существительное',\n",
       "   'Case': 'творительный',\n",
       "   'Gender': 'мужской род',\n",
       "   'FromDict': True}},\n",
       " {'и': {'OriginForm': 'и',\n",
       "   'NormalForm': 'и',\n",
       "   'POS': 'союз',\n",
       "   'Case': 'None',\n",
       "   'Gender': 'None',\n",
       "   'FromDict': True}},\n",
       " {'огнём': {'OriginForm': 'огнём',\n",
       "   'NormalForm': 'огонь',\n",
       "   'POS': 'имя существительное',\n",
       "   'Case': 'творительный',\n",
       "   'Gender': 'мужской род',\n",
       "   'FromDict': True}},\n",
       " {'воды': {'OriginForm': 'воды',\n",
       "   'NormalForm': 'вода',\n",
       "   'POS': 'имя существительное',\n",
       "   'Case': 'родительный',\n",
       "   'Gender': 'женский род',\n",
       "   'FromDict': True}},\n",
       " {'сразу': {'OriginForm': 'сразу',\n",
       "   'NormalForm': 'сразу',\n",
       "   'POS': 'наречие',\n",
       "   'Case': 'None',\n",
       "   'Gender': 'None',\n",
       "   'FromDict': True}},\n",
       " {'с': {'OriginForm': 'с',\n",
       "   'NormalForm': 'с',\n",
       "   'POS': 'предлог',\n",
       "   'Case': 'None',\n",
       "   'Gender': 'None',\n",
       "   'FromDict': True}},\n",
       " {'обрыва': {'OriginForm': 'обрыва',\n",
       "   'NormalForm': 'обрыв',\n",
       "   'POS': 'имя существительное',\n",
       "   'Case': 'родительный',\n",
       "   'Gender': 'мужской род',\n",
       "   'FromDict': True}},\n",
       " {'в': {'OriginForm': 'в',\n",
       "   'NormalForm': 'в',\n",
       "   'POS': 'предлог',\n",
       "   'Case': 'None',\n",
       "   'Gender': 'None',\n",
       "   'FromDict': True}},\n",
       " {'облака': {'OriginForm': 'облака',\n",
       "   'NormalForm': 'облако',\n",
       "   'POS': 'имя существительное',\n",
       "   'Case': 'именительный',\n",
       "   'Gender': 'средний род',\n",
       "   'FromDict': True}},\n",
       " {'облачные': {'OriginForm': 'облачные',\n",
       "   'NormalForm': 'облачный',\n",
       "   'POS': 'имя прилагательное (полное)',\n",
       "   'Case': 'именительный',\n",
       "   'Gender': 'None',\n",
       "   'FromDict': True}},\n",
       " {'шторм': {'OriginForm': 'шторм',\n",
       "   'NormalForm': 'шторм',\n",
       "   'POS': 'имя существительное',\n",
       "   'Case': 'именительный',\n",
       "   'Gender': 'мужской род',\n",
       "   'FromDict': True}},\n",
       " {'шёл': {'OriginForm': 'шёл',\n",
       "   'NormalForm': 'идти',\n",
       "   'POS': 'глагол (личная форма)',\n",
       "   'Case': 'None',\n",
       "   'Gender': 'мужской род',\n",
       "   'FromDict': True}},\n",
       " {'назад': {'OriginForm': 'назад',\n",
       "   'NormalForm': 'назад',\n",
       "   'POS': 'наречие',\n",
       "   'Case': 'None',\n",
       "   'Gender': 'None',\n",
       "   'FromDict': True}},\n",
       " {'и': {'OriginForm': 'и',\n",
       "   'NormalForm': 'и',\n",
       "   'POS': 'союз',\n",
       "   'Case': 'None',\n",
       "   'Gender': 'None',\n",
       "   'FromDict': True}},\n",
       " {'вперёд': {'OriginForm': 'вперёд',\n",
       "   'NormalForm': 'вперёд',\n",
       "   'POS': 'наречие',\n",
       "   'Case': 'None',\n",
       "   'Gender': 'None',\n",
       "   'FromDict': True}}]"
      ]
     },
     "metadata": {},
     "execution_count": 12
    }
   ],
   "metadata": {
    "id": "Sv25zaSjAYDZ",
    "outputId": "f4817335-9c22-49f9-f021-02662e75d86f"
   }
  },
  {
   "cell_type": "markdown",
   "source": [
    "### Задание 4.\n",
    "Напишите функцию `save_morph_results()`, сохраняющую структуру данных, получаемую функцией `parse_text()`, в текстовый файл формата JSON."
   ],
   "metadata": {
    "id": "h2atM2dKAYDa"
   }
  },
  {
   "cell_type": "code",
   "execution_count": 13,
   "source": [
    "def save_morph_results(d):\r\n",
    "    with open(\"morph_results.json\", \"w+\", encoding='utf-8') as f:\r\n",
    "        tojs = json.dumps(d, indent=4, ensure_ascii=False)\r\n",
    "        f.write(tojs)"
   ],
   "outputs": [],
   "metadata": {
    "id": "1c5PH4ifAYDa"
   }
  },
  {
   "cell_type": "code",
   "execution_count": 14,
   "source": [
    "save_morph_results(parse_text(text_example))"
   ],
   "outputs": [],
   "metadata": {
    "id": "ly8zxzBeAYDa"
   }
  },
  {
   "cell_type": "markdown",
   "source": [
    "### Задание 5.\n",
    "Напишите функцию `get_dictionary()`, на вход которой поступает структура данных, получаемая функцией `parse_text()`, а на выходе формируется словарь, ключами которого являются все нормальные формы слов текста, а в качестве значений хранится следующая информация:\n",
    "- часть речи слова;\n",
    "- частота слова в тексте;\n",
    "- все варианты словоформ в тексте с данной нормальной формой."
   ],
   "metadata": {
    "id": "E8mEMd9sAYDb"
   }
  },
  {
   "cell_type": "code",
   "execution_count": 15,
   "source": [
    "# получаем все слова с такой нормальной формой\r\n",
    "def get_words(data, normal_word):\r\n",
    "    wrds = []\r\n",
    "    for d in data:\r\n",
    "        if list(d.values())[0][NORMAL_FORM]  == normal_word:\r\n",
    "            wrds.append(list(d)[0])\r\n",
    "    return wrds"
   ],
   "outputs": [],
   "metadata": {}
  },
  {
   "cell_type": "code",
   "execution_count": 16,
   "source": [
    "def get_dictionary(parsed):\r\n",
    "    tmp = {}\r\n",
    "    for val in parsed:\r\n",
    "        value = list(val.values())[0]\r\n",
    "        wrds_list = get_words(list(parsed), value[NORMAL_FORM])\r\n",
    "        tmp.update({value[NORMAL_FORM] : { \r\n",
    "            POS   : value[POS], \r\n",
    "            WORDS : wrds_list,\r\n",
    "        }})\r\n",
    "    for k, v in tmp.items():\r\n",
    "        tmp[k].update({FREQ : round(len(v[WORDS]) / len(parsed), 4)}) \r\n",
    "    return tmp"
   ],
   "outputs": [],
   "metadata": {
    "id": "Hr7NdKvEAYDb"
   }
  },
  {
   "cell_type": "code",
   "execution_count": 17,
   "source": [
    "get_dictionary(parse_text(text_example))"
   ],
   "outputs": [
    {
     "output_type": "execute_result",
     "data": {
      "text/plain": [
       "{'дождище': {'POS': 'имя существительное',\n",
       "  'Words': ['дождище'],\n",
       "  'Freq': 0.0286},\n",
       " 'душещипательский': {'POS': 'имя прилагательное (полное)',\n",
       "  'Words': ['душещипательская', 'душещипательская'],\n",
       "  'Freq': 0.0571},\n",
       " 'истоия': {'POS': 'имя существительное', 'Words': ['истоия'], 'Freq': 0.0286},\n",
       " 'дождь': {'POS': 'имя существительное',\n",
       "  'Words': ['дождь', 'дождь', 'дождём'],\n",
       "  'Freq': 0.0857},\n",
       " 'кстати': {'POS': 'союз', 'Words': ['кстати'], 'Freq': 0.0286},\n",
       " 'ещё': {'POS': 'наречие', 'Words': ['еще'], 'Freq': 0.0286},\n",
       " 'дождик': {'POS': 'имя существительное', 'Words': ['дождик'], 'Freq': 0.0286},\n",
       " 'машина': {'POS': 'имя существительное', 'Words': ['машина'], 'Freq': 0.0286},\n",
       " 'машинка': {'POS': 'имя существительное',\n",
       "  'Words': ['машинка'],\n",
       "  'Freq': 0.0286},\n",
       " 'машинный': {'POS': 'имя прилагательное (полное)',\n",
       "  'Words': ['машинное'],\n",
       "  'Freq': 0.0286},\n",
       " 'земля': {'POS': 'имя существительное', 'Words': ['земля'], 'Freq': 0.0286},\n",
       " 'земельный': {'POS': 'имя прилагательное (полное)',\n",
       "  'Words': ['земельный'],\n",
       "  'Freq': 0.0286},\n",
       " 'идти': {'POS': 'глагол (личная форма)',\n",
       "  'Words': ['идет', 'шёл'],\n",
       "  'Freq': 0.0571},\n",
       " 'школа': {'POS': 'имя существительное', 'Words': ['школа'], 'Freq': 0.0286},\n",
       " 'и': {'POS': 'союз', 'Words': ['и', 'и', 'и'], 'Freq': 0.0857},\n",
       " 'сервис': {'POS': 'имя существительное', 'Words': ['сервис'], 'Freq': 0.0286},\n",
       " 'отец': {'POS': 'имя существительное', 'Words': ['отца'], 'Freq': 0.0286},\n",
       " 'с': {'POS': 'предлог', 'Words': ['с', 'с'], 'Freq': 0.0571},\n",
       " 'огонь': {'POS': 'имя существительное', 'Words': ['огнём'], 'Freq': 0.0286},\n",
       " 'вода': {'POS': 'имя существительное', 'Words': ['воды'], 'Freq': 0.0286},\n",
       " 'сразу': {'POS': 'наречие', 'Words': ['сразу'], 'Freq': 0.0286},\n",
       " 'обрыв': {'POS': 'имя существительное', 'Words': ['обрыва'], 'Freq': 0.0286},\n",
       " 'в': {'POS': 'предлог', 'Words': ['в'], 'Freq': 0.0286},\n",
       " 'облако': {'POS': 'имя существительное', 'Words': ['облака'], 'Freq': 0.0286},\n",
       " 'облачный': {'POS': 'имя прилагательное (полное)',\n",
       "  'Words': ['облачные'],\n",
       "  'Freq': 0.0286},\n",
       " 'шторм': {'POS': 'имя существительное', 'Words': ['шторм'], 'Freq': 0.0286},\n",
       " 'назад': {'POS': 'наречие', 'Words': ['назад'], 'Freq': 0.0286},\n",
       " 'вперёд': {'POS': 'наречие', 'Words': ['вперёд'], 'Freq': 0.0286}}"
      ]
     },
     "metadata": {},
     "execution_count": 17
    }
   ],
   "metadata": {
    "id": "l0q2FSrCAYDb",
    "outputId": "77bdf519-e36a-423c-bb87-f739ae67b318"
   }
  },
  {
   "cell_type": "markdown",
   "source": [
    "### Задание 6.\n",
    "Напишите функцию `save_dictionary()`, сохраняющую предыдущую структуру данных в текстовый файл формата JSON. Слова в файле должны быть упорядочены по убыванию частоты."
   ],
   "metadata": {
    "id": "z-4cTSvLAYDb"
   }
  },
  {
   "cell_type": "code",
   "execution_count": 18,
   "source": [
    "def save_dictionary(d):\r\n",
    "    with open(\"get_dictionary_results.json\", \"w+\", encoding='utf-8') as f:\r\n",
    "        tojs = json.dumps(d, indent=4, ensure_ascii=False)\r\n",
    "        f.write(tojs)"
   ],
   "outputs": [],
   "metadata": {
    "id": "NwrlMYLnAYDb"
   }
  },
  {
   "cell_type": "code",
   "execution_count": 19,
   "source": [
    "save_dictionary(get_dictionary(parse_text(text_example)))"
   ],
   "outputs": [],
   "metadata": {}
  },
  {
   "cell_type": "markdown",
   "source": [
    "### Задание 7.\n",
    "Напишите функцию `get_non_dict()`, на вход которой поступает структура данных, получаемая функцией `parse_text()`, а на выходе формируется словарь, содержащий слова текста, отсутствующие в словаре `pymorphy2`, вместе с частотой слова в тексте."
   ],
   "metadata": {
    "id": "IRSDEYoEAYDc"
   }
  },
  {
   "cell_type": "code",
   "execution_count": 20,
   "source": [
    "def get_non_dict(parsed):\r\n",
    "    d = {}\r\n",
    "    for v in parsed:\r\n",
    "        key = list(v)[0]\r\n",
    "        if not v[key][DICT_EXIST]:\r\n",
    "            count = d.get(v[key][ORIGIN_WORD], 0) + 1\r\n",
    "            d.update({ v[key][ORIGIN_WORD] : count})\r\n",
    "    for k, v in d.items():\r\n",
    "        d.update({k : round(v / len(parsed), 4)}) \r\n",
    "    return d"
   ],
   "outputs": [],
   "metadata": {
    "id": "Eg2Por_TAYDc"
   }
  },
  {
   "cell_type": "code",
   "execution_count": 21,
   "source": [
    "get_non_dict(parse_text(text_example))"
   ],
   "outputs": [
    {
     "output_type": "execute_result",
     "data": {
      "text/plain": [
       "{'душещипательская': 0.0571, 'истоия': 0.0286}"
      ]
     },
     "metadata": {},
     "execution_count": 21
    }
   ],
   "metadata": {}
  },
  {
   "cell_type": "markdown",
   "source": [
    "### Задание 8.\n",
    "Напишите функцию `save_non_dict()`, сохраняющую структуру данных, получаемую функцией `get_non_dict()`, в текстовый файл формата TSV (tab-separated values). Слова в файле должны быть упорядочены по убыванию частоты."
   ],
   "metadata": {
    "id": "embnnlxiAYDc"
   }
  },
  {
   "cell_type": "code",
   "execution_count": 26,
   "source": [
    "def save_non_dict(data):\r\n",
    "    sorted_dict = {}\r\n",
    "    sorted_keys = sorted(data, key=data.get, reverse=True)\r\n",
    "    for w in sorted_keys:\r\n",
    "        sorted_dict[w] = data[w]\r\n",
    "    with open('non_dict_results.tsv', 'w', encoding='utf-8') as tsvfile:\r\n",
    "        for k, v in sorted_dict.items():\r\n",
    "            tsvfile.write(f\"{k}\\t{v}\\n\")"
   ],
   "outputs": [],
   "metadata": {
    "id": "D2RnWcxmAYDc"
   }
  },
  {
   "cell_type": "code",
   "execution_count": 27,
   "source": [
    "save_non_dict(get_non_dict(parse_text(text_example)))"
   ],
   "outputs": [],
   "metadata": {}
  },
  {
   "cell_type": "markdown",
   "source": [
    "### Задание 9.\n",
    "Напишите функцию `get_pos_distribution()`, на вход которой поступает словарь, формируемый функцией `get_dictionary()`, а на выходе выдается структура данных, содержащая частотное распределение частей речи в словаре:\n",
    "- часть речи – количество уникальных слов – общее количество слов."
   ],
   "metadata": {
    "id": "eZP6NapSAYDc"
   }
  },
  {
   "cell_type": "code",
   "execution_count": 226,
   "source": [
    "def get_pos_distribution(data):\r\n",
    "    d = {}\r\n",
    "    for _, v in data.items():\r\n",
    "        if d.get(v[POS]) is None:\r\n",
    "            d.update({v[POS] : {UNIQ : 1, COUNT : len(v[WORDS])}})\r\n",
    "        else:\r\n",
    "            d[v[POS]][UNIQ] += 1\r\n",
    "            d[v[POS]][COUNT] += len(v[WORDS])\r\n",
    "    return d"
   ],
   "outputs": [],
   "metadata": {
    "id": "YUlbBKwqAYDd"
   }
  },
  {
   "cell_type": "code",
   "execution_count": 227,
   "source": [
    "get_pos_distribution(get_dictionary(parse_text(text_example)))"
   ],
   "outputs": [
    {
     "output_type": "execute_result",
     "data": {
      "text/plain": [
       "{'имя существительное': {'uniquies': 15, 'count': 17},\n",
       " 'имя прилагательное (полное)': {'uniquies': 4, 'count': 4},\n",
       " 'союз': {'uniquies': 2, 'count': 4},\n",
       " 'наречие': {'uniquies': 4, 'count': 4},\n",
       " 'глагол (личная форма)': {'uniquies': 1, 'count': 1},\n",
       " 'предлог': {'uniquies': 2, 'count': 2}}"
      ]
     },
     "metadata": {},
     "execution_count": 227
    }
   ],
   "metadata": {}
  },
  {
   "cell_type": "code",
   "execution_count": 228,
   "source": [
    "def save_dictionary_2(d):\r\n",
    "    with open(\"get_pos_distribution.json\", \"w+\", encoding='utf-8') as f:\r\n",
    "        tojs = json.dumps(d, indent=4, ensure_ascii=False)\r\n",
    "        f.write(tojs)"
   ],
   "outputs": [],
   "metadata": {}
  },
  {
   "cell_type": "code",
   "execution_count": 229,
   "source": [
    "save_dictionary_2(get_pos_distribution(get_dictionary(parse_text(text_example))))"
   ],
   "outputs": [],
   "metadata": {}
  },
  {
   "cell_type": "markdown",
   "source": [
    "### Задание 10.\n",
    "Создайте текстовую коллекцию - скачайте не менее **10 текстов** разных жанров и разного размера (например, произведения классиков, современных писателей, новостные статьи, научные статьи и т.п.).\n",
    "\n",
    "Учитывайте кодировку – все файлы должны быть в UTF-8."
   ],
   "metadata": {
    "id": "9UwArSLVAYDd"
   }
  },
  {
   "cell_type": "code",
   "execution_count": null,
   "source": [
    "# Ваш код для открытия файлов."
   ],
   "outputs": [],
   "metadata": {
    "id": "SJzBYyOSAYDd"
   }
  },
  {
   "cell_type": "markdown",
   "source": [
    "### Задание 11.\n",
    "Обработайте текстовую коллекцию при помощи функций `parse_text()`, `get_dictionary()` и `get_non_dict()`, и сохраните результаты в текстовых файлах при помощи функций `save_morph_results()`, `save_dictionary()` и `save_non_dict()`.\n",
    "\n",
    "Для каждого входного текстового файла выведите на экран следующую информацию:\n",
    "- имя файла;\n",
    "- размер файла в байтах;\n",
    "- размер текста в словах (общее количество слов в тексте);\n",
    "- размер словаря (количество уникальных слов в тексте);\n",
    "- время обработки файла (в секундах)."
   ],
   "metadata": {
    "id": "JSjGvSAVAYDd"
   }
  },
  {
   "cell_type": "code",
   "execution_count": null,
   "source": [
    "# Ваш код для обработки коллекции и вывода результатов"
   ],
   "outputs": [],
   "metadata": {
    "id": "YEG5GOXdAYDd"
   }
  },
  {
   "cell_type": "markdown",
   "source": [
    "### Задание 12.\n",
    "Для самого большого словаря выполните следующее:\n",
    "- постройте частотное распределение слов: по оси ординат – частота, по оси абсцисс – слова, упорядоченные по убыванию частоты (по-другому, *ранги* слов). В качестве значений на оси абсцисс можно выводить ранги слов, а не сами слова;\n",
    "- постройте в виде диаграммы распределение частей речи, полученное функцией `get_pos_distribution()`."
   ],
   "metadata": {
    "id": "PuznH_oQAYDd"
   }
  },
  {
   "cell_type": "code",
   "execution_count": null,
   "source": [
    "# Ваш код для вывода графика и диаграммы"
   ],
   "outputs": [],
   "metadata": {
    "id": "vsnPPm4nAYDe"
   }
  },
  {
   "cell_type": "markdown",
   "source": [
    "### Задание 13.\n",
    "Постройте график зависимость времени морфологического анализа от размера текстового файла."
   ],
   "metadata": {
    "id": "enE5SdVwAYDe"
   }
  },
  {
   "cell_type": "code",
   "execution_count": null,
   "source": [
    "# Ваш код для вывода графика"
   ],
   "outputs": [],
   "metadata": {
    "id": "gBXbc2AGAYDe"
   }
  }
 ],
 "metadata": {
  "colab": {
   "collapsed_sections": [],
   "name": "lab1_course2.ipynb",
   "provenance": []
  },
  "kernelspec": {
   "name": "python3",
   "display_name": "Python 3.8.5 64-bit ('base': conda)"
  },
  "language_info": {
   "codemirror_mode": {
    "name": "ipython",
    "version": 3
   },
   "file_extension": ".py",
   "mimetype": "text/x-python",
   "name": "python",
   "nbconvert_exporter": "python",
   "pygments_lexer": "ipython3",
   "version": "3.8.5"
  },
  "interpreter": {
   "hash": "b3ba2566441a7c06988d0923437866b63cedc61552a5af99d1f4fb67d367b25f"
  }
 },
 "nbformat": 4,
 "nbformat_minor": 4
}